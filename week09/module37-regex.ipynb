{
  "cells": [
    {
      "cell_type": "markdown",
      "metadata": {
        "id": "view-in-github",
        "colab_type": "text"
      },
      "source": [
        "<a href=\"https://colab.research.google.com/github/taegeonyu/hds5210-2023/blob/main/week09/module37-regex.ipynb\" target=\"_parent\"><img src=\"https://colab.research.google.com/assets/colab-badge.svg\" alt=\"Open In Colab\"/></a>"
      ]
    },
    {
      "cell_type": "markdown",
      "metadata": {
        "id": "991RAdVOUtMn"
      },
      "source": [
        "# Regular Expressions\n",
        "\n",
        "Regular Expressions can be hard. Luckily, there are some great online tools to help you build and test them:\n",
        "\n",
        "https://regex101.com/\n",
        "\n",
        "---"
      ]
    },
    {
      "cell_type": "code",
      "execution_count": null,
      "metadata": {
        "id": "1M35KXgWUtMo"
      },
      "outputs": [],
      "source": [
        "import re"
      ]
    },
    {
      "cell_type": "code",
      "execution_count": null,
      "metadata": {
        "id": "Y9dHrLMfUtMo"
      },
      "outputs": [],
      "source": [
        "phone1 = \"314-598-5494\""
      ]
    },
    {
      "cell_type": "code",
      "execution_count": null,
      "metadata": {
        "id": "Dt1-O0B2UtMo"
      },
      "outputs": [],
      "source": [
        "matches = re.match(r\"(\\d{3})-(\\d{3})-(\\d{4})\",phone1)"
      ]
    },
    {
      "cell_type": "code",
      "execution_count": null,
      "metadata": {
        "id": "VZIITEG-UtMo"
      },
      "outputs": [],
      "source": [
        "matches.group(0)"
      ]
    },
    {
      "cell_type": "code",
      "execution_count": null,
      "metadata": {
        "id": "3n1MeN5eUtMp"
      },
      "outputs": [],
      "source": [
        "phones = [\n",
        "    '314-598-5494',\n",
        "    '(555) 321-1234',\n",
        "    '+1 555-123-4567'\n",
        "]"
      ]
    },
    {
      "cell_type": "code",
      "execution_count": null,
      "metadata": {
        "id": "2Vhnw9vuUtMp"
      },
      "outputs": [],
      "source": [
        "for phone in phones:\n",
        "    matches = re.match(r\"(\\(?\\d{3}\\)?)[-\\ ](\\d{3})-(\\d{4})\", phone)\n",
        "    if matches is None:\n",
        "        print(f\"Doesn't match: {phone}\")\n",
        "    else:\n",
        "        print(matches.group(0))"
      ]
    },
    {
      "cell_type": "markdown",
      "metadata": {
        "id": "vTk4bXihUtMp"
      },
      "source": [
        "# Name Parsing"
      ]
    },
    {
      "cell_type": "code",
      "execution_count": null,
      "metadata": {
        "id": "gHvTGwU5UtMp"
      },
      "outputs": [],
      "source": [
        "# Names are formatted as First MI. Last\n",
        "name=\"Paul E. Boal\""
      ]
    },
    {
      "cell_type": "code",
      "execution_count": null,
      "metadata": {
        "id": "8D4tgIwrUtMp"
      },
      "outputs": [],
      "source": [
        "matches = re.match(r\"^([\\w]+) ([A-Z])\\. ([\\w]+)\", name)"
      ]
    },
    {
      "cell_type": "code",
      "execution_count": null,
      "metadata": {
        "id": "gg9KWkyzUtMp"
      },
      "outputs": [],
      "source": [
        "# The whole match\n",
        "matches.group(0)"
      ]
    },
    {
      "cell_type": "code",
      "execution_count": null,
      "metadata": {
        "id": "05QfosUWUtMp"
      },
      "outputs": [],
      "source": [
        "# THe first subgroup\n",
        "matches.group(1)"
      ]
    },
    {
      "cell_type": "code",
      "execution_count": null,
      "metadata": {
        "id": "2x3eP9DzUtMp"
      },
      "outputs": [],
      "source": [
        "matches.group(2)"
      ]
    },
    {
      "cell_type": "code",
      "execution_count": null,
      "metadata": {
        "id": "YX5YNfq9UtMp"
      },
      "outputs": [],
      "source": [
        "matches.group(3)"
      ]
    },
    {
      "cell_type": "markdown",
      "metadata": {
        "id": "cKcNaz-aUtMp"
      },
      "source": [
        "# Add on Credentials!"
      ]
    },
    {
      "cell_type": "code",
      "execution_count": null,
      "metadata": {
        "id": "at_ygzJ7UtMq"
      },
      "outputs": [],
      "source": [
        "names = [\n",
        "    \"Steven G. Sanders, MD\",\n",
        "    \"Alice D. Edwards, PhD\",\n",
        "    \"Joseph B. Lester, MD, PhD\"\n",
        "]"
      ]
    },
    {
      "cell_type": "code",
      "execution_count": null,
      "metadata": {
        "id": "Cl8vmd8ZUtMq"
      },
      "outputs": [],
      "source": [
        "for name in names:\n",
        "    matches = re.match(r\"^([\\w]+) ([A-Z])\\. ([\\w]+), ([\\w\\.\\, ]+)\", name)\n",
        "    first = matches.group(1)\n",
        "    middle = matches.group(2)\n",
        "    last = matches.group(3)\n",
        "    creds = matches.group(4).split(', ')\n",
        "    print([first, middle, last, creds])"
      ]
    },
    {
      "cell_type": "markdown",
      "metadata": {
        "id": "vhCymYQsUtMq"
      },
      "source": [
        "# Date of Birth\n",
        "\n",
        "Month ##, ####"
      ]
    },
    {
      "cell_type": "code",
      "execution_count": null,
      "metadata": {
        "id": "kil225HhUtMq"
      },
      "outputs": [],
      "source": [
        "birthday=\"March 25, 2011\""
      ]
    },
    {
      "cell_type": "code",
      "execution_count": null,
      "metadata": {
        "id": "TKR0hFZbUtMq"
      },
      "outputs": [],
      "source": [
        "matches = re.match(r\"([a-zA-Z]+) ([0-9]{1,2}), ([0-9]{4})\", birthday)"
      ]
    },
    {
      "cell_type": "code",
      "execution_count": null,
      "metadata": {
        "id": "Ub3wsjA_UtMq"
      },
      "outputs": [],
      "source": [
        "matches.group(0)"
      ]
    },
    {
      "cell_type": "code",
      "execution_count": null,
      "metadata": {
        "id": "YBzpCIeZUtMq"
      },
      "outputs": [],
      "source": [
        "matches.group(1)"
      ]
    },
    {
      "cell_type": "code",
      "execution_count": null,
      "metadata": {
        "id": "ieFpjjnJUtMq"
      },
      "outputs": [],
      "source": [
        "matches.group(2)"
      ]
    },
    {
      "cell_type": "code",
      "execution_count": null,
      "metadata": {
        "id": "Z-9iVZXmUtMq"
      },
      "outputs": [],
      "source": [
        "matches.group(3)"
      ]
    },
    {
      "cell_type": "code",
      "execution_count": null,
      "metadata": {
        "id": "aiGf323OUtMq"
      },
      "outputs": [],
      "source": []
    }
  ],
  "metadata": {
    "kernelspec": {
      "display_name": "Python 3",
      "language": "python",
      "name": "python3"
    },
    "language_info": {
      "codemirror_mode": {
        "name": "ipython",
        "version": 3
      },
      "file_extension": ".py",
      "mimetype": "text/x-python",
      "name": "python",
      "nbconvert_exporter": "python",
      "pygments_lexer": "ipython3",
      "version": "3.6.7"
    },
    "colab": {
      "provenance": [],
      "include_colab_link": true
    }
  },
  "nbformat": 4,
  "nbformat_minor": 0
}