{
  "cells": [
    {
      "cell_type": "markdown",
      "metadata": {
        "id": "aerYESLei6ym"
      },
      "source": [
        "# Week 11 In-Class Challenge\n",
        "\n",
        "This week, we are doing an in-class exercise.  This will be worth 5 extra credit points for each team that creates a successful solution that follows the programming guidelines we've established this semester.  All the requirements for this programming challenge are described below.  If you complete them all successfully, you will receive 5 points.  If you do not, you will receive 0 points.\n",
        "\n",
        "Work as a group.  You will all receive the same number of points.\n",
        "\n",
        "## Requirements\n",
        "1. Your code must be a function named `week11()` that takes no parameters\n",
        "2. Your `week11()` function must read this CSV from the internet and use it as input: https://hds5210-data.s3.amazonaws.com/icd10.csv\n",
        "  * This file has three columns: CODE, SHORT DESCRIPTION, LONG DESCRIPTION, and NF EXCL\n",
        "  * The NF EXCL indicates that this code is excluded from a \"no fault\" list related to workers compensation insurance claims\n",
        "3. Your `week11()` function must use Pandas functions to generate new columns and filter the dataframe using the following rules\n",
        "   * Create a new column called \"CODE TYPE\" that contains only the first character of the CODE column. For example if CODE=\"A001\" then CODE TYPE=\"A\"\n",
        "   * Create a new column called \"CODE NUM\" that contains only the numeric part of the CODE column and make it numeric. For example if CODE=\"A001\" then CODE NUM=1\n",
        "   * Some CODE NUM portions cannot be converted directly because the have an \"X\" in them.  Convert that \"X\" to a \".\" and then conver the CODE NUM to a numeric value.  For example if CODE=\"E1037X1\" then CODE NUM=1037.1\n",
        "   * Filter your results to only include those rows where NF EXCL=\"Y\"\n",
        "   * Sort your results in ascending order by CODE TYPE and then by CODE NUM\n",
        "4. Use the \"checker\" in the last cell to confirm that your results are correct.  If the checker gives any errors, you will receive no credit.\n",
        "---"
      ]
    },
    {
      "cell_type": "code",
      "execution_count": null,
      "metadata": {
        "id": "e-174PK0i6yo"
      },
      "outputs": [],
      "source": [
        "# This is the checker I created\n",
        "\n",
        "import json\n",
        "import pandas as pd\n",
        "import numpy as np\n",
        "\n",
        "def check_result(submission):\n",
        "\n",
        "    try:\n",
        "        obj = json.loads(str(submission))\n",
        "    except:\n",
        "        return \"Your submission could not be interpreted as valid JSON. Try using https://jsonlint.com to validate your output: {}\".format(str(submission))\n",
        "\n",
        "    if not isinstance(obj, list):\n",
        "        return \"Your submission was not a <list>, it was a {}\".format(type(obj))\n",
        "\n",
        "    try:\n",
        "        df = pd.DataFrame(obj)\n",
        "    except:\n",
        "        return \"Your submission could not be converted to a Pandas dataframe.  It looks like this: {}\".format(json.dumps(obj, indent=4))\n",
        "\n",
        "    # Check shape\n",
        "    expected_columns = ['CODE', 'SHORT DESCRIPTION', 'LONG DESCRIPTION', 'NF EXCL', 'CODE TYPE', 'CODE NUM']\n",
        "\n",
        "    # Updated to allow for 1098 or 1090\n",
        "    if df.shape != (1090, 6) and df.shape != (1098,6):\n",
        "        response = f\"Your submission has the wrong shape.  It should have 1091 rows and only 6 columns.  Yours is {df.shape}.\"\n",
        "        if df.shape[0] > 1090:\n",
        "            response += \"\\nMaybe you didn't filter the results or remove duplicates correctly?\"\n",
        "        if df.shape[1] > 6:\n",
        "            response += \"\\nMaybe you have some extra columns?\\nI want this: {}\\nYou gave me {}\".format(expected_columns, list(df.columns))\n",
        "        if df.shape[1] < 6:\n",
        "            response += \"\\nMaybe you removed some columns I was expecting.\\nI want this: {}\\nYou gave me {}\".format(expected_columns, list(df.columns))\n",
        "        return response\n",
        "\n",
        "    # Check column names\n",
        "    if list(df.columns) != expected_columns:\n",
        "        return \"It looks like you don't have the right columns.\\nI want this: {}\\nYou gave me this: {}\".format(expected_columns, list(df.columns))\n",
        "\n",
        "    # Check the CODE NUM is numeric\n",
        "    if not (df['CODE NUM'].dtype == np.dtype('float64') or df['CODE NUM'].dtype == np.dtype('int64')):\n",
        "        return \"It looks like your CODE NUM column is not entirely numeric.  You can check that with df['CODE NUM'].str.isnumeric().all()\"\n",
        "\n",
        "    # Check sort order\n",
        "    cp = df.copy()\n",
        "    cp.sort_values(['CODE TYPE','CODE NUM'], inplace=True)\n",
        "    cp = cp.reset_index()\n",
        "\n",
        "    df = df.reset_index()\n",
        "    if not df[['CODE','CODE TYPE','CODE NUM']].eq(cp[['CODE','CODE TYPE','CODE NUM']]).all().all():\n",
        "        print(df.eq(cp).all())\n",
        "        return \"It looks like you may not have sorted the data frame by CODE TYPE and CODE NUM as required. Sort by those values and try again.\"\n",
        "\n",
        "    return \"You did it!!\"\n"
      ]
    },
    {
      "cell_type": "code",
      "execution_count": null,
      "metadata": {
        "id": "PXQ0ZSRqi6yo"
      },
      "outputs": [],
      "source": [
        "import pandas as pd\n",
        "\n",
        "def week11():\n",
        "    \"\"\"() -> pd.DataFrame\n",
        "\n",
        "    This function will process the file named in step 2 of the instructions above\n",
        "    using the rules in step 3 above.  It will return a dataframe that contains\n",
        "    the filtered, sorted, and enhanced results.\n",
        "\n",
        "    For my tests, I will validate the shape to start with.\n",
        "    If I have more time, I can figure out how to write tests for the other requirements.\n",
        "\n",
        "    >>> week11().shape\n",
        "    (1090, 6)\n",
        "    \"\"\"\n",
        "\n",
        "    # Step 1: Read file file\n",
        "    hospitals = pd.read_csv('https://hds5210-data.s3.amazonaws.com/Section111ValidICD10-Jan2024.csv')\n",
        "\n",
        "    # Step 2: Filter the data frame to just those records with NF EXCL == 'Y'\n",
        "    nf = hospitals[hospitals['NF EXCL'] == 'Y'].copy()\n",
        "\n",
        "    # Step 3: Separate out the CODE TYPE\n",
        "    nf['CODE TYPE'] = nf['CODE'].str[0]\n",
        "\n",
        "    # Step 4: Get the CODE NUM as a numeric value\n",
        "    nf['CODE NUM'] = nf['CODE'].str[1:].str.replace('X','.').astype(float)\n",
        "\n",
        "    # Step 5: Sort the data frame\n",
        "    nf.sort_values(['CODE TYPE','CODE NUM'], inplace=True)\n",
        "\n",
        "    # It looks like I forgot to include this requirement, but here's\n",
        "    # what I was looking for in terms of unique values\n",
        "    nf.drop_duplicates(subset=['CODE TYPE','CODE NUM'], keep='first', inplace=True)\n",
        "\n",
        "    # This is a dummy piece of code that just passes my one doctest.\n",
        "    # Obviously, it won't pass the checker at the bottom.\n",
        "    # You'll want to delete this before you try checking your answer.\n",
        "    # final_data = pd.DataFrame([[x for x in range(6)] for x in range(1090)])\n",
        "\n",
        "    return nf\n"
      ]
    },
    {
      "cell_type": "code",
      "execution_count": null,
      "metadata": {
        "id": "Z4IazQtNi6yo",
        "outputId": "ec572a2f-e6e6-4500-ce11-dd3280a9a930"
      },
      "outputs": [
        {
          "name": "stdout",
          "output_type": "stream",
          "text": [
            "200\n",
            "\"You did it!!\"\n"
          ]
        }
      ],
      "source": [
        "import requests\n",
        "\n",
        "r = requests.post('https://rln3ys6dciybh6cydvapszesna0oxcyn.lambda-url.us-east-1.on.aws/',\n",
        "                  headers={\"content-type\": \"application/json\"},\n",
        "                  data=week11().to_json(orient='records'))\n",
        "\n",
        "print(r.status_code)\n",
        "print(r.text)"
      ]
    },
    {
      "cell_type": "code",
      "execution_count": null,
      "metadata": {
        "id": "yMUaTWUTi6yp"
      },
      "outputs": [],
      "source": []
    }
  ],
  "metadata": {
    "kernelspec": {
      "display_name": ".venv",
      "language": "python",
      "name": "python3"
    },
    "language_info": {
      "codemirror_mode": {
        "name": "ipython",
        "version": 3
      },
      "file_extension": ".py",
      "mimetype": "text/x-python",
      "name": "python",
      "nbconvert_exporter": "python",
      "pygments_lexer": "ipython3",
      "version": "3.9.16"
    },
    "colab": {
      "provenance": []
    }
  },
  "nbformat": 4,
  "nbformat_minor": 0
}