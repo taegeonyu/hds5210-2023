{
  "cells": [
    {
      "cell_type": "code",
      "execution_count": null,
      "metadata": {
        "id": "TfEVxJOLaPeB"
      },
      "outputs": [],
      "source": [
        "import pandas as pd\n",
        "data = pd.DataFrame([['a',1],['B',None],['C c',3]], columns=['letter','number'])"
      ]
    },
    {
      "cell_type": "code",
      "execution_count": null,
      "metadata": {
        "id": "7F2IZefoaPeC",
        "outputId": "1c5918a3-2750-4518-a32a-fd57242fa34f"
      },
      "outputs": [
        {
          "data": {
            "text/html": [
              "<div>\n",
              "<style scoped>\n",
              "    .dataframe tbody tr th:only-of-type {\n",
              "        vertical-align: middle;\n",
              "    }\n",
              "\n",
              "    .dataframe tbody tr th {\n",
              "        vertical-align: top;\n",
              "    }\n",
              "\n",
              "    .dataframe thead th {\n",
              "        text-align: right;\n",
              "    }\n",
              "</style>\n",
              "<table border=\"1\" class=\"dataframe\">\n",
              "  <thead>\n",
              "    <tr style=\"text-align: right;\">\n",
              "      <th></th>\n",
              "      <th>letter</th>\n",
              "      <th>number</th>\n",
              "    </tr>\n",
              "  </thead>\n",
              "  <tbody>\n",
              "    <tr>\n",
              "      <th>0</th>\n",
              "      <td>a</td>\n",
              "      <td>1.0</td>\n",
              "    </tr>\n",
              "    <tr>\n",
              "      <th>1</th>\n",
              "      <td>B</td>\n",
              "      <td>NaN</td>\n",
              "    </tr>\n",
              "    <tr>\n",
              "      <th>2</th>\n",
              "      <td>C c</td>\n",
              "      <td>3.0</td>\n",
              "    </tr>\n",
              "  </tbody>\n",
              "</table>\n",
              "</div>"
            ],
            "text/plain": [
              "  letter  number\n",
              "0      a     1.0\n",
              "1      B     NaN\n",
              "2    C c     3.0"
            ]
          },
          "execution_count": 2,
          "metadata": {},
          "output_type": "execute_result"
        }
      ],
      "source": [
        "data"
      ]
    },
    {
      "cell_type": "markdown",
      "metadata": {
        "id": "VaIG-QwbaPeD"
      },
      "source": [
        "---\n",
        "### Fill NaN with a fixed value"
      ]
    },
    {
      "cell_type": "code",
      "execution_count": null,
      "metadata": {
        "id": "zbndcN02aPeD"
      },
      "outputs": [],
      "source": [
        "data['number'].fillna(0)"
      ]
    },
    {
      "cell_type": "markdown",
      "metadata": {
        "id": "ELidiHSDaPeE"
      },
      "source": [
        "---\n",
        "### Fill NaN with a calculated value"
      ]
    },
    {
      "cell_type": "code",
      "execution_count": null,
      "metadata": {
        "id": "kWTDfgK1aPeE"
      },
      "outputs": [],
      "source": [
        "data['number'].fillna(data['number'].mean())"
      ]
    },
    {
      "cell_type": "markdown",
      "metadata": {
        "id": "5VVn2vWBaPeE"
      },
      "source": [
        "---\n",
        "### Fill NA with another column"
      ]
    },
    {
      "cell_type": "code",
      "execution_count": null,
      "metadata": {
        "id": "pzFpdnX4aPeE"
      },
      "outputs": [],
      "source": [
        "data['number'].fillna(data['letter'])"
      ]
    },
    {
      "cell_type": "code",
      "execution_count": null,
      "metadata": {
        "id": "fvnTUvndaPeF"
      },
      "outputs": [],
      "source": []
    },
    {
      "cell_type": "code",
      "execution_count": null,
      "metadata": {
        "id": "d3sF3px7aPeF"
      },
      "outputs": [],
      "source": [
        "import pandas as pd\n",
        "states = pd.DataFrame([\n",
        "    ['1','AK',703423],\n",
        "    [pd.NA, 'AL', 5634923],\n",
        "    [pd.NA, 'AR', 3029341],\n",
        "    [pd.NA, 'AZ', 2317412],\n",
        "    ['2', 'CA', 13493821],\n",
        "    [pd.NA, 'CO', 5434124]\n",
        "], columns=['region','state','population'])"
      ]
    },
    {
      "cell_type": "code",
      "execution_count": null,
      "metadata": {
        "id": "t5ktrbcoaPeF",
        "outputId": "060e8a6f-8060-4dc9-9285-bbfde0aa8355"
      },
      "outputs": [
        {
          "data": {
            "text/html": [
              "<div>\n",
              "<style scoped>\n",
              "    .dataframe tbody tr th:only-of-type {\n",
              "        vertical-align: middle;\n",
              "    }\n",
              "\n",
              "    .dataframe tbody tr th {\n",
              "        vertical-align: top;\n",
              "    }\n",
              "\n",
              "    .dataframe thead th {\n",
              "        text-align: right;\n",
              "    }\n",
              "</style>\n",
              "<table border=\"1\" class=\"dataframe\">\n",
              "  <thead>\n",
              "    <tr style=\"text-align: right;\">\n",
              "      <th></th>\n",
              "      <th>region</th>\n",
              "      <th>state</th>\n",
              "      <th>population</th>\n",
              "    </tr>\n",
              "  </thead>\n",
              "  <tbody>\n",
              "    <tr>\n",
              "      <th>0</th>\n",
              "      <td>1</td>\n",
              "      <td>AK</td>\n",
              "      <td>703423</td>\n",
              "    </tr>\n",
              "    <tr>\n",
              "      <th>1</th>\n",
              "      <td>&lt;NA&gt;</td>\n",
              "      <td>AL</td>\n",
              "      <td>5634923</td>\n",
              "    </tr>\n",
              "    <tr>\n",
              "      <th>2</th>\n",
              "      <td>&lt;NA&gt;</td>\n",
              "      <td>AR</td>\n",
              "      <td>3029341</td>\n",
              "    </tr>\n",
              "    <tr>\n",
              "      <th>3</th>\n",
              "      <td>&lt;NA&gt;</td>\n",
              "      <td>AZ</td>\n",
              "      <td>2317412</td>\n",
              "    </tr>\n",
              "    <tr>\n",
              "      <th>4</th>\n",
              "      <td>2</td>\n",
              "      <td>CA</td>\n",
              "      <td>13493821</td>\n",
              "    </tr>\n",
              "    <tr>\n",
              "      <th>5</th>\n",
              "      <td>&lt;NA&gt;</td>\n",
              "      <td>CO</td>\n",
              "      <td>5434124</td>\n",
              "    </tr>\n",
              "  </tbody>\n",
              "</table>\n",
              "</div>"
            ],
            "text/plain": [
              "  region state  population\n",
              "0      1    AK      703423\n",
              "1   <NA>    AL     5634923\n",
              "2   <NA>    AR     3029341\n",
              "3   <NA>    AZ     2317412\n",
              "4      2    CA    13493821\n",
              "5   <NA>    CO     5434124"
            ]
          },
          "execution_count": 21,
          "metadata": {},
          "output_type": "execute_result"
        }
      ],
      "source": [
        "states"
      ]
    },
    {
      "cell_type": "code",
      "execution_count": null,
      "metadata": {
        "id": "hSKQiMNNaPeF"
      },
      "outputs": [],
      "source": [
        "# states['region_clean'] = states['region'].fillna(states['state'])\n",
        "states['region'].fillna(states['state'], inplace=True)"
      ]
    },
    {
      "cell_type": "code",
      "execution_count": null,
      "metadata": {
        "id": "UOnTTpt0aPeF",
        "outputId": "7ab0f09f-1eb9-4b48-92e3-a784029a584e"
      },
      "outputs": [
        {
          "data": {
            "text/html": [
              "<div>\n",
              "<style scoped>\n",
              "    .dataframe tbody tr th:only-of-type {\n",
              "        vertical-align: middle;\n",
              "    }\n",
              "\n",
              "    .dataframe tbody tr th {\n",
              "        vertical-align: top;\n",
              "    }\n",
              "\n",
              "    .dataframe thead th {\n",
              "        text-align: right;\n",
              "    }\n",
              "</style>\n",
              "<table border=\"1\" class=\"dataframe\">\n",
              "  <thead>\n",
              "    <tr style=\"text-align: right;\">\n",
              "      <th></th>\n",
              "      <th>region</th>\n",
              "      <th>state</th>\n",
              "      <th>population</th>\n",
              "    </tr>\n",
              "  </thead>\n",
              "  <tbody>\n",
              "    <tr>\n",
              "      <th>0</th>\n",
              "      <td>1</td>\n",
              "      <td>AK</td>\n",
              "      <td>703423</td>\n",
              "    </tr>\n",
              "    <tr>\n",
              "      <th>1</th>\n",
              "      <td>AL</td>\n",
              "      <td>AL</td>\n",
              "      <td>5634923</td>\n",
              "    </tr>\n",
              "    <tr>\n",
              "      <th>2</th>\n",
              "      <td>AR</td>\n",
              "      <td>AR</td>\n",
              "      <td>3029341</td>\n",
              "    </tr>\n",
              "    <tr>\n",
              "      <th>3</th>\n",
              "      <td>AZ</td>\n",
              "      <td>AZ</td>\n",
              "      <td>2317412</td>\n",
              "    </tr>\n",
              "    <tr>\n",
              "      <th>4</th>\n",
              "      <td>2</td>\n",
              "      <td>CA</td>\n",
              "      <td>13493821</td>\n",
              "    </tr>\n",
              "    <tr>\n",
              "      <th>5</th>\n",
              "      <td>CO</td>\n",
              "      <td>CO</td>\n",
              "      <td>5434124</td>\n",
              "    </tr>\n",
              "  </tbody>\n",
              "</table>\n",
              "</div>"
            ],
            "text/plain": [
              "  region state  population\n",
              "0      1    AK      703423\n",
              "1     AL    AL     5634923\n",
              "2     AR    AR     3029341\n",
              "3     AZ    AZ     2317412\n",
              "4      2    CA    13493821\n",
              "5     CO    CO     5434124"
            ]
          },
          "execution_count": 23,
          "metadata": {},
          "output_type": "execute_result"
        }
      ],
      "source": [
        "states"
      ]
    },
    {
      "cell_type": "code",
      "execution_count": null,
      "metadata": {
        "id": "xP7xR1csaPeF"
      },
      "outputs": [],
      "source": []
    },
    {
      "cell_type": "code",
      "execution_count": null,
      "metadata": {
        "id": "y00Mgz4HaPeF"
      },
      "outputs": [],
      "source": [
        "import pandas as pd\n",
        "states = pd.DataFrame([\n",
        "    ['1','AK',703423],\n",
        "    [pd.NA, 'AL', 5634923],\n",
        "    [pd.NA, 'AR', 3029341],\n",
        "    [pd.NA, 'AZ', 2317412],\n",
        "    ['2', 'CA', 13493821],\n",
        "    [pd.NA, 'CO', 5434124]\n",
        "], columns=['region','state','population'])"
      ]
    },
    {
      "cell_type": "code",
      "execution_count": null,
      "metadata": {
        "id": "c7ou0rXSaPeG",
        "outputId": "ce91893d-073e-48a7-aeba-46ea07bc7913"
      },
      "outputs": [
        {
          "data": {
            "text/html": [
              "<div>\n",
              "<style scoped>\n",
              "    .dataframe tbody tr th:only-of-type {\n",
              "        vertical-align: middle;\n",
              "    }\n",
              "\n",
              "    .dataframe tbody tr th {\n",
              "        vertical-align: top;\n",
              "    }\n",
              "\n",
              "    .dataframe thead th {\n",
              "        text-align: right;\n",
              "    }\n",
              "</style>\n",
              "<table border=\"1\" class=\"dataframe\">\n",
              "  <thead>\n",
              "    <tr style=\"text-align: right;\">\n",
              "      <th></th>\n",
              "      <th>region</th>\n",
              "      <th>state</th>\n",
              "      <th>population</th>\n",
              "    </tr>\n",
              "  </thead>\n",
              "  <tbody>\n",
              "    <tr>\n",
              "      <th>0</th>\n",
              "      <td>1</td>\n",
              "      <td>AK</td>\n",
              "      <td>703423</td>\n",
              "    </tr>\n",
              "    <tr>\n",
              "      <th>1</th>\n",
              "      <td>&lt;NA&gt;</td>\n",
              "      <td>AL</td>\n",
              "      <td>5634923</td>\n",
              "    </tr>\n",
              "    <tr>\n",
              "      <th>2</th>\n",
              "      <td>&lt;NA&gt;</td>\n",
              "      <td>AR</td>\n",
              "      <td>3029341</td>\n",
              "    </tr>\n",
              "    <tr>\n",
              "      <th>3</th>\n",
              "      <td>&lt;NA&gt;</td>\n",
              "      <td>AZ</td>\n",
              "      <td>2317412</td>\n",
              "    </tr>\n",
              "    <tr>\n",
              "      <th>4</th>\n",
              "      <td>2</td>\n",
              "      <td>CA</td>\n",
              "      <td>13493821</td>\n",
              "    </tr>\n",
              "    <tr>\n",
              "      <th>5</th>\n",
              "      <td>&lt;NA&gt;</td>\n",
              "      <td>CO</td>\n",
              "      <td>5434124</td>\n",
              "    </tr>\n",
              "  </tbody>\n",
              "</table>\n",
              "</div>"
            ],
            "text/plain": [
              "  region state  population\n",
              "0      1    AK      703423\n",
              "1   <NA>    AL     5634923\n",
              "2   <NA>    AR     3029341\n",
              "3   <NA>    AZ     2317412\n",
              "4      2    CA    13493821\n",
              "5   <NA>    CO     5434124"
            ]
          },
          "execution_count": 26,
          "metadata": {},
          "output_type": "execute_result"
        }
      ],
      "source": [
        "states"
      ]
    },
    {
      "cell_type": "code",
      "execution_count": null,
      "metadata": {
        "id": "rzoK4AgzaPeG"
      },
      "outputs": [],
      "source": [
        "states['region'].fillna(method='ffill', inplace=True)"
      ]
    },
    {
      "cell_type": "code",
      "execution_count": null,
      "metadata": {
        "id": "TM09uEJGaPeG",
        "outputId": "009a9d8d-75cc-4704-f18b-34c8dcabfbe5"
      },
      "outputs": [
        {
          "data": {
            "text/html": [
              "<div>\n",
              "<style scoped>\n",
              "    .dataframe tbody tr th:only-of-type {\n",
              "        vertical-align: middle;\n",
              "    }\n",
              "\n",
              "    .dataframe tbody tr th {\n",
              "        vertical-align: top;\n",
              "    }\n",
              "\n",
              "    .dataframe thead th {\n",
              "        text-align: right;\n",
              "    }\n",
              "</style>\n",
              "<table border=\"1\" class=\"dataframe\">\n",
              "  <thead>\n",
              "    <tr style=\"text-align: right;\">\n",
              "      <th></th>\n",
              "      <th>region</th>\n",
              "      <th>state</th>\n",
              "      <th>population</th>\n",
              "    </tr>\n",
              "  </thead>\n",
              "  <tbody>\n",
              "    <tr>\n",
              "      <th>0</th>\n",
              "      <td>1</td>\n",
              "      <td>AK</td>\n",
              "      <td>703423</td>\n",
              "    </tr>\n",
              "    <tr>\n",
              "      <th>1</th>\n",
              "      <td>1</td>\n",
              "      <td>AL</td>\n",
              "      <td>5634923</td>\n",
              "    </tr>\n",
              "    <tr>\n",
              "      <th>2</th>\n",
              "      <td>1</td>\n",
              "      <td>AR</td>\n",
              "      <td>3029341</td>\n",
              "    </tr>\n",
              "    <tr>\n",
              "      <th>3</th>\n",
              "      <td>1</td>\n",
              "      <td>AZ</td>\n",
              "      <td>2317412</td>\n",
              "    </tr>\n",
              "    <tr>\n",
              "      <th>4</th>\n",
              "      <td>2</td>\n",
              "      <td>CA</td>\n",
              "      <td>13493821</td>\n",
              "    </tr>\n",
              "    <tr>\n",
              "      <th>5</th>\n",
              "      <td>2</td>\n",
              "      <td>CO</td>\n",
              "      <td>5434124</td>\n",
              "    </tr>\n",
              "  </tbody>\n",
              "</table>\n",
              "</div>"
            ],
            "text/plain": [
              "  region state  population\n",
              "0      1    AK      703423\n",
              "1      1    AL     5634923\n",
              "2      1    AR     3029341\n",
              "3      1    AZ     2317412\n",
              "4      2    CA    13493821\n",
              "5      2    CO     5434124"
            ]
          },
          "execution_count": 29,
          "metadata": {},
          "output_type": "execute_result"
        }
      ],
      "source": [
        "states"
      ]
    },
    {
      "cell_type": "code",
      "execution_count": null,
      "metadata": {
        "id": "lJiRaV-kaPeG"
      },
      "outputs": [],
      "source": []
    },
    {
      "cell_type": "code",
      "execution_count": null,
      "metadata": {
        "id": "mxDh1gTraPeG"
      },
      "outputs": [],
      "source": []
    },
    {
      "cell_type": "code",
      "execution_count": null,
      "metadata": {
        "id": "bA-Dn85taPeG"
      },
      "outputs": [],
      "source": []
    },
    {
      "cell_type": "markdown",
      "metadata": {
        "id": "-swwwFpmaPeG"
      },
      "source": [
        "---\n",
        "---\n",
        "\n",
        "### String Functions"
      ]
    },
    {
      "cell_type": "code",
      "execution_count": null,
      "metadata": {
        "id": "EClKZBInaPeG"
      },
      "outputs": [],
      "source": [
        "data = pd.DataFrame([['a',1],['B',None],['Cat c',3]], columns=['letter','number'])"
      ]
    },
    {
      "cell_type": "code",
      "execution_count": null,
      "metadata": {
        "id": "lp0hdIHZaPeG",
        "outputId": "4014c45b-0282-4775-c357-f3102853134f"
      },
      "outputs": [
        {
          "data": {
            "text/html": [
              "<div>\n",
              "<style scoped>\n",
              "    .dataframe tbody tr th:only-of-type {\n",
              "        vertical-align: middle;\n",
              "    }\n",
              "\n",
              "    .dataframe tbody tr th {\n",
              "        vertical-align: top;\n",
              "    }\n",
              "\n",
              "    .dataframe thead th {\n",
              "        text-align: right;\n",
              "    }\n",
              "</style>\n",
              "<table border=\"1\" class=\"dataframe\">\n",
              "  <thead>\n",
              "    <tr style=\"text-align: right;\">\n",
              "      <th></th>\n",
              "      <th>letter</th>\n",
              "      <th>number</th>\n",
              "    </tr>\n",
              "  </thead>\n",
              "  <tbody>\n",
              "    <tr>\n",
              "      <th>0</th>\n",
              "      <td>a</td>\n",
              "      <td>1.0</td>\n",
              "    </tr>\n",
              "    <tr>\n",
              "      <th>1</th>\n",
              "      <td>B</td>\n",
              "      <td>NaN</td>\n",
              "    </tr>\n",
              "    <tr>\n",
              "      <th>2</th>\n",
              "      <td>Cat c</td>\n",
              "      <td>3.0</td>\n",
              "    </tr>\n",
              "  </tbody>\n",
              "</table>\n",
              "</div>"
            ],
            "text/plain": [
              "  letter  number\n",
              "0      a     1.0\n",
              "1      B     NaN\n",
              "2  Cat c     3.0"
            ]
          },
          "execution_count": 31,
          "metadata": {},
          "output_type": "execute_result"
        }
      ],
      "source": [
        "data"
      ]
    },
    {
      "cell_type": "code",
      "execution_count": null,
      "metadata": {
        "id": "DBTktjGzaPeG",
        "outputId": "13e26c2a-c0d5-46b2-8849-7f2178484d98"
      },
      "outputs": [
        {
          "data": {
            "text/plain": [
              "0        a\n",
              "1        b\n",
              "2    cat c\n",
              "Name: letter, dtype: object"
            ]
          },
          "execution_count": 32,
          "metadata": {},
          "output_type": "execute_result"
        }
      ],
      "source": [
        "data['letter'].str.lower()"
      ]
    },
    {
      "cell_type": "code",
      "execution_count": null,
      "metadata": {
        "id": "_jOf7vUAaPeG",
        "outputId": "19e7d52b-3265-495a-b3e1-a0cbfd055459"
      },
      "outputs": [
        {
          "data": {
            "text/plain": [
              "0        A\n",
              "1        B\n",
              "2    CAT C\n",
              "Name: letter, dtype: object"
            ]
          },
          "execution_count": 33,
          "metadata": {},
          "output_type": "execute_result"
        }
      ],
      "source": [
        "data['letter'].str.upper()"
      ]
    },
    {
      "cell_type": "code",
      "execution_count": null,
      "metadata": {
        "id": "GiwdJLLOaPeG",
        "outputId": "d9a55ca3-a917-4498-872c-6dea4564a605"
      },
      "outputs": [
        {
          "data": {
            "text/plain": [
              "0        A\n",
              "1        B\n",
              "2    Cat C\n",
              "Name: letter, dtype: object"
            ]
          },
          "execution_count": 34,
          "metadata": {},
          "output_type": "execute_result"
        }
      ],
      "source": [
        "data['letter'].str.title()"
      ]
    },
    {
      "cell_type": "code",
      "execution_count": null,
      "metadata": {
        "id": "YcXBzXCtaPeG",
        "outputId": "d9af4844-c8f8-40a7-b674-b56ce1c9e411"
      },
      "outputs": [
        {
          "data": {
            "text/plain": [
              "0    a\n",
              "1    B\n",
              "2    c\n",
              "Name: letter, dtype: object"
            ]
          },
          "execution_count": 35,
          "metadata": {},
          "output_type": "execute_result"
        }
      ],
      "source": [
        "data['letter'].str.replace('^.* ','')"
      ]
    },
    {
      "cell_type": "code",
      "execution_count": null,
      "metadata": {
        "id": "DvNTS0daaPeG",
        "outputId": "f7314832-da77-4c48-8118-7136983a7a40"
      },
      "outputs": [
        {
          "data": {
            "text/plain": [
              "0    a\n",
              "1    B\n",
              "2    c\n",
              "Name: letter, dtype: object"
            ]
          },
          "execution_count": 36,
          "metadata": {},
          "output_type": "execute_result"
        }
      ],
      "source": [
        "data['letter'].str[-1]"
      ]
    },
    {
      "cell_type": "markdown",
      "metadata": {
        "id": "VTAvmn5CaPeG"
      },
      "source": [
        "# Situation / Problem\n",
        "\n",
        "In this data set, we want to group by the Proprietary Name.  How many drugs are represented here?\n",
        "\n",
        "* Does every row have a proprietary name? - If not, use the non-proprietary name instead\n",
        "* Are they formatted consistently? - Make them all upper case or lower case\n",
        "* Are they sometimes more specific than we want? - Look for extra stuff like units of measure"
      ]
    },
    {
      "cell_type": "code",
      "execution_count": null,
      "metadata": {
        "id": "Lr0TzwNmaPeG"
      },
      "outputs": [],
      "source": [
        "import pandas as pd"
      ]
    },
    {
      "cell_type": "code",
      "execution_count": null,
      "metadata": {
        "id": "xce4C0DEaPeG"
      },
      "outputs": [],
      "source": [
        "ndc = pd.read_csv('/data/ndc.txt', delimiter='\\t')"
      ]
    },
    {
      "cell_type": "code",
      "execution_count": null,
      "metadata": {
        "id": "HtcdMgEYaPeH",
        "outputId": "636a5b52-05da-4772-f10f-74c86e643cf2"
      },
      "outputs": [
        {
          "data": {
            "text/html": [
              "<div>\n",
              "<style scoped>\n",
              "    .dataframe tbody tr th:only-of-type {\n",
              "        vertical-align: middle;\n",
              "    }\n",
              "\n",
              "    .dataframe tbody tr th {\n",
              "        vertical-align: top;\n",
              "    }\n",
              "\n",
              "    .dataframe thead th {\n",
              "        text-align: right;\n",
              "    }\n",
              "</style>\n",
              "<table border=\"1\" class=\"dataframe\">\n",
              "  <thead>\n",
              "    <tr style=\"text-align: right;\">\n",
              "      <th></th>\n",
              "      <th>PRODUCTID</th>\n",
              "      <th>PRODUCTNDC</th>\n",
              "      <th>PRODUCTTYPENAME</th>\n",
              "      <th>PROPRIETARYNAME</th>\n",
              "      <th>PROPRIETARYNAMESUFFIX</th>\n",
              "      <th>NONPROPRIETARYNAME</th>\n",
              "      <th>DOSAGEFORMNAME</th>\n",
              "      <th>ROUTENAME</th>\n",
              "      <th>STARTMARKETINGDATE</th>\n",
              "      <th>ENDMARKETINGDATE</th>\n",
              "      <th>MARKETINGCATEGORYNAME</th>\n",
              "      <th>APPLICATIONNUMBER</th>\n",
              "      <th>LABELERNAME</th>\n",
              "      <th>SUBSTANCENAME</th>\n",
              "      <th>ACTIVE_NUMERATOR_STRENGTH</th>\n",
              "      <th>ACTIVE_INGRED_UNIT</th>\n",
              "      <th>PHARM_CLASSES</th>\n",
              "      <th>DEASCHEDULE</th>\n",
              "      <th>NDC_EXCLUDE_FLAG</th>\n",
              "      <th>LISTING_RECORD_CERTIFIED_THROUGH</th>\n",
              "    </tr>\n",
              "  </thead>\n",
              "  <tbody>\n",
              "    <tr>\n",
              "      <th>0</th>\n",
              "      <td>0002-0800_4bb5d1cb-0fa7-48c7-9f6d-8d45f9b91649</td>\n",
              "      <td>0002-0800</td>\n",
              "      <td>HUMAN OTC DRUG</td>\n",
              "      <td>Sterile Diluent</td>\n",
              "      <td>NaN</td>\n",
              "      <td>diluent</td>\n",
              "      <td>INJECTION, SOLUTION</td>\n",
              "      <td>SUBCUTANEOUS</td>\n",
              "      <td>19870710</td>\n",
              "      <td>NaN</td>\n",
              "      <td>NDA</td>\n",
              "      <td>NDA018781</td>\n",
              "      <td>Eli Lilly and Company</td>\n",
              "      <td>WATER</td>\n",
              "      <td>1</td>\n",
              "      <td>mL/mL</td>\n",
              "      <td>NaN</td>\n",
              "      <td>NaN</td>\n",
              "      <td>N</td>\n",
              "      <td>20191231.0</td>\n",
              "    </tr>\n",
              "    <tr>\n",
              "      <th>1</th>\n",
              "      <td>0002-1200_957ee1b5-dfa7-4e3f-96e1-6bed1ffc0abe</td>\n",
              "      <td>0002-1200</td>\n",
              "      <td>HUMAN PRESCRIPTION DRUG</td>\n",
              "      <td>NaN</td>\n",
              "      <td>NaN</td>\n",
              "      <td>Florbetapir F 18</td>\n",
              "      <td>INJECTION, SOLUTION</td>\n",
              "      <td>INTRAVENOUS</td>\n",
              "      <td>20120601</td>\n",
              "      <td>NaN</td>\n",
              "      <td>NDA</td>\n",
              "      <td>NDA202008</td>\n",
              "      <td>Eli Lilly and Company</td>\n",
              "      <td>FLORBETAPIR F-18</td>\n",
              "      <td>51</td>\n",
              "      <td>mCi/mL</td>\n",
              "      <td>Radioactive Diagnostic Agent [EPC],Positron Em...</td>\n",
              "      <td>NaN</td>\n",
              "      <td>N</td>\n",
              "      <td>20191231.0</td>\n",
              "    </tr>\n",
              "    <tr>\n",
              "      <th>2</th>\n",
              "      <td>0002-1407_14757f9d-f641-4836-acf3-229265588d1d</td>\n",
              "      <td>0002-1407</td>\n",
              "      <td>HUMAN PRESCRIPTION DRUG</td>\n",
              "      <td>Quinidine Gluconate</td>\n",
              "      <td>NaN</td>\n",
              "      <td>Quinidine Gluconate</td>\n",
              "      <td>SOLUTION</td>\n",
              "      <td>INTRAVENOUS</td>\n",
              "      <td>19500712</td>\n",
              "      <td>NaN</td>\n",
              "      <td>NDA</td>\n",
              "      <td>NDA007529</td>\n",
              "      <td>Eli Lilly and Company</td>\n",
              "      <td>QUINIDINE GLUCONATE</td>\n",
              "      <td>80</td>\n",
              "      <td>mg/mL</td>\n",
              "      <td>Antiarrhythmic [EPC],Cytochrome P450 2D6 Inhib...</td>\n",
              "      <td>NaN</td>\n",
              "      <td>N</td>\n",
              "      <td>20191231.0</td>\n",
              "    </tr>\n",
              "    <tr>\n",
              "      <th>3</th>\n",
              "      <td>0002-1433_4468578a-47d2-488e-9fd4-a8322070392f</td>\n",
              "      <td>0002-1433</td>\n",
              "      <td>HUMAN PRESCRIPTION DRUG</td>\n",
              "      <td>Trulicity</td>\n",
              "      <td>NaN</td>\n",
              "      <td>Dulaglutide</td>\n",
              "      <td>INJECTION, SOLUTION</td>\n",
              "      <td>SUBCUTANEOUS</td>\n",
              "      <td>20140918</td>\n",
              "      <td>NaN</td>\n",
              "      <td>BLA</td>\n",
              "      <td>BLA125469</td>\n",
              "      <td>Eli Lilly and Company</td>\n",
              "      <td>DULAGLUTIDE</td>\n",
              "      <td>.75</td>\n",
              "      <td>mg/.5mL</td>\n",
              "      <td>GLP-1 Receptor Agonist [EPC],Glucagon-Like Pep...</td>\n",
              "      <td>NaN</td>\n",
              "      <td>N</td>\n",
              "      <td>20201231.0</td>\n",
              "    </tr>\n",
              "    <tr>\n",
              "      <th>4</th>\n",
              "      <td>0002-1434_4468578a-47d2-488e-9fd4-a8322070392f</td>\n",
              "      <td>0002-1434</td>\n",
              "      <td>HUMAN PRESCRIPTION DRUG</td>\n",
              "      <td>Trulicity</td>\n",
              "      <td>NaN</td>\n",
              "      <td>Dulaglutide</td>\n",
              "      <td>INJECTION, SOLUTION</td>\n",
              "      <td>SUBCUTANEOUS</td>\n",
              "      <td>20140918</td>\n",
              "      <td>NaN</td>\n",
              "      <td>BLA</td>\n",
              "      <td>BLA125469</td>\n",
              "      <td>Eli Lilly and Company</td>\n",
              "      <td>DULAGLUTIDE</td>\n",
              "      <td>1.5</td>\n",
              "      <td>mg/.5mL</td>\n",
              "      <td>GLP-1 Receptor Agonist [EPC],Glucagon-Like Pep...</td>\n",
              "      <td>NaN</td>\n",
              "      <td>N</td>\n",
              "      <td>20201231.0</td>\n",
              "    </tr>\n",
              "    <tr>\n",
              "      <th>...</th>\n",
              "      <td>...</td>\n",
              "      <td>...</td>\n",
              "      <td>...</td>\n",
              "      <td>...</td>\n",
              "      <td>...</td>\n",
              "      <td>...</td>\n",
              "      <td>...</td>\n",
              "      <td>...</td>\n",
              "      <td>...</td>\n",
              "      <td>...</td>\n",
              "      <td>...</td>\n",
              "      <td>...</td>\n",
              "      <td>...</td>\n",
              "      <td>...</td>\n",
              "      <td>...</td>\n",
              "      <td>...</td>\n",
              "      <td>...</td>\n",
              "      <td>...</td>\n",
              "      <td>...</td>\n",
              "      <td>...</td>\n",
              "    </tr>\n",
              "    <tr>\n",
              "      <th>89</th>\n",
              "      <td>0003-0852_9bc9427b-2cca-466c-b41e-d47ce4540aa6</td>\n",
              "      <td>0003-0852</td>\n",
              "      <td>HUMAN PRESCRIPTION DRUG</td>\n",
              "      <td>SPRYCEL</td>\n",
              "      <td>NaN</td>\n",
              "      <td>dasatinib</td>\n",
              "      <td>TABLET</td>\n",
              "      <td>ORAL</td>\n",
              "      <td>20080530</td>\n",
              "      <td>NaN</td>\n",
              "      <td>NDA</td>\n",
              "      <td>NDA021986</td>\n",
              "      <td>E.R. Squibb &amp; Sons, L.L.C.</td>\n",
              "      <td>DASATINIB</td>\n",
              "      <td>100</td>\n",
              "      <td>mg/1</td>\n",
              "      <td>Kinase Inhibitor [EPC],Protein Kinase Inhibito...</td>\n",
              "      <td>NaN</td>\n",
              "      <td>N</td>\n",
              "      <td>20201231.0</td>\n",
              "    </tr>\n",
              "    <tr>\n",
              "      <th>90</th>\n",
              "      <td>0003-0855_9bc9427b-2cca-466c-b41e-d47ce4540aa6</td>\n",
              "      <td>0003-0855</td>\n",
              "      <td>HUMAN PRESCRIPTION DRUG</td>\n",
              "      <td>SPRYCEL</td>\n",
              "      <td>NaN</td>\n",
              "      <td>dasatinib</td>\n",
              "      <td>TABLET</td>\n",
              "      <td>ORAL</td>\n",
              "      <td>20101028</td>\n",
              "      <td>NaN</td>\n",
              "      <td>NDA</td>\n",
              "      <td>NDA021986</td>\n",
              "      <td>E.R. Squibb &amp; Sons, L.L.C.</td>\n",
              "      <td>DASATINIB</td>\n",
              "      <td>80</td>\n",
              "      <td>mg/1</td>\n",
              "      <td>Kinase Inhibitor [EPC],Protein Kinase Inhibito...</td>\n",
              "      <td>NaN</td>\n",
              "      <td>N</td>\n",
              "      <td>20201231.0</td>\n",
              "    </tr>\n",
              "    <tr>\n",
              "      <th>91</th>\n",
              "      <td>0003-0857_9bc9427b-2cca-466c-b41e-d47ce4540aa6</td>\n",
              "      <td>0003-0857</td>\n",
              "      <td>HUMAN PRESCRIPTION DRUG</td>\n",
              "      <td>SPRYCEL</td>\n",
              "      <td>NaN</td>\n",
              "      <td>dasatinib</td>\n",
              "      <td>TABLET</td>\n",
              "      <td>ORAL</td>\n",
              "      <td>20101028</td>\n",
              "      <td>NaN</td>\n",
              "      <td>NDA</td>\n",
              "      <td>NDA021986</td>\n",
              "      <td>E.R. Squibb &amp; Sons, L.L.C.</td>\n",
              "      <td>DASATINIB</td>\n",
              "      <td>140</td>\n",
              "      <td>mg/1</td>\n",
              "      <td>Kinase Inhibitor [EPC],Protein Kinase Inhibito...</td>\n",
              "      <td>NaN</td>\n",
              "      <td>N</td>\n",
              "      <td>20201231.0</td>\n",
              "    </tr>\n",
              "    <tr>\n",
              "      <th>92</th>\n",
              "      <td>0003-0893_391cf576-1ae6-4a11-bf14-8e5a135cd5dd</td>\n",
              "      <td>0003-0893</td>\n",
              "      <td>HUMAN PRESCRIPTION DRUG</td>\n",
              "      <td>eliquis</td>\n",
              "      <td>NaN</td>\n",
              "      <td>apixaban</td>\n",
              "      <td>TABLET, FILM COATED</td>\n",
              "      <td>ORAL</td>\n",
              "      <td>20121228</td>\n",
              "      <td>NaN</td>\n",
              "      <td>NDA</td>\n",
              "      <td>NDA202155</td>\n",
              "      <td>E.R. Squibb &amp; Sons, L.L.C.</td>\n",
              "      <td>APIXABAN</td>\n",
              "      <td>2.5</td>\n",
              "      <td>mg/1</td>\n",
              "      <td>Factor Xa Inhibitor [EPC],Factor Xa Inhibitors...</td>\n",
              "      <td>NaN</td>\n",
              "      <td>N</td>\n",
              "      <td>20201231.0</td>\n",
              "    </tr>\n",
              "    <tr>\n",
              "      <th>93</th>\n",
              "      <td>0003-0894_391cf576-1ae6-4a11-bf14-8e5a135cd5dd</td>\n",
              "      <td>0003-0894</td>\n",
              "      <td>HUMAN PRESCRIPTION DRUG</td>\n",
              "      <td>ELIQUIS</td>\n",
              "      <td>NaN</td>\n",
              "      <td>apixaban</td>\n",
              "      <td>TABLET, FILM COATED</td>\n",
              "      <td>ORAL</td>\n",
              "      <td>20121228</td>\n",
              "      <td>NaN</td>\n",
              "      <td>NDA</td>\n",
              "      <td>NDA202155</td>\n",
              "      <td>E.R. Squibb &amp; Sons, L.L.C.</td>\n",
              "      <td>APIXABAN</td>\n",
              "      <td>5</td>\n",
              "      <td>mg/1</td>\n",
              "      <td>Factor Xa Inhibitor [EPC],Factor Xa Inhibitors...</td>\n",
              "      <td>NaN</td>\n",
              "      <td>N</td>\n",
              "      <td>20201231.0</td>\n",
              "    </tr>\n",
              "  </tbody>\n",
              "</table>\n",
              "<p>94 rows × 20 columns</p>\n",
              "</div>"
            ],
            "text/plain": [
              "                                         PRODUCTID PRODUCTNDC  \\\n",
              "0   0002-0800_4bb5d1cb-0fa7-48c7-9f6d-8d45f9b91649  0002-0800   \n",
              "1   0002-1200_957ee1b5-dfa7-4e3f-96e1-6bed1ffc0abe  0002-1200   \n",
              "2   0002-1407_14757f9d-f641-4836-acf3-229265588d1d  0002-1407   \n",
              "3   0002-1433_4468578a-47d2-488e-9fd4-a8322070392f  0002-1433   \n",
              "4   0002-1434_4468578a-47d2-488e-9fd4-a8322070392f  0002-1434   \n",
              "..                                             ...        ...   \n",
              "89  0003-0852_9bc9427b-2cca-466c-b41e-d47ce4540aa6  0003-0852   \n",
              "90  0003-0855_9bc9427b-2cca-466c-b41e-d47ce4540aa6  0003-0855   \n",
              "91  0003-0857_9bc9427b-2cca-466c-b41e-d47ce4540aa6  0003-0857   \n",
              "92  0003-0893_391cf576-1ae6-4a11-bf14-8e5a135cd5dd  0003-0893   \n",
              "93  0003-0894_391cf576-1ae6-4a11-bf14-8e5a135cd5dd  0003-0894   \n",
              "\n",
              "            PRODUCTTYPENAME      PROPRIETARYNAME PROPRIETARYNAMESUFFIX  \\\n",
              "0            HUMAN OTC DRUG      Sterile Diluent                   NaN   \n",
              "1   HUMAN PRESCRIPTION DRUG                  NaN                   NaN   \n",
              "2   HUMAN PRESCRIPTION DRUG  Quinidine Gluconate                   NaN   \n",
              "3   HUMAN PRESCRIPTION DRUG            Trulicity                   NaN   \n",
              "4   HUMAN PRESCRIPTION DRUG            Trulicity                   NaN   \n",
              "..                      ...                  ...                   ...   \n",
              "89  HUMAN PRESCRIPTION DRUG              SPRYCEL                   NaN   \n",
              "90  HUMAN PRESCRIPTION DRUG              SPRYCEL                   NaN   \n",
              "91  HUMAN PRESCRIPTION DRUG              SPRYCEL                   NaN   \n",
              "92  HUMAN PRESCRIPTION DRUG              eliquis                   NaN   \n",
              "93  HUMAN PRESCRIPTION DRUG              ELIQUIS                   NaN   \n",
              "\n",
              "     NONPROPRIETARYNAME       DOSAGEFORMNAME     ROUTENAME  \\\n",
              "0               diluent  INJECTION, SOLUTION  SUBCUTANEOUS   \n",
              "1      Florbetapir F 18  INJECTION, SOLUTION   INTRAVENOUS   \n",
              "2   Quinidine Gluconate             SOLUTION   INTRAVENOUS   \n",
              "3           Dulaglutide  INJECTION, SOLUTION  SUBCUTANEOUS   \n",
              "4           Dulaglutide  INJECTION, SOLUTION  SUBCUTANEOUS   \n",
              "..                  ...                  ...           ...   \n",
              "89            dasatinib               TABLET          ORAL   \n",
              "90            dasatinib               TABLET          ORAL   \n",
              "91            dasatinib               TABLET          ORAL   \n",
              "92             apixaban  TABLET, FILM COATED          ORAL   \n",
              "93             apixaban  TABLET, FILM COATED          ORAL   \n",
              "\n",
              "    STARTMARKETINGDATE  ENDMARKETINGDATE MARKETINGCATEGORYNAME  \\\n",
              "0             19870710               NaN                   NDA   \n",
              "1             20120601               NaN                   NDA   \n",
              "2             19500712               NaN                   NDA   \n",
              "3             20140918               NaN                   BLA   \n",
              "4             20140918               NaN                   BLA   \n",
              "..                 ...               ...                   ...   \n",
              "89            20080530               NaN                   NDA   \n",
              "90            20101028               NaN                   NDA   \n",
              "91            20101028               NaN                   NDA   \n",
              "92            20121228               NaN                   NDA   \n",
              "93            20121228               NaN                   NDA   \n",
              "\n",
              "   APPLICATIONNUMBER                 LABELERNAME        SUBSTANCENAME  \\\n",
              "0          NDA018781       Eli Lilly and Company                WATER   \n",
              "1          NDA202008       Eli Lilly and Company     FLORBETAPIR F-18   \n",
              "2          NDA007529       Eli Lilly and Company  QUINIDINE GLUCONATE   \n",
              "3          BLA125469       Eli Lilly and Company          DULAGLUTIDE   \n",
              "4          BLA125469       Eli Lilly and Company          DULAGLUTIDE   \n",
              "..               ...                         ...                  ...   \n",
              "89         NDA021986  E.R. Squibb & Sons, L.L.C.            DASATINIB   \n",
              "90         NDA021986  E.R. Squibb & Sons, L.L.C.            DASATINIB   \n",
              "91         NDA021986  E.R. Squibb & Sons, L.L.C.            DASATINIB   \n",
              "92         NDA202155  E.R. Squibb & Sons, L.L.C.             APIXABAN   \n",
              "93         NDA202155  E.R. Squibb & Sons, L.L.C.             APIXABAN   \n",
              "\n",
              "   ACTIVE_NUMERATOR_STRENGTH ACTIVE_INGRED_UNIT  \\\n",
              "0                          1              mL/mL   \n",
              "1                         51             mCi/mL   \n",
              "2                         80              mg/mL   \n",
              "3                        .75            mg/.5mL   \n",
              "4                        1.5            mg/.5mL   \n",
              "..                       ...                ...   \n",
              "89                       100               mg/1   \n",
              "90                        80               mg/1   \n",
              "91                       140               mg/1   \n",
              "92                       2.5               mg/1   \n",
              "93                         5               mg/1   \n",
              "\n",
              "                                        PHARM_CLASSES  DEASCHEDULE  \\\n",
              "0                                                 NaN          NaN   \n",
              "1   Radioactive Diagnostic Agent [EPC],Positron Em...          NaN   \n",
              "2   Antiarrhythmic [EPC],Cytochrome P450 2D6 Inhib...          NaN   \n",
              "3   GLP-1 Receptor Agonist [EPC],Glucagon-Like Pep...          NaN   \n",
              "4   GLP-1 Receptor Agonist [EPC],Glucagon-Like Pep...          NaN   \n",
              "..                                                ...          ...   \n",
              "89  Kinase Inhibitor [EPC],Protein Kinase Inhibito...          NaN   \n",
              "90  Kinase Inhibitor [EPC],Protein Kinase Inhibito...          NaN   \n",
              "91  Kinase Inhibitor [EPC],Protein Kinase Inhibito...          NaN   \n",
              "92  Factor Xa Inhibitor [EPC],Factor Xa Inhibitors...          NaN   \n",
              "93  Factor Xa Inhibitor [EPC],Factor Xa Inhibitors...          NaN   \n",
              "\n",
              "   NDC_EXCLUDE_FLAG  LISTING_RECORD_CERTIFIED_THROUGH  \n",
              "0                 N                        20191231.0  \n",
              "1                 N                        20191231.0  \n",
              "2                 N                        20191231.0  \n",
              "3                 N                        20201231.0  \n",
              "4                 N                        20201231.0  \n",
              "..              ...                               ...  \n",
              "89                N                        20201231.0  \n",
              "90                N                        20201231.0  \n",
              "91                N                        20201231.0  \n",
              "92                N                        20201231.0  \n",
              "93                N                        20201231.0  \n",
              "\n",
              "[94 rows x 20 columns]"
            ]
          },
          "execution_count": 39,
          "metadata": {},
          "output_type": "execute_result"
        }
      ],
      "source": [
        "ndc"
      ]
    },
    {
      "cell_type": "code",
      "execution_count": null,
      "metadata": {
        "id": "DhKHRtDAaPeH",
        "outputId": "6c2bcaa9-fd8c-48c9-b046-10ce34b3c83d"
      },
      "outputs": [
        {
          "data": {
            "text/plain": [
              "(7, 20)"
            ]
          },
          "execution_count": 40,
          "metadata": {},
          "output_type": "execute_result"
        }
      ],
      "source": [
        "# STEP 1: Are any of them blank\n",
        "\n",
        "blank_filter = ndc['PROPRIETARYNAME'].isnull()\n",
        "blanks = ndc[blank_filter]\n",
        "blanks.shape"
      ]
    },
    {
      "cell_type": "code",
      "execution_count": null,
      "metadata": {
        "id": "x07QRK06aPeH",
        "outputId": "4a7a02bc-3c39-461b-e6fd-dcf1e434992c"
      },
      "outputs": [
        {
          "data": {
            "text/html": [
              "<div>\n",
              "<style scoped>\n",
              "    .dataframe tbody tr th:only-of-type {\n",
              "        vertical-align: middle;\n",
              "    }\n",
              "\n",
              "    .dataframe tbody tr th {\n",
              "        vertical-align: top;\n",
              "    }\n",
              "\n",
              "    .dataframe thead th {\n",
              "        text-align: right;\n",
              "    }\n",
              "</style>\n",
              "<table border=\"1\" class=\"dataframe\">\n",
              "  <thead>\n",
              "    <tr style=\"text-align: right;\">\n",
              "      <th></th>\n",
              "      <th>PRODUCTID</th>\n",
              "      <th>PRODUCTNDC</th>\n",
              "      <th>PRODUCTTYPENAME</th>\n",
              "      <th>PROPRIETARYNAME</th>\n",
              "      <th>PROPRIETARYNAMESUFFIX</th>\n",
              "      <th>NONPROPRIETARYNAME</th>\n",
              "      <th>DOSAGEFORMNAME</th>\n",
              "      <th>ROUTENAME</th>\n",
              "      <th>STARTMARKETINGDATE</th>\n",
              "      <th>ENDMARKETINGDATE</th>\n",
              "      <th>MARKETINGCATEGORYNAME</th>\n",
              "      <th>APPLICATIONNUMBER</th>\n",
              "      <th>LABELERNAME</th>\n",
              "      <th>SUBSTANCENAME</th>\n",
              "      <th>ACTIVE_NUMERATOR_STRENGTH</th>\n",
              "      <th>ACTIVE_INGRED_UNIT</th>\n",
              "      <th>PHARM_CLASSES</th>\n",
              "      <th>DEASCHEDULE</th>\n",
              "      <th>NDC_EXCLUDE_FLAG</th>\n",
              "      <th>LISTING_RECORD_CERTIFIED_THROUGH</th>\n",
              "    </tr>\n",
              "  </thead>\n",
              "  <tbody>\n",
              "    <tr>\n",
              "      <th>1</th>\n",
              "      <td>0002-1200_957ee1b5-dfa7-4e3f-96e1-6bed1ffc0abe</td>\n",
              "      <td>0002-1200</td>\n",
              "      <td>HUMAN PRESCRIPTION DRUG</td>\n",
              "      <td>NaN</td>\n",
              "      <td>NaN</td>\n",
              "      <td>Florbetapir F 18</td>\n",
              "      <td>INJECTION, SOLUTION</td>\n",
              "      <td>INTRAVENOUS</td>\n",
              "      <td>20120601</td>\n",
              "      <td>NaN</td>\n",
              "      <td>NDA</td>\n",
              "      <td>NDA202008</td>\n",
              "      <td>Eli Lilly and Company</td>\n",
              "      <td>FLORBETAPIR F-18</td>\n",
              "      <td>51</td>\n",
              "      <td>mCi/mL</td>\n",
              "      <td>Radioactive Diagnostic Agent [EPC],Positron Em...</td>\n",
              "      <td>NaN</td>\n",
              "      <td>N</td>\n",
              "      <td>20191231.0</td>\n",
              "    </tr>\n",
              "    <tr>\n",
              "      <th>5</th>\n",
              "      <td>0002-1436_ad6f74e8-b0ef-4a96-9249-c1225c5cd6a7</td>\n",
              "      <td>0002-1436</td>\n",
              "      <td>HUMAN PRESCRIPTION DRUG</td>\n",
              "      <td>NaN</td>\n",
              "      <td>NaN</td>\n",
              "      <td>galcanezumab</td>\n",
              "      <td>INJECTION, SOLUTION</td>\n",
              "      <td>SUBCUTANEOUS</td>\n",
              "      <td>20180927</td>\n",
              "      <td>NaN</td>\n",
              "      <td>BLA</td>\n",
              "      <td>BLA761063</td>\n",
              "      <td>Eli Lilly and Company</td>\n",
              "      <td>GALCANEZUMAB</td>\n",
              "      <td>120</td>\n",
              "      <td>mg/mL</td>\n",
              "      <td>NaN</td>\n",
              "      <td>NaN</td>\n",
              "      <td>N</td>\n",
              "      <td>20201231.0</td>\n",
              "    </tr>\n",
              "    <tr>\n",
              "      <th>10</th>\n",
              "      <td>0002-3228_f1ee27ad-c38e-430a-b027-0b7ebad7403e</td>\n",
              "      <td>0002-3228</td>\n",
              "      <td>HUMAN PRESCRIPTION DRUG</td>\n",
              "      <td>NaN</td>\n",
              "      <td>NaN</td>\n",
              "      <td>Atomoxetine hydrochloride</td>\n",
              "      <td>CAPSULE</td>\n",
              "      <td>ORAL</td>\n",
              "      <td>20021126</td>\n",
              "      <td>NaN</td>\n",
              "      <td>NDA</td>\n",
              "      <td>NDA021411</td>\n",
              "      <td>Eli Lilly and Company</td>\n",
              "      <td>ATOMOXETINE HYDROCHLORIDE</td>\n",
              "      <td>25</td>\n",
              "      <td>mg/1</td>\n",
              "      <td>Norepinephrine Reuptake Inhibitor [EPC],Norepi...</td>\n",
              "      <td>NaN</td>\n",
              "      <td>N</td>\n",
              "      <td>20201231.0</td>\n",
              "    </tr>\n",
              "    <tr>\n",
              "      <th>11</th>\n",
              "      <td>0002-3229_f1ee27ad-c38e-430a-b027-0b7ebad7403e</td>\n",
              "      <td>0002-3229</td>\n",
              "      <td>HUMAN PRESCRIPTION DRUG</td>\n",
              "      <td>NaN</td>\n",
              "      <td>NaN</td>\n",
              "      <td>Atomoxetine hydrochloride</td>\n",
              "      <td>CAPSULE</td>\n",
              "      <td>ORAL</td>\n",
              "      <td>20021126</td>\n",
              "      <td>NaN</td>\n",
              "      <td>NDA</td>\n",
              "      <td>NDA021411</td>\n",
              "      <td>Eli Lilly and Company</td>\n",
              "      <td>ATOMOXETINE HYDROCHLORIDE</td>\n",
              "      <td>40</td>\n",
              "      <td>mg/1</td>\n",
              "      <td>Norepinephrine Reuptake Inhibitor [EPC],Norepi...</td>\n",
              "      <td>NaN</td>\n",
              "      <td>N</td>\n",
              "      <td>20201231.0</td>\n",
              "    </tr>\n",
              "    <tr>\n",
              "      <th>13</th>\n",
              "      <td>0002-3231_89af030d-8f23-4e54-92f0-724df4d81712</td>\n",
              "      <td>0002-3231</td>\n",
              "      <td>HUMAN PRESCRIPTION DRUG</td>\n",
              "      <td>NaN</td>\n",
              "      <td>NaN</td>\n",
              "      <td>Olanzapine and Fluoxetine hydrochloride</td>\n",
              "      <td>CAPSULE</td>\n",
              "      <td>ORAL</td>\n",
              "      <td>20031224</td>\n",
              "      <td>NaN</td>\n",
              "      <td>NDA</td>\n",
              "      <td>NDA021520</td>\n",
              "      <td>Eli Lilly and Company</td>\n",
              "      <td>OLANZAPINE; FLUOXETINE HYDROCHLORIDE</td>\n",
              "      <td>6; 25</td>\n",
              "      <td>mg/1; mg/1</td>\n",
              "      <td>Atypical Antipsychotic [EPC],Serotonin Reuptak...</td>\n",
              "      <td>NaN</td>\n",
              "      <td>N</td>\n",
              "      <td>20201231.0</td>\n",
              "    </tr>\n",
              "    <tr>\n",
              "      <th>14</th>\n",
              "      <td>0002-3232_89af030d-8f23-4e54-92f0-724df4d81712</td>\n",
              "      <td>0002-3232</td>\n",
              "      <td>HUMAN PRESCRIPTION DRUG</td>\n",
              "      <td>NaN</td>\n",
              "      <td>NaN</td>\n",
              "      <td>Olanzapine and Fluoxetine hydrochloride</td>\n",
              "      <td>CAPSULE</td>\n",
              "      <td>ORAL</td>\n",
              "      <td>20031224</td>\n",
              "      <td>20190731.0</td>\n",
              "      <td>NDA</td>\n",
              "      <td>NDA021520</td>\n",
              "      <td>Eli Lilly and Company</td>\n",
              "      <td>OLANZAPINE; FLUOXETINE HYDROCHLORIDE</td>\n",
              "      <td>12; 25</td>\n",
              "      <td>mg/1; mg/1</td>\n",
              "      <td>Atypical Antipsychotic [EPC],Serotonin Reuptak...</td>\n",
              "      <td>NaN</td>\n",
              "      <td>N</td>\n",
              "      <td>NaN</td>\n",
              "    </tr>\n",
              "    <tr>\n",
              "      <th>28</th>\n",
              "      <td>0002-4182_1606b529-d77d-41d8-9379-094caf0241c2</td>\n",
              "      <td>0002-4182</td>\n",
              "      <td>HUMAN PRESCRIPTION DRUG</td>\n",
              "      <td>NaN</td>\n",
              "      <td>NaN</td>\n",
              "      <td>baricitinib</td>\n",
              "      <td>TABLET, FILM COATED</td>\n",
              "      <td>ORAL</td>\n",
              "      <td>20180531</td>\n",
              "      <td>NaN</td>\n",
              "      <td>NDA</td>\n",
              "      <td>NDA207924</td>\n",
              "      <td>Eli Lilly and Company</td>\n",
              "      <td>BARICITINIB</td>\n",
              "      <td>2</td>\n",
              "      <td>mg/1</td>\n",
              "      <td>Janus Kinase Inhibitor [EPC],Janus Kinase Inhi...</td>\n",
              "      <td>NaN</td>\n",
              "      <td>N</td>\n",
              "      <td>20191231.0</td>\n",
              "    </tr>\n",
              "  </tbody>\n",
              "</table>\n",
              "</div>"
            ],
            "text/plain": [
              "                                         PRODUCTID PRODUCTNDC  \\\n",
              "1   0002-1200_957ee1b5-dfa7-4e3f-96e1-6bed1ffc0abe  0002-1200   \n",
              "5   0002-1436_ad6f74e8-b0ef-4a96-9249-c1225c5cd6a7  0002-1436   \n",
              "10  0002-3228_f1ee27ad-c38e-430a-b027-0b7ebad7403e  0002-3228   \n",
              "11  0002-3229_f1ee27ad-c38e-430a-b027-0b7ebad7403e  0002-3229   \n",
              "13  0002-3231_89af030d-8f23-4e54-92f0-724df4d81712  0002-3231   \n",
              "14  0002-3232_89af030d-8f23-4e54-92f0-724df4d81712  0002-3232   \n",
              "28  0002-4182_1606b529-d77d-41d8-9379-094caf0241c2  0002-4182   \n",
              "\n",
              "            PRODUCTTYPENAME PROPRIETARYNAME PROPRIETARYNAMESUFFIX  \\\n",
              "1   HUMAN PRESCRIPTION DRUG             NaN                   NaN   \n",
              "5   HUMAN PRESCRIPTION DRUG             NaN                   NaN   \n",
              "10  HUMAN PRESCRIPTION DRUG             NaN                   NaN   \n",
              "11  HUMAN PRESCRIPTION DRUG             NaN                   NaN   \n",
              "13  HUMAN PRESCRIPTION DRUG             NaN                   NaN   \n",
              "14  HUMAN PRESCRIPTION DRUG             NaN                   NaN   \n",
              "28  HUMAN PRESCRIPTION DRUG             NaN                   NaN   \n",
              "\n",
              "                         NONPROPRIETARYNAME       DOSAGEFORMNAME  \\\n",
              "1                          Florbetapir F 18  INJECTION, SOLUTION   \n",
              "5                              galcanezumab  INJECTION, SOLUTION   \n",
              "10                Atomoxetine hydrochloride              CAPSULE   \n",
              "11                Atomoxetine hydrochloride              CAPSULE   \n",
              "13  Olanzapine and Fluoxetine hydrochloride              CAPSULE   \n",
              "14  Olanzapine and Fluoxetine hydrochloride              CAPSULE   \n",
              "28                              baricitinib  TABLET, FILM COATED   \n",
              "\n",
              "       ROUTENAME  STARTMARKETINGDATE  ENDMARKETINGDATE MARKETINGCATEGORYNAME  \\\n",
              "1    INTRAVENOUS            20120601               NaN                   NDA   \n",
              "5   SUBCUTANEOUS            20180927               NaN                   BLA   \n",
              "10          ORAL            20021126               NaN                   NDA   \n",
              "11          ORAL            20021126               NaN                   NDA   \n",
              "13          ORAL            20031224               NaN                   NDA   \n",
              "14          ORAL            20031224        20190731.0                   NDA   \n",
              "28          ORAL            20180531               NaN                   NDA   \n",
              "\n",
              "   APPLICATIONNUMBER            LABELERNAME  \\\n",
              "1          NDA202008  Eli Lilly and Company   \n",
              "5          BLA761063  Eli Lilly and Company   \n",
              "10         NDA021411  Eli Lilly and Company   \n",
              "11         NDA021411  Eli Lilly and Company   \n",
              "13         NDA021520  Eli Lilly and Company   \n",
              "14         NDA021520  Eli Lilly and Company   \n",
              "28         NDA207924  Eli Lilly and Company   \n",
              "\n",
              "                           SUBSTANCENAME ACTIVE_NUMERATOR_STRENGTH  \\\n",
              "1                       FLORBETAPIR F-18                        51   \n",
              "5                           GALCANEZUMAB                       120   \n",
              "10             ATOMOXETINE HYDROCHLORIDE                        25   \n",
              "11             ATOMOXETINE HYDROCHLORIDE                        40   \n",
              "13  OLANZAPINE; FLUOXETINE HYDROCHLORIDE                     6; 25   \n",
              "14  OLANZAPINE; FLUOXETINE HYDROCHLORIDE                    12; 25   \n",
              "28                           BARICITINIB                         2   \n",
              "\n",
              "   ACTIVE_INGRED_UNIT                                      PHARM_CLASSES  \\\n",
              "1              mCi/mL  Radioactive Diagnostic Agent [EPC],Positron Em...   \n",
              "5               mg/mL                                                NaN   \n",
              "10               mg/1  Norepinephrine Reuptake Inhibitor [EPC],Norepi...   \n",
              "11               mg/1  Norepinephrine Reuptake Inhibitor [EPC],Norepi...   \n",
              "13         mg/1; mg/1  Atypical Antipsychotic [EPC],Serotonin Reuptak...   \n",
              "14         mg/1; mg/1  Atypical Antipsychotic [EPC],Serotonin Reuptak...   \n",
              "28               mg/1  Janus Kinase Inhibitor [EPC],Janus Kinase Inhi...   \n",
              "\n",
              "    DEASCHEDULE NDC_EXCLUDE_FLAG  LISTING_RECORD_CERTIFIED_THROUGH  \n",
              "1           NaN                N                        20191231.0  \n",
              "5           NaN                N                        20201231.0  \n",
              "10          NaN                N                        20201231.0  \n",
              "11          NaN                N                        20201231.0  \n",
              "13          NaN                N                        20201231.0  \n",
              "14          NaN                N                               NaN  \n",
              "28          NaN                N                        20191231.0  "
            ]
          },
          "execution_count": 41,
          "metadata": {},
          "output_type": "execute_result"
        }
      ],
      "source": [
        "blanks"
      ]
    },
    {
      "cell_type": "code",
      "execution_count": null,
      "metadata": {
        "id": "oTd18_BIaPeH"
      },
      "outputs": [],
      "source": []
    },
    {
      "cell_type": "code",
      "execution_count": null,
      "metadata": {
        "id": "ILCKLZ9gaPeH"
      },
      "outputs": [],
      "source": [
        "ndc['PROPRIETARYNAME'].fillna(ndc['NONPROPRIETARYNAME'], inplace=True)"
      ]
    },
    {
      "cell_type": "code",
      "execution_count": null,
      "metadata": {
        "id": "g9QUwVvCaPeH",
        "outputId": "26711e47-09fa-4cf6-aeab-4ce66d01c555"
      },
      "outputs": [
        {
          "data": {
            "text/plain": [
              "(0, 20)"
            ]
          },
          "execution_count": 43,
          "metadata": {},
          "output_type": "execute_result"
        }
      ],
      "source": [
        "blanks = ndc[ndc['PROPRIETARYNAME'].isnull()]\n",
        "blanks.shape"
      ]
    },
    {
      "cell_type": "code",
      "execution_count": null,
      "metadata": {
        "id": "JctTPnCfaPeH",
        "outputId": "07010ef3-9fb2-49ee-8d5c-a78eae062b4b"
      },
      "outputs": [
        {
          "data": {
            "text/html": [
              "<div>\n",
              "<style scoped>\n",
              "    .dataframe tbody tr th:only-of-type {\n",
              "        vertical-align: middle;\n",
              "    }\n",
              "\n",
              "    .dataframe tbody tr th {\n",
              "        vertical-align: top;\n",
              "    }\n",
              "\n",
              "    .dataframe thead th {\n",
              "        text-align: right;\n",
              "    }\n",
              "</style>\n",
              "<table border=\"1\" class=\"dataframe\">\n",
              "  <thead>\n",
              "    <tr style=\"text-align: right;\">\n",
              "      <th></th>\n",
              "      <th>PRODUCTID</th>\n",
              "      <th>PRODUCTNDC</th>\n",
              "      <th>PRODUCTTYPENAME</th>\n",
              "      <th>PROPRIETARYNAME</th>\n",
              "      <th>PROPRIETARYNAMESUFFIX</th>\n",
              "      <th>NONPROPRIETARYNAME</th>\n",
              "      <th>DOSAGEFORMNAME</th>\n",
              "      <th>ROUTENAME</th>\n",
              "      <th>STARTMARKETINGDATE</th>\n",
              "      <th>ENDMARKETINGDATE</th>\n",
              "      <th>MARKETINGCATEGORYNAME</th>\n",
              "      <th>APPLICATIONNUMBER</th>\n",
              "      <th>LABELERNAME</th>\n",
              "      <th>SUBSTANCENAME</th>\n",
              "      <th>ACTIVE_NUMERATOR_STRENGTH</th>\n",
              "      <th>ACTIVE_INGRED_UNIT</th>\n",
              "      <th>PHARM_CLASSES</th>\n",
              "      <th>DEASCHEDULE</th>\n",
              "      <th>NDC_EXCLUDE_FLAG</th>\n",
              "      <th>LISTING_RECORD_CERTIFIED_THROUGH</th>\n",
              "    </tr>\n",
              "  </thead>\n",
              "  <tbody>\n",
              "    <tr>\n",
              "      <th>1</th>\n",
              "      <td>0002-1200_957ee1b5-dfa7-4e3f-96e1-6bed1ffc0abe</td>\n",
              "      <td>0002-1200</td>\n",
              "      <td>HUMAN PRESCRIPTION DRUG</td>\n",
              "      <td>Florbetapir F 18</td>\n",
              "      <td>NaN</td>\n",
              "      <td>Florbetapir F 18</td>\n",
              "      <td>INJECTION, SOLUTION</td>\n",
              "      <td>INTRAVENOUS</td>\n",
              "      <td>20120601</td>\n",
              "      <td>NaN</td>\n",
              "      <td>NDA</td>\n",
              "      <td>NDA202008</td>\n",
              "      <td>Eli Lilly and Company</td>\n",
              "      <td>FLORBETAPIR F-18</td>\n",
              "      <td>51</td>\n",
              "      <td>mCi/mL</td>\n",
              "      <td>Radioactive Diagnostic Agent [EPC],Positron Em...</td>\n",
              "      <td>NaN</td>\n",
              "      <td>N</td>\n",
              "      <td>20191231.0</td>\n",
              "    </tr>\n",
              "  </tbody>\n",
              "</table>\n",
              "</div>"
            ],
            "text/plain": [
              "                                        PRODUCTID PRODUCTNDC  \\\n",
              "1  0002-1200_957ee1b5-dfa7-4e3f-96e1-6bed1ffc0abe  0002-1200   \n",
              "\n",
              "           PRODUCTTYPENAME   PROPRIETARYNAME PROPRIETARYNAMESUFFIX  \\\n",
              "1  HUMAN PRESCRIPTION DRUG  Florbetapir F 18                   NaN   \n",
              "\n",
              "  NONPROPRIETARYNAME       DOSAGEFORMNAME    ROUTENAME  STARTMARKETINGDATE  \\\n",
              "1   Florbetapir F 18  INJECTION, SOLUTION  INTRAVENOUS            20120601   \n",
              "\n",
              "   ENDMARKETINGDATE MARKETINGCATEGORYNAME APPLICATIONNUMBER  \\\n",
              "1               NaN                   NDA         NDA202008   \n",
              "\n",
              "             LABELERNAME     SUBSTANCENAME ACTIVE_NUMERATOR_STRENGTH  \\\n",
              "1  Eli Lilly and Company  FLORBETAPIR F-18                        51   \n",
              "\n",
              "  ACTIVE_INGRED_UNIT                                      PHARM_CLASSES  \\\n",
              "1             mCi/mL  Radioactive Diagnostic Agent [EPC],Positron Em...   \n",
              "\n",
              "   DEASCHEDULE NDC_EXCLUDE_FLAG  LISTING_RECORD_CERTIFIED_THROUGH  \n",
              "1          NaN                N                        20191231.0  "
            ]
          },
          "execution_count": 44,
          "metadata": {},
          "output_type": "execute_result"
        }
      ],
      "source": [
        "ndc[ndc['PROPRIETARYNAME'] == 'Florbetapir F 18']"
      ]
    },
    {
      "cell_type": "code",
      "execution_count": null,
      "metadata": {
        "id": "RKrgit1caPeK"
      },
      "outputs": [],
      "source": [
        "blanks"
      ]
    },
    {
      "cell_type": "code",
      "execution_count": null,
      "metadata": {
        "id": "eqCnrYx7aPeK"
      },
      "outputs": [],
      "source": [
        "# STEP 2: Check the formats - how many are all caps, how many are all lowercase\n",
        "\n",
        "all_caps = ndc[ndc['PROPRIETARYNAME'].str.contains('^[A-Z0-9 \\-]+$')]\n",
        "all_caps.shape"
      ]
    },
    {
      "cell_type": "code",
      "execution_count": null,
      "metadata": {
        "id": "uDB9OiS2aPeK"
      },
      "outputs": [],
      "source": [
        "all_lc = ndc[ndc['PROPRIETARYNAME'].str.contains('^[a-z0-9 \\-]+$')]\n",
        "all_lc.shape"
      ]
    },
    {
      "cell_type": "code",
      "execution_count": null,
      "metadata": {
        "id": "QBVAVZDEaPeK"
      },
      "outputs": [],
      "source": [
        "is_lower = ndc['PROPRIETARYNAME'] == ndc['PROPRIETARYNAME'].str.lower()\n",
        "ndc[is_lower].shape"
      ]
    },
    {
      "cell_type": "code",
      "execution_count": null,
      "metadata": {
        "id": "blwv4pa4aPeK"
      },
      "outputs": [],
      "source": [
        "# Let's just make them all lower case\n",
        "\n",
        "ndc['PROPRIETARYNAME'] = ndc['PROPRIETARYNAME'].str.lower()"
      ]
    },
    {
      "cell_type": "code",
      "execution_count": null,
      "metadata": {
        "id": "oPlAE0WWaPeK"
      },
      "outputs": [],
      "source": [
        "all_lc = ndc[ndc['PROPRIETARYNAME'] == ndc['PROPRIETARYNAME'].str.lower() ]\n",
        "all_lc.shape"
      ]
    },
    {
      "cell_type": "code",
      "execution_count": null,
      "metadata": {
        "id": "6y4MpxTUaPeK"
      },
      "outputs": [],
      "source": [
        "ndc.shape"
      ]
    },
    {
      "cell_type": "code",
      "execution_count": null,
      "metadata": {
        "id": "bQ-Zmt17aPeK"
      },
      "outputs": [],
      "source": [
        "# STEP 3: Look for any that might have strange characters or number\n",
        "\n",
        "weird = ndc[ndc['PROPRIETARYNAME'].str.contains('[0-9\\-\\\\\\/]')]\n",
        "weird.shape"
      ]
    },
    {
      "cell_type": "code",
      "execution_count": null,
      "metadata": {
        "id": "Mc78TvyRaPeL"
      },
      "outputs": [],
      "source": [
        "weird"
      ]
    },
    {
      "cell_type": "code",
      "execution_count": null,
      "metadata": {
        "id": "od8yUemHaPeL"
      },
      "outputs": [],
      "source": [
        "# Let's assume kenalog-40 and kenalog-10 should be grouped together"
      ]
    },
    {
      "cell_type": "code",
      "execution_count": null,
      "metadata": {
        "id": "PZDdX1wcaPeL"
      },
      "outputs": [],
      "source": [
        "ndc['PROPRIETARYNAME'] = ndc['PROPRIETARYNAME'].str.replace('\\-[0-9]+','')"
      ]
    },
    {
      "cell_type": "code",
      "execution_count": null,
      "metadata": {
        "id": "-oHnwGWdaPeL"
      },
      "outputs": [],
      "source": [
        "ndc[ndc['PROPRIETARYNAME'].str.contains('kenalog')]"
      ]
    },
    {
      "cell_type": "code",
      "execution_count": null,
      "metadata": {
        "id": "OImjWkP6aPeL"
      },
      "outputs": [],
      "source": []
    },
    {
      "cell_type": "code",
      "execution_count": null,
      "metadata": {
        "id": "vBK3D5oAaPeL"
      },
      "outputs": [],
      "source": []
    },
    {
      "cell_type": "code",
      "execution_count": null,
      "metadata": {
        "id": "JMcUMCgAaPeL"
      },
      "outputs": [],
      "source": []
    }
  ],
  "metadata": {
    "kernelspec": {
      "display_name": "Python 3",
      "language": "python",
      "name": "python3"
    },
    "language_info": {
      "codemirror_mode": {
        "name": "ipython",
        "version": 3
      },
      "file_extension": ".py",
      "mimetype": "text/x-python",
      "name": "python",
      "nbconvert_exporter": "python",
      "pygments_lexer": "ipython3",
      "version": "3.6.7"
    },
    "colab": {
      "provenance": []
    }
  },
  "nbformat": 4,
  "nbformat_minor": 0
}