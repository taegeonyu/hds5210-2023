{
  "cells": [
    {
      "cell_type": "markdown",
      "metadata": {
        "id": "TbZM1qHKCg0u"
      },
      "source": [
        "# Week 11 Assignment\n",
        "\n",
        "\n",
        "Please do the programming exercise and verify that your code works using the tests, then think about your final project and fill out the questions in the second part.\n",
        "\n",
        "---\n",
        "---"
      ]
    },
    {
      "cell_type": "markdown",
      "metadata": {
        "id": "I6lU3rPFCg0u"
      },
      "source": [
        "### 47.1: Filtering and summarizing data\n",
        "\n",
        "For this work, you'll find a data file in `https://hds5210-data.s3.amazonaws.com/complications_all.csv`.\n",
        "\n",
        "Read in the data file and create a variable called `mo_hospitals` that contains a data frame from the `complications_all.csv` file, filtered down to only contain those hospitals from the state of Missouri (MO).\n",
        "\n",
        "Then aggregate that data by hospital into a variable named `mo_summary`.  There are some key fields that we want to summarize:\n",
        "* We want to know the earliest date that each hospital was participating in any program\n",
        "* We want to know the latest date that each hospital stopped participating in any program\n",
        "* We want to know the total number of patients in the denominators of these programs\n",
        "\n",
        "Some things to note:\n",
        "* You will need to convert the `Start Date` and `End Date` to actual datetime fields\n",
        "* You will need to clean up and convert the `Denominator` field to just be numeric - the rule that you should use it to simply remove any records where the `Denominator` is `'Not Available'`\n",
        "\n",
        "\n",
        "The final result of this step should be a new data frame called `mo_summary` that contains one row for each hospital and contains the min start date, max end date, and total denominator.  Use the names `start_date`, `end_date`, and `number` for those columns in `mo_summary`.\n",
        "\n",
        "\n",
        "You do not need to create your code in the form of a function, just make sure your variable names match what I've described above so the tests work."
      ]
    },
    {
      "cell_type": "code",
      "execution_count": 11,
      "metadata": {
        "id": "8gY2YMW7Cg0v"
      },
      "outputs": [],
      "source": [
        "import pandas as pd\n",
        "# This is just to show you the name to use for the variable you need to create for this step to pass.\n",
        "all_hospitals = pd.read_csv('https://hds5210-data.s3.amazonaws.com/complications_all.csv')"
      ]
    },
    {
      "cell_type": "code",
      "source": [
        "count_mo = all_hospitals['State'].eq('MO').sum()\n",
        "count_mo"
      ],
      "metadata": {
        "id": "UX40dF6RHZ2V",
        "outputId": "5c75357f-9531-493e-9059-0f63dbc3a65a",
        "colab": {
          "base_uri": "https://localhost:8080/"
        }
      },
      "execution_count": 12,
      "outputs": [
        {
          "output_type": "execute_result",
          "data": {
            "text/plain": [
              "2133"
            ]
          },
          "metadata": {},
          "execution_count": 12
        }
      ]
    },
    {
      "cell_type": "code",
      "execution_count": 13,
      "metadata": {
        "id": "2_spYy2lCg0v"
      },
      "outputs": [],
      "source": [
        "mo_hospitals = all_hospitals[all_hospitals['State']=='MO']"
      ]
    },
    {
      "cell_type": "code",
      "source": [
        "mo_hospitals.info()"
      ],
      "metadata": {
        "id": "k4paZ2shGkxA",
        "outputId": "a18fdc13-5f2b-4a26-e50c-2b33af2db892",
        "colab": {
          "base_uri": "https://localhost:8080/"
        }
      },
      "execution_count": 15,
      "outputs": [
        {
          "output_type": "stream",
          "name": "stdout",
          "text": [
            "<class 'pandas.core.frame.DataFrame'>\n",
            "Int64Index: 2133 entries, 45534 to 47666\n",
            "Data columns (total 18 columns):\n",
            " #   Column                Non-Null Count  Dtype  \n",
            "---  ------                --------------  -----  \n",
            " 0   Facility ID           2133 non-null   object \n",
            " 1   Facility Name         2133 non-null   object \n",
            " 2   Address               2133 non-null   object \n",
            " 3   City                  2133 non-null   object \n",
            " 4   State                 2133 non-null   object \n",
            " 5   ZIP Code              2133 non-null   int64  \n",
            " 6   County Name           2133 non-null   object \n",
            " 7   Phone Number          2133 non-null   object \n",
            " 8   Measure ID            2133 non-null   object \n",
            " 9   Measure Name          2133 non-null   object \n",
            " 10  Compared to National  2133 non-null   object \n",
            " 11  Denominator           2133 non-null   object \n",
            " 12  Score                 2133 non-null   object \n",
            " 13  Lower Estimate        2133 non-null   object \n",
            " 14  Higher Estimate       2133 non-null   object \n",
            " 15  Footnote              875 non-null    float64\n",
            " 16  Start Date            2133 non-null   object \n",
            " 17  End Date              2133 non-null   object \n",
            "dtypes: float64(1), int64(1), object(16)\n",
            "memory usage: 316.6+ KB\n"
          ]
        }
      ]
    },
    {
      "cell_type": "code",
      "source": [
        "mo_hospitals = mo_hospitals[mo_hospitals['Denominator']!='Not Available']"
      ],
      "metadata": {
        "id": "AqR9Y72MeepP"
      },
      "execution_count": 16,
      "outputs": []
    },
    {
      "cell_type": "code",
      "source": [
        "mo_hospitals['start_date'] = pd.to_datetime(mo_hospitals['Start Date'])\n",
        "mo_hospitals['end_date'] = pd.to_datetime(mo_hospitals['End Date'])"
      ],
      "metadata": {
        "id": "c8NxvTTaO0F5"
      },
      "execution_count": 17,
      "outputs": []
    },
    {
      "cell_type": "code",
      "source": [
        "mo_hospitals['number'] = pd.to_numeric(mo_hospitals['Denominator'])"
      ],
      "metadata": {
        "id": "jNnll2Hxb6nN"
      },
      "execution_count": 18,
      "outputs": []
    },
    {
      "cell_type": "code",
      "source": [
        "mo_summary = mo_hospitals.groupby('Facility Name').agg(\n",
        "                        start_date = pd.NamedAgg(column='start_date', aggfunc='min'),\n",
        "                        end_date = pd.NamedAgg(column='end_date', aggfunc='max'),\n",
        "                        number = pd.NamedAgg(column = 'number', aggfunc='sum')\n",
        ").reset_index()"
      ],
      "metadata": {
        "id": "bqAhfeyxdR9E"
      },
      "execution_count": 19,
      "outputs": []
    },
    {
      "cell_type": "code",
      "source": [
        "mo_summary.set_index('Facility Name', inplace=True)"
      ],
      "metadata": {
        "id": "Hg7yYX8YfbjC"
      },
      "execution_count": 20,
      "outputs": []
    },
    {
      "cell_type": "code",
      "execution_count": 21,
      "metadata": {
        "id": "F1akBCKrCg0v"
      },
      "outputs": [],
      "source": [
        "assert(mo_summary['number'].sum() == 1766908)\n",
        "assert(mo_summary['start_date'].min() == pd.Timestamp(2015,4,1))\n",
        "assert(mo_summary['end_date'].max() == pd.Timestamp(2018,6,30))\n",
        "assert(mo_summary.shape == (108,3))\n",
        "assert(mo_summary.loc['BARNES JEWISH HOSPITAL'].number == 131313)\n",
        "assert(mo_summary.loc['BOONE HOSPITAL CENTER'].number == 63099)"
      ]
    },
    {
      "cell_type": "markdown",
      "metadata": {
        "id": "Wric-DeoCg0v"
      },
      "source": [
        "---\n",
        "\n",
        "### 47.2 Planning your final project\n",
        "\n",
        "You should be thinking about the things we've been learning and how you can apply them to your final project.  Use the rubric to help guid your thinking and then answer the questions below.  This is meant as a guide to help you think through what you will do."
      ]
    },
    {
      "cell_type": "markdown",
      "metadata": {
        "id": "BOGX0CpCCg0v"
      },
      "source": [
        "#### A) Data Access\n",
        "\n",
        "Your project should include data from at least three distinct types of sources.  For example: AWS S3, Relational Databases, Internet, Web Services, local files.  List what data sources you're planning to use."
      ]
    },
    {
      "cell_type": "markdown",
      "metadata": {
        "id": "3v18NnRdCg0w"
      },
      "source": [
        "The type of source that I used the most for this semester would be Internet sources such as Data.gov, healthdata.gov, and data.cdc.gov. Moreover, I could use local COVID-19 data files that I already have and am familiar with. Lastly, I believe it would be a great choice to use the datasets in AWS S3 as Amazon Simple Storage Service has a reputation for its immense size of data and it would be a significant experience to use various data sources that I have not used for my future career."
      ]
    },
    {
      "cell_type": "markdown",
      "metadata": {
        "id": "CGkU-LjTCg0w"
      },
      "source": [
        "#### B. Data Formats\n",
        "\n",
        "Your project should include data that comes in different file formats.  For example: HL7, EDI, HTML, CSV, Excel, JSON, XML.  List what data formats you're planning to use."
      ]
    },
    {
      "cell_type": "markdown",
      "source": [
        "I will use Excel and CSV files for sure as they are the top two file formats I have used throughout this semester. They share similar structures and are easy to combine. For the last data format, I think I will work with JSON files as it is possible to convert JSON into Excel and CSV through libraries such as pandas and CSV modules."
      ],
      "metadata": {
        "id": "BYzl3qBlNyPc"
      }
    },
    {
      "cell_type": "markdown",
      "metadata": {
        "id": "eLDfFrWGCg0x"
      },
      "source": [
        "#### C. Objective\n",
        "\n",
        "What purpose would your project serve in a real work setting?  Take a couple of paragraphs to write down why this is an interesting product."
      ]
    },
    {
      "cell_type": "markdown",
      "metadata": {
        "id": "y9fKXQkzCg0x"
      },
      "source": [
        "I would like to try data analysis based on COVID-19 and economic data during a pandemic. According to scientists, it is highly likely there will be another pandemic event like COVID-19. The purpose of this project is to analyze the economic indicators during covid such as inflation, unemployment rate, and GDP growth rate. By thoroughly reviewing the patterns and trends of the datasets, we may build an algorithm that focuses on economic real-time data in the future.\n",
        "\n",
        "This model can find out the major challenges of the given situation and come up with the best possible solutions for those challenges. Moreover, we can discover which elements in the economy are affected the most by state, by age, and other factors to have the most effective and efficient follow-up measurement to comply with detailed circumstances. The strategies will ensure economic safety and boost market activation. This system can prevent or help to overcome economic downfall during future pandemics similar to COVID-19.\n",
        "\n",
        "Also, this data may be used to establish the robust economic infrastructure and manuals that can be used to resist the grim economic effects derived from future pandemics. I believe this type of data analysis will definitely be helpful in the future when another pandemic event occurs. Since humanity suffered a great loss during COVID-19, we must be ready for the potential epidemic that can cause greater damage to mankind."
      ]
    },
    {
      "cell_type": "markdown",
      "metadata": {
        "id": "NYrvboeaCg0x"
      },
      "source": [
        "\n",
        "\n",
        "---\n",
        "\n",
        "\n",
        "\n",
        "## Submit your work via GitHub as normal\n"
      ]
    }
  ],
  "metadata": {
    "kernelspec": {
      "display_name": "Python 3",
      "language": "python",
      "name": "python3"
    },
    "language_info": {
      "codemirror_mode": {
        "name": "ipython",
        "version": 3
      },
      "file_extension": ".py",
      "mimetype": "text/x-python",
      "name": "python",
      "nbconvert_exporter": "python",
      "pygments_lexer": "ipython3",
      "version": "3.9.16"
    },
    "colab": {
      "provenance": []
    }
  },
  "nbformat": 4,
  "nbformat_minor": 0
}