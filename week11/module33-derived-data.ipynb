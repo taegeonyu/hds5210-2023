{
  "cells": [
    {
      "cell_type": "code",
      "execution_count": null,
      "metadata": {
        "id": "kH2Xf4Q3agkr"
      },
      "outputs": [],
      "source": [
        "import pandas as pd"
      ]
    },
    {
      "cell_type": "code",
      "execution_count": null,
      "metadata": {
        "id": "jTqZilyCagks"
      },
      "outputs": [],
      "source": [
        "family = pd.DataFrame([\n",
        "    ['Paul','E','Boal',193,110,'314-598-5494',pd.NA],\n",
        "    ['Teddy','J','Lester-Boal',101,23,'314-555-1234',25.2],\n",
        "    ['John','P','Doe',160,100,'490-982-5555',pd.NA]],\n",
        "    columns=['First','Middle','Last','Height','Weight','Phone','BMI'])"
      ]
    },
    {
      "cell_type": "code",
      "execution_count": null,
      "metadata": {
        "id": "aZi-0Y2magkt",
        "outputId": "5e506979-8cb9-422c-8a22-52970c7b33cd"
      },
      "outputs": [
        {
          "data": {
            "text/html": [
              "<div>\n",
              "<style scoped>\n",
              "    .dataframe tbody tr th:only-of-type {\n",
              "        vertical-align: middle;\n",
              "    }\n",
              "\n",
              "    .dataframe tbody tr th {\n",
              "        vertical-align: top;\n",
              "    }\n",
              "\n",
              "    .dataframe thead th {\n",
              "        text-align: right;\n",
              "    }\n",
              "</style>\n",
              "<table border=\"1\" class=\"dataframe\">\n",
              "  <thead>\n",
              "    <tr style=\"text-align: right;\">\n",
              "      <th></th>\n",
              "      <th>First</th>\n",
              "      <th>Middle</th>\n",
              "      <th>Last</th>\n",
              "      <th>Height</th>\n",
              "      <th>Weight</th>\n",
              "      <th>Phone</th>\n",
              "      <th>BMI</th>\n",
              "    </tr>\n",
              "  </thead>\n",
              "  <tbody>\n",
              "    <tr>\n",
              "      <th>0</th>\n",
              "      <td>Paul</td>\n",
              "      <td>E</td>\n",
              "      <td>Boal</td>\n",
              "      <td>193</td>\n",
              "      <td>110</td>\n",
              "      <td>314-598-5494</td>\n",
              "      <td>&lt;NA&gt;</td>\n",
              "    </tr>\n",
              "    <tr>\n",
              "      <th>1</th>\n",
              "      <td>Teddy</td>\n",
              "      <td>J</td>\n",
              "      <td>Lester-Boal</td>\n",
              "      <td>101</td>\n",
              "      <td>23</td>\n",
              "      <td>314-555-1234</td>\n",
              "      <td>25.2</td>\n",
              "    </tr>\n",
              "    <tr>\n",
              "      <th>2</th>\n",
              "      <td>John</td>\n",
              "      <td>P</td>\n",
              "      <td>Doe</td>\n",
              "      <td>160</td>\n",
              "      <td>100</td>\n",
              "      <td>490-982-5555</td>\n",
              "      <td>&lt;NA&gt;</td>\n",
              "    </tr>\n",
              "  </tbody>\n",
              "</table>\n",
              "</div>"
            ],
            "text/plain": [
              "   First Middle         Last  Height  Weight         Phone   BMI\n",
              "0   Paul      E         Boal     193     110  314-598-5494  <NA>\n",
              "1  Teddy      J  Lester-Boal     101      23  314-555-1234  25.2\n",
              "2   John      P          Doe     160     100  490-982-5555  <NA>"
            ]
          },
          "execution_count": 19,
          "metadata": {},
          "output_type": "execute_result"
        }
      ],
      "source": [
        "family"
      ]
    },
    {
      "cell_type": "code",
      "execution_count": null,
      "metadata": {
        "id": "fPPbUBvTagkt"
      },
      "outputs": [],
      "source": [
        "family['Full'] = family.First + ' ' + family.Middle + '. ' + family.Last"
      ]
    },
    {
      "cell_type": "code",
      "execution_count": null,
      "metadata": {
        "id": "88AbVFOnagkt"
      },
      "outputs": [],
      "source": [
        "family"
      ]
    },
    {
      "cell_type": "code",
      "execution_count": null,
      "metadata": {
        "id": "so4rDKWdagkt"
      },
      "outputs": [],
      "source": [
        "family['Name'] = family.Last + ', ' + family.First + ' ' + family.Middle + '.'"
      ]
    },
    {
      "cell_type": "code",
      "execution_count": null,
      "metadata": {
        "id": "xwwMgSU7agku"
      },
      "outputs": [],
      "source": [
        "family"
      ]
    },
    {
      "cell_type": "code",
      "execution_count": null,
      "metadata": {
        "id": "4radMOQjagku"
      },
      "outputs": [],
      "source": [
        "family.sort_values('Name')"
      ]
    },
    {
      "cell_type": "markdown",
      "metadata": {
        "id": "Hyj16-bRagku"
      },
      "source": [
        "# Splitting"
      ]
    },
    {
      "cell_type": "code",
      "execution_count": null,
      "metadata": {
        "id": "K2Q0se_Xagkv"
      },
      "outputs": [],
      "source": [
        "family['Area Code'] = family.Phone.str.split('-')"
      ]
    },
    {
      "cell_type": "code",
      "execution_count": null,
      "metadata": {
        "id": "IDV118_Kagkv"
      },
      "outputs": [],
      "source": [
        "family"
      ]
    },
    {
      "cell_type": "code",
      "execution_count": null,
      "metadata": {
        "id": "Y9uBQvS4agkv"
      },
      "outputs": [],
      "source": [
        "family.Phone.str.split('-',expand=True)"
      ]
    },
    {
      "cell_type": "code",
      "execution_count": null,
      "metadata": {
        "id": "CO7oW32Zagkv"
      },
      "outputs": [],
      "source": [
        "family['Area'] = family.Phone.str.split('-',expand=True)[0]"
      ]
    },
    {
      "cell_type": "code",
      "execution_count": null,
      "metadata": {
        "id": "hS-0Tf1hagkv"
      },
      "outputs": [],
      "source": [
        "family['Exchange'] = family.Phone.str.split('-',expand=True)[1]"
      ]
    },
    {
      "cell_type": "code",
      "execution_count": null,
      "metadata": {
        "id": "3x2EGtGzagkv"
      },
      "outputs": [],
      "source": [
        "family"
      ]
    },
    {
      "cell_type": "markdown",
      "metadata": {
        "id": "r0mxDHhGagkv"
      },
      "source": [
        "# Rank / Percentile"
      ]
    },
    {
      "cell_type": "code",
      "execution_count": null,
      "metadata": {
        "id": "tztb472oagkv"
      },
      "outputs": [],
      "source": [
        "family.Height.rank()"
      ]
    },
    {
      "cell_type": "code",
      "execution_count": null,
      "metadata": {
        "id": "ZL2SSXGKagkv"
      },
      "outputs": [],
      "source": [
        "family['Height Rank'] = family.Height.rank()"
      ]
    },
    {
      "cell_type": "code",
      "execution_count": null,
      "metadata": {
        "id": "6KPx5TN4agkv"
      },
      "outputs": [],
      "source": [
        "family"
      ]
    },
    {
      "cell_type": "code",
      "execution_count": null,
      "metadata": {
        "id": "pSt8QhEVagkv"
      },
      "outputs": [],
      "source": [
        "family['Height Pct'] = family.Height.rank(pct=True)"
      ]
    },
    {
      "cell_type": "code",
      "execution_count": null,
      "metadata": {
        "id": "QM4HxzFdagkw"
      },
      "outputs": [],
      "source": [
        "family"
      ]
    },
    {
      "cell_type": "code",
      "execution_count": null,
      "metadata": {
        "id": "gQpG49tGagkw"
      },
      "outputs": [],
      "source": [
        "family.sort_values('Height Rank')"
      ]
    },
    {
      "cell_type": "code",
      "execution_count": null,
      "metadata": {
        "id": "_TmHtCk2agkw"
      },
      "outputs": [],
      "source": []
    },
    {
      "cell_type": "markdown",
      "metadata": {
        "id": "LpHTGwjgagkw"
      },
      "source": [
        "# Arbitrary Functions"
      ]
    },
    {
      "cell_type": "code",
      "execution_count": null,
      "metadata": {
        "id": "VEK2nqLZagkw"
      },
      "outputs": [],
      "source": [
        "def bmi(x):\n",
        "    \"\"\"Series -> float\n",
        "\n",
        "    vals is a Pandas Series with two elements, Height and Weight\n",
        "    \"\"\"\n",
        "    height = x['Height']\n",
        "    weight = x['Weight']\n",
        "    return weight / (height/100)**2"
      ]
    },
    {
      "cell_type": "code",
      "execution_count": null,
      "metadata": {
        "id": "aVYLrTDjagkw",
        "outputId": "7afa827a-e3ae-467d-8e04-6d9348a6f8b2"
      },
      "outputs": [
        {
          "data": {
            "text/plain": [
              "0    29.530994\n",
              "1    22.546809\n",
              "2    39.062500\n",
              "dtype: float64"
            ]
          },
          "execution_count": 6,
          "metadata": {},
          "output_type": "execute_result"
        }
      ],
      "source": [
        "family[['Height','Weight']].apply(bmi, axis=1)"
      ]
    },
    {
      "cell_type": "code",
      "execution_count": null,
      "metadata": {
        "id": "5ChLvsSsagkw"
      },
      "outputs": [],
      "source": [
        "family['BMI'] = family[['Height','Weight']].apply(bmi, axis=1)"
      ]
    },
    {
      "cell_type": "code",
      "execution_count": null,
      "metadata": {
        "id": "9GgSoWTkagkw"
      },
      "outputs": [],
      "source": [
        "family['BMI'].fillna(family[['Height','Weight']].apply(bmi, axis=1), inplace=True)"
      ]
    },
    {
      "cell_type": "code",
      "execution_count": null,
      "metadata": {
        "id": "JMsRTLFWagkw",
        "outputId": "78e6a7b8-4318-4d0f-8e75-ca45114a1c21"
      },
      "outputs": [
        {
          "data": {
            "text/html": [
              "<div>\n",
              "<style scoped>\n",
              "    .dataframe tbody tr th:only-of-type {\n",
              "        vertical-align: middle;\n",
              "    }\n",
              "\n",
              "    .dataframe tbody tr th {\n",
              "        vertical-align: top;\n",
              "    }\n",
              "\n",
              "    .dataframe thead th {\n",
              "        text-align: right;\n",
              "    }\n",
              "</style>\n",
              "<table border=\"1\" class=\"dataframe\">\n",
              "  <thead>\n",
              "    <tr style=\"text-align: right;\">\n",
              "      <th></th>\n",
              "      <th>First</th>\n",
              "      <th>Middle</th>\n",
              "      <th>Last</th>\n",
              "      <th>Height</th>\n",
              "      <th>Weight</th>\n",
              "      <th>Phone</th>\n",
              "      <th>BMI</th>\n",
              "    </tr>\n",
              "  </thead>\n",
              "  <tbody>\n",
              "    <tr>\n",
              "      <th>0</th>\n",
              "      <td>Paul</td>\n",
              "      <td>E</td>\n",
              "      <td>Boal</td>\n",
              "      <td>193</td>\n",
              "      <td>110</td>\n",
              "      <td>314-598-5494</td>\n",
              "      <td>29.530994</td>\n",
              "    </tr>\n",
              "    <tr>\n",
              "      <th>1</th>\n",
              "      <td>Teddy</td>\n",
              "      <td>J</td>\n",
              "      <td>Lester-Boal</td>\n",
              "      <td>101</td>\n",
              "      <td>23</td>\n",
              "      <td>314-555-1234</td>\n",
              "      <td>25.200000</td>\n",
              "    </tr>\n",
              "    <tr>\n",
              "      <th>2</th>\n",
              "      <td>John</td>\n",
              "      <td>P</td>\n",
              "      <td>Doe</td>\n",
              "      <td>160</td>\n",
              "      <td>100</td>\n",
              "      <td>490-982-5555</td>\n",
              "      <td>39.062500</td>\n",
              "    </tr>\n",
              "  </tbody>\n",
              "</table>\n",
              "</div>"
            ],
            "text/plain": [
              "   First Middle         Last  Height  Weight         Phone        BMI\n",
              "0   Paul      E         Boal     193     110  314-598-5494  29.530994\n",
              "1  Teddy      J  Lester-Boal     101      23  314-555-1234  25.200000\n",
              "2   John      P          Doe     160     100  490-982-5555  39.062500"
            ]
          },
          "execution_count": 21,
          "metadata": {},
          "output_type": "execute_result"
        }
      ],
      "source": [
        "family"
      ]
    },
    {
      "cell_type": "code",
      "execution_count": null,
      "metadata": {
        "id": "tSm158J6agkw",
        "outputId": "4b9bd4e7-a718-40dd-94dd-d1e12c74e23a"
      },
      "outputs": [
        {
          "data": {
            "text/plain": [
              "0    2.0\n",
              "1    1.0\n",
              "2    3.0\n",
              "Name: BMI, dtype: float64"
            ]
          },
          "execution_count": 22,
          "metadata": {},
          "output_type": "execute_result"
        }
      ],
      "source": [
        "family['BMI'].rank()"
      ]
    },
    {
      "cell_type": "code",
      "execution_count": null,
      "metadata": {
        "id": "dx9QI9aQagkw"
      },
      "outputs": [],
      "source": [
        "family"
      ]
    },
    {
      "cell_type": "code",
      "execution_count": null,
      "metadata": {
        "id": "CPFu3gVEagkw"
      },
      "outputs": [],
      "source": [
        "def bmi(height, weight):\n",
        "    \"\"\"float, float -> float\n",
        "    \"\"\"\n",
        "    return weight / (height/100)**2"
      ]
    },
    {
      "cell_type": "code",
      "execution_count": null,
      "metadata": {
        "id": "gYR-ek-Eagkw",
        "outputId": "dd7b4c7c-9b18-46c6-c0ba-90886b9e6cf8"
      },
      "outputs": [
        {
          "data": {
            "text/plain": [
              "0    29.530994\n",
              "1    22.546809\n",
              "2    39.062500\n",
              "dtype: float64"
            ]
          },
          "execution_count": 26,
          "metadata": {},
          "output_type": "execute_result"
        }
      ],
      "source": [
        "family.apply(lambda vals: bmi(vals['Height'], vals['Weight']), axis=1)"
      ]
    },
    {
      "cell_type": "code",
      "execution_count": null,
      "metadata": {
        "id": "9UFzNgj9agkw"
      },
      "outputs": [],
      "source": []
    }
  ],
  "metadata": {
    "kernelspec": {
      "display_name": "Python 3",
      "language": "python",
      "name": "python3"
    },
    "language_info": {
      "codemirror_mode": {
        "name": "ipython",
        "version": 3
      },
      "file_extension": ".py",
      "mimetype": "text/x-python",
      "name": "python",
      "nbconvert_exporter": "python",
      "pygments_lexer": "ipython3",
      "version": "3.6.7"
    },
    "colab": {
      "provenance": []
    }
  },
  "nbformat": 4,
  "nbformat_minor": 0
}