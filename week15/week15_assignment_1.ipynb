{
  "cells": [
    {
      "cell_type": "markdown",
      "metadata": {
        "id": "bR6IZWiqIoFb"
      },
      "source": [
        "# Nothing to do"
      ]
    },
    {
      "cell_type": "markdown",
      "metadata": {
        "id": "1QRhWFFJIoFc"
      },
      "source": [
        "There is no \"assignment_1\" file this week.  :)"
      ]
    },
    {
      "cell_type": "markdown",
      "metadata": {
        "id": "N8MscPTDIoFc"
      },
      "source": []
    }
  ],
  "metadata": {
    "language_info": {
      "name": "python"
    },
    "colab": {
      "provenance": []
    }
  },
  "nbformat": 4,
  "nbformat_minor": 0
}