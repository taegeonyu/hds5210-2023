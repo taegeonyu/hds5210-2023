{
  "nbformat": 4,
  "nbformat_minor": 0,
  "metadata": {
    "colab": {
      "provenance": [],
      "authorship_tag": "ABX9TyNuHht/oIubM1oYGSROBDKb",
      "include_colab_link": true
    },
    "kernelspec": {
      "name": "python3",
      "display_name": "Python 3"
    },
    "language_info": {
      "name": "python"
    }
  },
  "cells": [
    {
      "cell_type": "markdown",
      "metadata": {
        "id": "view-in-github",
        "colab_type": "text"
      },
      "source": [
        "<a href=\"https://colab.research.google.com/github/taegeonyu/hds5210-2023/blob/main/week2_inclass_part1.ipynb\" target=\"_parent\"><img src=\"https://colab.research.google.com/assets/colab-badge.svg\" alt=\"Open In Colab\"/></a>"
      ]
    },
    {
      "cell_type": "code",
      "execution_count": 5,
      "metadata": {
        "id": "f9ei0XPvuYk4",
        "colab": {
          "base_uri": "https://localhost:8080/"
        },
        "outputId": "1e9d77d6-449f-4f02-a1bf-2540214312b0"
      },
      "outputs": [
        {
          "output_type": "stream",
          "name": "stdout",
          "text": [
            "Hello World!!!\n"
          ]
        }
      ],
      "source": [
        "print(\"!!\")"
      ]
    },
    {
      "cell_type": "markdown",
      "source": [
        "My Documentation:\n",
        "I'm really excited to write codes"
      ],
      "metadata": {
        "id": "MTb9agUoxPJ6"
      }
    },
    {
      "cell_type": "code",
      "source": [],
      "metadata": {
        "id": "r6PiHo6dwnJ7"
      },
      "execution_count": null,
      "outputs": []
    }
  ]
}