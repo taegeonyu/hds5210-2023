{
  "cells": [
    {
      "cell_type": "markdown",
      "metadata": {
        "nbgrader": {
          "grade": false,
          "grade_id": "intro",
          "locked": true,
          "schema_version": 1,
          "solution": false
        },
        "id": "NrJUmK47WwQ3"
      },
      "source": [
        "# Week 4 Exercises\n",
        "\n",
        "See: _McKinney 3.1_ and [Python Documentation](https://docs.python.org/3/tutorial/datastructures.html) section 5 on data structures.\n",
        "\n",
        "Modules 13 through 15 have all been about different built-in data types that can be used to create larger and more complex data structures.  We learned about tuples, lists, dictionaries, and how to access and process that data in new ways.\n",
        "\n",
        "**At the begining of the semester, all of the workshop programming exercises will be structured a specific way to make it easier to verify for yourself that you're on the right track as well as easier for me to do a first pass on automated grading.  The structure of each question will require you to write a function using Python code. Don't worry that we haven't talked about functions yet. Just edit the code between** `### BEGIN SOLUTION` and `### END SOLUTION` **as shown in the example below.**\n"
      ]
    },
    {
      "cell_type": "markdown",
      "metadata": {
        "id": "jd8hzGTlWwQ4"
      },
      "source": [
        "**WHAT I PROVIDE:**\n",
        "```\n",
        "def some_function(parameter1, parameter2):\n",
        "\n",
        "   ### BEGIN SOLUTION\n",
        "   x = -1\n",
        "   ### END SOLUTION\n",
        "   \n",
        "   return x\n",
        "```\n",
        "\n",
        "**WHAT YOU SHOULD DO:** Just change the parameter names (if you feel you need to) and the calculations between `### BEGIN SOLUTION` and `### END SOLUTION`.  This is just a made up example.\n",
        "```\n",
        "def some_function(a, b):\n",
        "\n",
        "   ### BEGIN SOLUTION\n",
        "   temp = a + b\n",
        "   x = temp / a * b\n",
        "   ### END SOLUTION\n",
        "   \n",
        "   return x\n",
        "```\n"
      ]
    },
    {
      "cell_type": "markdown",
      "metadata": {
        "id": "D8UoLJ4IWwQ5"
      },
      "source": [
        "---\n",
        "---\n",
        "\n",
        "**Below each programming exercise are some tests (`assertions`) that verify your code is working correctly.  If any assertions fail, you know that something isnt' right with your code, but having all assertions pass doesn't necessarily mean your code is perfect, yet. You should also create your own tests to make sure your code is correct.**\n",
        "\n",
        "**For now, please don't change any function names**"
      ]
    },
    {
      "cell_type": "markdown",
      "metadata": {
        "id": "bWP03QTWWwQ5"
      },
      "source": [
        "### 20.1 Create a sorted list of names\n",
        "\n",
        "Take the list of names below (some are first and last, others are first, middle, and last) and produce a final list of full names separated by commas.\n",
        "\n",
        "```\n",
        "sort_names([\n",
        "  ['Paul', 'Boal'],\n",
        "  ['Kermit','the','Frog'],\n",
        "  ['Donald','Duck']])\n",
        "\n",
        "'Paul Boal, Donald Duck, Kermit the Frog'\n",
        "```"
      ]
    },
    {
      "cell_type": "markdown",
      "metadata": {
        "id": "PSoRzE6qWwQ5"
      },
      "source": [
        "**Tip:** If you have a list of lists and want to sort it, Python can do that. It will simply sort using the first item in each of the lists inside your list."
      ]
    },
    {
      "cell_type": "code",
      "execution_count": null,
      "metadata": {
        "id": "Ku2So1coWwQ5"
      },
      "outputs": [],
      "source": [
        "names = [['Paul', 'Boal'],\n",
        "  ['Kermit', 'the', 'Frog'],\n",
        "  ['Donald','Duck']]"
      ]
    },
    {
      "cell_type": "code",
      "execution_count": null,
      "metadata": {
        "id": "cuUqImB7WwQ6",
        "outputId": "d5304f74-984c-494d-f87b-3577754caf81"
      },
      "outputs": [
        {
          "name": "stdout",
          "output_type": "stream",
          "text": [
            "['Paul Boal', 'Donald Duck', 'Kermit the Frog']\n"
          ]
        }
      ],
      "source": [
        "# Version 1: Create a new list with the last name at the front, sort it, and return just the joined name string\n",
        "\n",
        "sortable_names = []\n",
        "for name in names:\n",
        "    sortable_names.append([name[-1], ' '.join(name)])\n",
        "    # ['Last', 'First and Last']\n",
        "\n",
        "sorted_names = []\n",
        "for name in sorted(sortable_names):\n",
        "    sorted_names.append(name[1])\n",
        "    # Just ['First and Last']\n",
        "\n",
        "print(sorted_names)"
      ]
    },
    {
      "cell_type": "code",
      "execution_count": null,
      "metadata": {
        "id": "E-z5X07yWwQ6",
        "outputId": "646a59a7-ba2d-4357-9fa4-0234cd0b7707"
      },
      "outputs": [
        {
          "name": "stdout",
          "output_type": "stream",
          "text": [
            "['Paul Boal', 'Donald Duck', 'Kermit the Frog']\n"
          ]
        }
      ],
      "source": [
        "# Version 2: Using the sort key parameter\n",
        "\n",
        "names.sort(key=lambda x: x[-1])\n",
        "sorted_names = [' '.join(name) for name in names]\n",
        "\n",
        "print(sorted_names)"
      ]
    },
    {
      "cell_type": "markdown",
      "metadata": {
        "id": "KPOrXykxWwQ6"
      },
      "source": [
        "### 20.2 Convert a dictionary to a list\n",
        "\n",
        "In this exercise, we're going to take a dictionary that has families and their names, and convert that into a list of names.  The dictionary is structured such that the key is the family name, and the value for that key is a list of first names.\n",
        "\n",
        "```\n",
        "{\n",
        "  'Boal': ['Paul', 'Anny', 'Jim'],\n",
        "  'Lester-Boal': ['Ellie', 'Ada', 'Teddy'],\n",
        "  'Lester': ['Sarahlynn', 'Jessica', 'Grace', 'Carolynn']\n",
        "}\n",
        "\n",
        "[['Boal', 'Paul'],\n",
        " ['Boal', 'Anny'],\n",
        " ['Boal', 'Jim'],\n",
        " ['Lester-Boal', 'Elliie'],\n",
        " ['Lester-Boal', 'Ada'],\n",
        " ...\n",
        "```"
      ]
    },
    {
      "cell_type": "code",
      "execution_count": null,
      "metadata": {
        "id": "EBDkVJDQWwQ7"
      },
      "outputs": [],
      "source": [
        "families = {\n",
        "  'Boal': ['Paul', 'Anny', 'Jim'],\n",
        "  'Lester-Boal': ['Ellie', 'Ada', 'Teddy'],\n",
        "  'Lester': ['Sarahlynn', 'Jessica', 'Grace', 'Carolynn']\n",
        "}"
      ]
    },
    {
      "cell_type": "code",
      "execution_count": null,
      "metadata": {
        "id": "t8M0mHEoWwQ7"
      },
      "outputs": [],
      "source": [
        "# The purpose here was to get you thinking about loops inside of loops\n",
        "def dict_to_list(families):\n",
        "    output = []\n",
        "\n",
        "    # First, we create a loop to go through the dictionary\n",
        "    for last, names in families.items():\n",
        "        # For each dictionary item's value, we loop through the list of first names there\n",
        "        for first in names:\n",
        "            output.append([last, first])\n",
        "\n",
        "    return output"
      ]
    },
    {
      "cell_type": "code",
      "execution_count": null,
      "metadata": {
        "id": "xDSkL9CRWwQ7",
        "outputId": "92556813-45c1-455e-db3f-d37e645924de"
      },
      "outputs": [
        {
          "data": {
            "text/plain": [
              "[['Duck', 'Hewey'],\n",
              " ['Duck', 'Dewey'],\n",
              " ['Duck', 'Louie'],\n",
              " ['Mouse', 'Mickey'],\n",
              " ['Mouse', 'Minney']]"
            ]
          },
          "execution_count": 6,
          "metadata": {},
          "output_type": "execute_result"
        }
      ],
      "source": [
        "dict_to_list({'Duck': ['Hewey','Dewey','Louie'],\n",
        "              'Mouse': ['Mickey','Minney']})"
      ]
    },
    {
      "cell_type": "markdown",
      "metadata": {
        "nbgrader": {
          "grade": false,
          "grade_id": "average",
          "locked": true,
          "schema_version": 1,
          "solution": false
        },
        "id": "uEa7EPvqWwQ7"
      },
      "source": [
        "### 20.3 Convert a list to a dictionary\n",
        "\n",
        "Take the list of lists below and convert it into a dictionary where the entries in the dictionary are keyed off of whatever values are in column 0, and the dictionary values are the list of all the values that appear with that key from the input list."
      ]
    },
    {
      "cell_type": "code",
      "execution_count": null,
      "metadata": {
        "nbgrader": {
          "grade": false,
          "grade_id": "average-answer",
          "locked": false,
          "schema_version": 1,
          "solution": true
        },
        "id": "7cePqPAqWwQ7"
      },
      "outputs": [],
      "source": [
        "def list_to_dict():\n",
        "\n",
        "    names = [['Boal', 'Paul'],\n",
        "             ['Duck', 'Donald'],\n",
        "             ['Duck', 'Daisy'],\n",
        "             ['Boal', 'Ada'],\n",
        "             ['Boal', 'Teddy'],\n",
        "             ['Westhus', 'Eric']]\n",
        "\n",
        "    # To help you, I've provided a blank dictionary named `families`.\n",
        "    families = {}\n",
        "\n",
        "    # Your code should loop through `names` and do something to build\n",
        "    # up `families` to be the output dictionary shown in the test\n",
        "    # cells below.\n",
        "    for last, first in names:\n",
        "        families.setdefault(last, [])  # You could have also tested if last in names, but I like this one line shortcut\n",
        "        families[last].append(first)   # The value for families[last] will be a list, so we append each first name to it\n",
        "\n",
        "    ### BEGIN SOLUTION\n",
        "    # Put your solution here\n",
        "    ### END SOLUTION\n",
        "\n",
        "    return families\n"
      ]
    },
    {
      "cell_type": "code",
      "execution_count": null,
      "metadata": {
        "id": "XJX1ECueWwQ7",
        "outputId": "0674cd58-37ea-402f-9611-ec80be81c2f8"
      },
      "outputs": [
        {
          "data": {
            "text/plain": [
              "{'Boal': ['Paul', 'Ada', 'Teddy'],\n",
              " 'Duck': ['Donald', 'Daisy'],\n",
              " 'Westhus': ['Eric']}"
            ]
          },
          "execution_count": 8,
          "metadata": {},
          "output_type": "execute_result"
        }
      ],
      "source": [
        "list_to_dict()"
      ]
    },
    {
      "cell_type": "code",
      "execution_count": null,
      "metadata": {
        "nbgrader": {
          "grade": true,
          "grade_id": "average-tests",
          "locked": true,
          "points": 5,
          "schema_version": 1,
          "solution": false
        },
        "id": "Lj-4mZL1WwQ7"
      },
      "outputs": [],
      "source": [
        "answer = {\n",
        " 'Boal':    ['Paul', 'Ada', 'Teddy'],\n",
        " 'Duck':    ['Donald', 'Daisy'],\n",
        " 'Westhus': ['Eric']\n",
        "}\n",
        "\n",
        "assert (list_to_dict() == answer)"
      ]
    },
    {
      "cell_type": "markdown",
      "metadata": {
        "id": "bJM4USmuWwQ7"
      },
      "source": [
        "### 20.4 Join using a dictionary\n",
        "\n",
        "We have a list of patients, diagnosis, and length of stay.  We also have a dictionary that contains diagnosis and average length of stay.  Produce an output list that lists the patient and an indicator if the patient's stay was 'too long', 'too short', 'just right'"
      ]
    },
    {
      "cell_type": "code",
      "execution_count": null,
      "metadata": {
        "nbgrader": {
          "grade": false,
          "grade_id": "cell-f3813e33810dc898",
          "locked": false,
          "schema_version": 1,
          "solution": true
        },
        "id": "_oMHNkRIWwQ7"
      },
      "outputs": [],
      "source": [
        "# The thing to realize here is that you don't have to loop through the dictionary for each patient.\n",
        "# You can just access the avg_los value you want directly with avg_los.get(diagnosis)\n",
        "def patient_los(avg_los, patients):\n",
        "\n",
        "    conclusions = []\n",
        "\n",
        "    # We loop through all the patients\n",
        "    # This could have also been for name, diagnosis, actual_los in patients\n",
        "    # Python automatically expands inner list items like that\n",
        "    for pat in patients:\n",
        "        name = pat[0]\n",
        "        diagnosis = pat[1]\n",
        "        actual_los = pat[2]\n",
        "        # Here, we get the average / expected LOS\n",
        "        target_los = avg_los.get(diagnosis)\n",
        "\n",
        "        # Do our comparisons\n",
        "        if actual_los == target_los:\n",
        "            comment = \"just right\"\n",
        "        elif actual_los < target_los:\n",
        "            comment = \"too short\"\n",
        "        else:\n",
        "            comment = \"too long\"\n",
        "\n",
        "        conclusions.append([name, comment])\n",
        "\n",
        "    return conclusions"
      ]
    },
    {
      "cell_type": "code",
      "execution_count": null,
      "metadata": {
        "id": "z85w8Bo8WwQ8",
        "outputId": "c4bd19ac-9861-4d3b-a039-136d0dd4c986"
      },
      "outputs": [
        {
          "data": {
            "text/plain": [
              "[['Boal', 'too short'],\n",
              " ['Boal', 'too long'],\n",
              " ['Jones', 'just right'],\n",
              " ['Ashbury', 'too short']]"
            ]
          },
          "execution_count": 11,
          "metadata": {},
          "output_type": "execute_result"
        }
      ],
      "source": [
        "avg_los = {\n",
        "    \"Hemolytic jaundice and perinatal jaundice\" : 2,\n",
        "    \"Medical examination/evaluation\" : 3.2,\n",
        "    \"Liveborn\" : 3.2,\n",
        "    \"Trauma to perineum and vulva\" : 2.1,\n",
        "    \"Normal pregnancy and/or delivery\" : 2,\n",
        "    \"Umbilical cord complication\" : 2.1,\n",
        "    \"Forceps delivery\" : 2.2,\n",
        "    \"Administrative/social admission\" : 4.2,\n",
        "    \"Prolonged pregnancy\" : 2.4,\n",
        "    \"Other complications of pregnancy\" : 2.5\n",
        "}\n",
        "\n",
        "patients = [\n",
        "    ['Boal', 'Medical examination/evaluation', 1.1],\n",
        "    ['Boal', 'Other complications of pregnancy', 3.3],\n",
        "    ['Jones', 'Liveborn', 3.2],\n",
        "    ['Ashbury', 'Forceps delivery', 2.0]\n",
        "]\n",
        "\n",
        "patient_los(avg_los, patients)"
      ]
    },
    {
      "cell_type": "code",
      "execution_count": null,
      "metadata": {
        "nbgrader": {
          "grade": true,
          "grade_id": "cell-2af0a520bb56ee21",
          "locked": true,
          "points": 10,
          "schema_version": 1,
          "solution": false
        },
        "id": "t3PF_jm7WwQ8"
      },
      "outputs": [],
      "source": [
        "conclusions = [['Boal', 'too short'],\n",
        "    ['Boal', 'too long'],\n",
        "    ['Jones', 'just right'],\n",
        "    ['Ashbury', 'too short']]\n",
        "\n",
        "assert(patient_los(avg_los, patients) == conclusions)"
      ]
    },
    {
      "cell_type": "code",
      "execution_count": null,
      "metadata": {
        "id": "3qPbZ_JRWwQ8"
      },
      "outputs": [],
      "source": []
    }
  ],
  "metadata": {
    "celltoolbar": "Create Assignment",
    "kernelspec": {
      "display_name": "Python 3",
      "language": "python",
      "name": "python3"
    },
    "language_info": {
      "codemirror_mode": {
        "name": "ipython",
        "version": 3
      },
      "file_extension": ".py",
      "mimetype": "text/x-python",
      "name": "python",
      "nbconvert_exporter": "python",
      "pygments_lexer": "ipython3",
      "version": "3.9.16"
    },
    "colab": {
      "provenance": []
    }
  },
  "nbformat": 4,
  "nbformat_minor": 0
}