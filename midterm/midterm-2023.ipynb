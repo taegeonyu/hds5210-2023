{
  "cells": [
    {
      "cell_type": "markdown",
      "metadata": {
        "id": "41bHmhLl_bWw"
      },
      "source": [
        "# HDS5210-2022 Midterm\n",
        "\n",
        "In the midterm, you're going to use all the programming and data management skills you've developed so far to build a risk calculator that pretends to be integrated with a clinical registry.  You'll compute the PRIEST COVID-19 Clinical Severity Score for a series of patients and, based on their risk of an adverse outcome, query a REST web service to find a hospital to transfer them to. The end result of your work will be a list of instructions on where each patient should be discharged given their risk and various characteristics of the patient.\n",
        "\n",
        "Each step in the midterm will build up to form your complete solution.\n",
        "\n",
        "**Make sure you write good docstrings and doctests along the way!!**\n",
        "\n",
        "**The midterm is due at 11:59 PM CST on Monday, October 23rd.**\n",
        "\n",
        "---"
      ]
    },
    {
      "cell_type": "markdown",
      "metadata": {
        "id": "TT8gBcWw_bWx"
      },
      "source": [
        "## Step 1: Calculate PRIEST Clinical Severity Score\n",
        "\n",
        "This scoring algorithm can be found [here on the MDCalc website](https://www.mdcalc.com/priest-covid-19-clinical-severity-score#evidence).  \n",
        "\n",
        "1. You will need to write a function called **priest()** with the following input parameters.  \n",
        " * Sex (Gender assigned at birth)\n",
        " * Age in years\n",
        " * Respiratory rate in breaths per minute\n",
        " * Oxygen saturation as a percent between 0 and 1\n",
        " * Heart rate in beats per minute\n",
        " * Systolic BP in mmHg\n",
        " * Temperature in degrees C\n",
        " * Alertness as a string description\n",
        " * Inspired Oxygen as as string description\n",
        " * Performance Status as a string description\n",
        "2. The function will need to follow the algorithm provided on the MDCalc website to compute a risk percentage that should be returned as a numeric value between 0 and 1.\n",
        "3. Be sure to use docstring documentation and at least three built-in docstring test cases.\n",
        "4. Assume that the input values that are strings could be any combination of upper or lower case. For example: 'male', 'Male', 'MALE', 'MalE' should all be interpretted by your code as male.\n",
        "5. If any of the inputs are invalid (for example a sex value that is not recognizable as male or female) your code should return None.\n",
        "\n",
        "NOTES:\n",
        "1. In the final step there is a table that translates from **PRIEST Score** to **30-day probability of an outcome** but the last two probabilities are shown as ranges (59-88% and >99%).  Our code needs to output a single number, however. For our code, use the following rule:\n",
        " * If PRIEST score is between 17 and 25, the probability you return should be 0.59\n",
        " * If PRIEST score is greater than or equal to 26, the probability you return should be 0.99\n"
      ]
    },
    {
      "cell_type": "code",
      "execution_count": 1,
      "metadata": {
        "id": "JjAU3sRQ_bWx"
      },
      "outputs": [],
      "source": [
        "def priest(sex, age_in_years, res_rate_in_breaths_per_mins, ox_sat_btw_0_and_1, heart_rate_in_beats_per_min,\n",
        "           systolic_bp_in_mmhg, temp_c, alertness, inspired_oxygen, performance_status):\n",
        "  \"\"\"\n",
        "  >>> priest(\"male\", 94, 26, 0.9, 135, 228, 39.1, \"confused or not alert\", \"supplemental oxygen\", \"bed/chair bound, no self-care\")\n",
        "  0.99\n",
        "  >>> priest(\"female\", 92, 27, 0.88, 139, 220, 39.1, \"confused or not alert\", \"air\", \"bed/chair bound, no self-care\")\n",
        "  0.59\n",
        "  >>> priest(\"male\", 98, 29, 0.85, 147, 221, 38.5, \"confused or not alert\", \"supplemental oxygen\", \"limited self-care\")\n",
        "  0.99\n",
        "  \"\"\"\n",
        "  score = 0\n",
        "  probability = 0\n",
        "  if sex == \"female\":\n",
        "                          score+=0\n",
        "  else:\n",
        "                          score+=1\n",
        "\n",
        "  if 16<=age_in_years<=49:\n",
        "                          score+=0\n",
        "  elif 50<=age_in_years<=65:\n",
        "                          score+=2\n",
        "  elif 66<=age_in_years<=80:\n",
        "                          score+=3\n",
        "  else:\n",
        "                          score+=4\n",
        "\n",
        "  if res_rate_in_breaths_per_mins<9:\n",
        "                                            score+=3\n",
        "  elif 9<=res_rate_in_breaths_per_mins<=11:\n",
        "                                            score+=1\n",
        "  elif 12<=res_rate_in_breaths_per_mins<=20:\n",
        "                                            score+=0\n",
        "  elif 21<=res_rate_in_breaths_per_mins<=24:\n",
        "                                            score+=2\n",
        "  else:\n",
        "                                            score+=3\n",
        "  if ox_sat_btw_0_and_1>0.95:\n",
        "                                            score+=0\n",
        "  elif 0.94<=ox_sat_btw_0_and_1<=0.95:\n",
        "                                            score+=1\n",
        "  elif 0.92<=ox_sat_btw_0_and_1<0.93:\n",
        "                                            score+=2\n",
        "  else:\n",
        "                                            score+=3\n",
        "\n",
        "  if heart_rate_in_beats_per_min<41:\n",
        "                                            score+=3\n",
        "  elif 41<=heart_rate_in_beats_per_min<=50:\n",
        "                                            score+=1\n",
        "  elif 51<=heart_rate_in_beats_per_min<=90:\n",
        "                                            score+=0\n",
        "  elif 91<=heart_rate_in_beats_per_min<=110:\n",
        "                                            score+=1\n",
        "  elif 111<=heart_rate_in_beats_per_min<=130:\n",
        "                                            score+=2\n",
        "  else:\n",
        "                                            score+=3\n",
        "\n",
        "  if systolic_bp_in_mmhg<91:\n",
        "                                            score+=3\n",
        "  elif 91<=systolic_bp_in_mmhg<=100:\n",
        "                                            score+=2\n",
        "  elif 101<=systolic_bp_in_mmhg<=110:\n",
        "                                            score+=1\n",
        "  elif 111<=systolic_bp_in_mmhg<=219:\n",
        "                                            score+=0\n",
        "  else:\n",
        "                                            score+=3\n",
        "\n",
        "  if temp_c<35.1:\n",
        "                                            score+=3\n",
        "  elif 35.1<=temp_c<=36.0:\n",
        "                                            score+=1\n",
        "  elif 36.1<=temp_c<=38.0:\n",
        "                                            score+=0\n",
        "  elif 38.1<=temp_c<=39.0:\n",
        "                                            score+=1\n",
        "  else:\n",
        "                                            score+=2\n",
        "\n",
        "  if alertness==\"alert\":\n",
        "                                            score+=0\n",
        "  elif alertness==\"confused or not alert\":\n",
        "                                            score+=3\n",
        "  else:\n",
        "                                            score==0\n",
        "\n",
        "\n",
        "  if inspired_oxygen == \"air\":\n",
        "                                            score+=0\n",
        "  elif inspired_oxygen == \"supplemental oxygen\":\n",
        "                                            score+=2\n",
        "  else:\n",
        "                                            score==score\n",
        "\n",
        "  if performance_status == \"unstricted normal activity\":\n",
        "                                            score+=0\n",
        "  elif performance_status == \"limited strenuous activity, can do light activity\":\n",
        "                                            score+=1\n",
        "  elif performance_status == \"limited activity, can self-care\":\n",
        "                                            score+=2\n",
        "  elif performance_status == \"limited self-care\":\n",
        "                                            score+=3\n",
        "  elif performance_status == \"bed/chair bound, no self-care\":\n",
        "                                            score+=4\n",
        "  else:\n",
        "                                            score==score\n",
        "  if 17<=score<=25:\n",
        "                          probability = 0.59\n",
        "\n",
        "  elif score>=26:\n",
        "                          probability = 0.99\n",
        "\n",
        "  return probability"
      ]
    },
    {
      "cell_type": "code",
      "execution_count": 2,
      "metadata": {
        "colab": {
          "base_uri": "https://localhost:8080/"
        },
        "id": "jqMnYG1p_bWx",
        "outputId": "0b094a45-d480-4e56-aea2-53aeefbd7e1a"
      },
      "outputs": [
        {
          "output_type": "stream",
          "name": "stderr",
          "text": [
            "\n",
            "PYDEV DEBUGGER WARNING:\n",
            "sys.settrace() should not be used when the debugger is being used.\n",
            "This may cause the debugger to stop working correctly.\n",
            "If this is needed, please check: \n",
            "http://pydev.blogspot.com/2007/06/why-cant-pydev-debugger-work-with.html\n",
            "to see how to restore the debug tracing back correctly.\n",
            "Call Location:\n",
            "  File \"/usr/lib/python3.10/doctest.py\", line 1501, in run\n",
            "    sys.settrace(save_trace)\n",
            "\n"
          ]
        },
        {
          "output_type": "stream",
          "name": "stdout",
          "text": [
            "Finding tests in NoName\n",
            "Trying:\n",
            "    priest(\"male\", 94, 26, 0.9, 135, 228, 39.1, \"confused or not alert\", \"supplemental oxygen\", \"bed/chair bound, no self-care\")\n",
            "Expecting:\n",
            "    0.99\n",
            "ok\n",
            "Trying:\n",
            "    priest(\"female\", 92, 27, 0.88, 139, 220, 39.1, \"confused or not alert\", \"air\", \"bed/chair bound, no self-care\")\n",
            "Expecting:\n",
            "    0.59\n",
            "ok\n",
            "Trying:\n",
            "    priest(\"male\", 98, 29, 0.85, 147, 221, 38.5, \"confused or not alert\", \"supplemental oxygen\", \"limited self-care\")\n",
            "Expecting:\n",
            "    0.99\n",
            "ok\n"
          ]
        }
      ],
      "source": [
        "import doctest\n",
        "doctest.run_docstring_examples(priest, globals(),verbose=True)"
      ]
    },
    {
      "cell_type": "markdown",
      "metadata": {
        "id": "MqC1JHu5_bWx"
      },
      "source": [
        "## Part 2: Find a hospital\n",
        "\n",
        "The next thing we have to do is figure out where to send this particular patient.  The guidelines on where to send a patient are based on their age (pediatric, adult, geriatric), sex, and risk percentage.  Luckily, you don't have to implement these rules. I already have. All you have to do is use a REST web service that I've created for you.\n",
        "\n",
        "You'll want to use Python to make a call to my REST web service similar to the example URL below. The first part of the URL will be the same for everyone and every request that you make. What you will need to modify for each of your requests is the information after the question mark.\n",
        "\n",
        "```\n",
        "https://oumdj6oci2.execute-api.us-east-1.amazonaws.com/prd/?age=40&sex=male&risk_pct=0.1\n",
        "```\n",
        "\n",
        "The example above asks my web service where a 40-year old male with a risk of 10% should go.  What the web service will return back is a JSON string containing the information you need.  That JSON will look like this:\n",
        "\n",
        "```json\n",
        "{\n",
        "  \"age\": \"40\",\n",
        "  \"sex\": \"male\",\n",
        "  \"risk\": \"0.1\",\n",
        "  \"hospital\": \"Southwest Hospital and Medical Center\"\n",
        "}\n",
        "```\n",
        "\n",
        "My function is not smart enough to understand `'MALE'` is the same as `'male'`.  You have to send it exactly `'male'` or `'female'`\n",
        "\n",
        "1. Your job is to write a function called **find_hospital()** that takes age, sex, and risk as parameters.\n",
        "2. Your function should call this REST web service using the `requests` module\n",
        "3. Then your function will need to interpret the JSON it gets and return just the name of the hospital\n",
        "4. If anything fails, return None\n",
        "5. Include a good docstring with at least three test cases.\n"
      ]
    },
    {
      "cell_type": "code",
      "execution_count": 3,
      "metadata": {
        "id": "T-GD3agz_bWx"
      },
      "outputs": [],
      "source": [
        "import requests\n",
        "from urllib.parse import urlencode\n",
        "\n",
        "def find_hospital(age, sex, risk):\n",
        "    \"\"\"\n",
        "    >>> find_hospital(\"18\", \"male\", \"0.45\")\n",
        "    'Emory Dunwoody Medical Center'\n",
        "    >>> find_hospital(\"76\", \"female\", \"0.3\")\n",
        "    'Wesley Woods Geriatric Hospital'\n",
        "    >>> find_hospital(\"45\", \"male\", \"0.2\")\n",
        "    'Southwest Hospital and Medical Center'\n",
        "    >>> find_hospital(\"4\", \"female\", \"0.7\")\n",
        "    'Hughes Spalding Childrens Hospital'\n",
        "    \"\"\"\n",
        "\n",
        "    default_url = \"https://oumdj6oci2.execute-api.us-east-1.amazonaws.com/prd/?\"\n",
        "\n",
        "    patient_data = {\n",
        "                    \"age\": age,\n",
        "                    \"sex\": sex,\n",
        "                   \"risk_pct\": risk\n",
        "    }\n",
        "    custom_url = default_url + urlencode(patient_data)\n",
        "    get_url = requests.get(custom_url)\n",
        "    p_data = get_url.json()\n",
        "    hospital = p_data.get(\"hospital\")\n",
        "    return hospital"
      ]
    },
    {
      "cell_type": "code",
      "execution_count": 4,
      "metadata": {
        "colab": {
          "base_uri": "https://localhost:8080/"
        },
        "id": "69hvz09J_bWx",
        "outputId": "6a106664-247e-4bc7-9fd3-6d6ee0f225cb"
      },
      "outputs": [
        {
          "output_type": "stream",
          "name": "stdout",
          "text": [
            "Finding tests in NoName\n",
            "Trying:\n",
            "    find_hospital(\"18\", \"male\", \"0.45\")\n",
            "Expecting:\n",
            "    'Emory Dunwoody Medical Center'\n",
            "ok\n",
            "Trying:\n",
            "    find_hospital(\"76\", \"female\", \"0.3\")\n",
            "Expecting:\n",
            "    'Wesley Woods Geriatric Hospital'\n",
            "ok\n",
            "Trying:\n",
            "    find_hospital(\"45\", \"male\", \"0.2\")\n",
            "Expecting:\n",
            "    'Southwest Hospital and Medical Center'\n",
            "ok\n",
            "Trying:\n",
            "    find_hospital(\"4\", \"female\", \"0.7\")\n",
            "Expecting:\n",
            "    'Hughes Spalding Childrens Hospital'\n",
            "ok\n"
          ]
        }
      ],
      "source": [
        "import doctest\n",
        "doctest.run_docstring_examples(find_hospital, globals(),verbose=True)"
      ]
    },
    {
      "cell_type": "markdown",
      "metadata": {
        "id": "l7UHlMkK_bWy"
      },
      "source": [
        "## Part 3: Get the address for that hospital from a JSON file\n",
        "\n",
        "Great! Now we have code to tell us which hospital to send someone to... but we don't know where that hospital is. The next function we need to create is one that looks up the address of that hospital.  All of these hospitals are in Atlanta, Georgia.  We're going to use the list from this webpage to lookup the address for that hospital, based on its name.  https://www.officialusa.com/stateguides/health/hospitals/georgia.html\n",
        "\n",
        "Because we skipped the section about Beautiful Soup and working with HTML, I've converted this information into a JSON document for you.  It's available for you here.  Your code should retrieve this file using the `requests` module.\n",
        "\n",
        "`https://drive.google.com/uc?export=download&id=1fIFD-NkcdiMu941N4GjyMDWxiKsFJBw-`\n",
        "\n",
        "1. You need to create a function called **get_address()** that takes hospital name as a parameter and searches the data from this JSON file for the hospital you want to find.\n",
        "2. Your code will have to load the JSON and return the correct hospital based on name.\n",
        "3. If the hospital name isn't found, the function should return None.\n",
        "4. Be sure to use good docstring documentation and includes at least 3 test cases."
      ]
    },
    {
      "cell_type": "code",
      "execution_count": 5,
      "metadata": {
        "id": "GQ3P20I4_bWy"
      },
      "outputs": [],
      "source": [
        "import json\n",
        "import requests\n",
        "\n",
        "def get_address(hospital):\n",
        "    \"\"\"\n",
        "    >>> get_address('EMORY DUNWOODY MEDICAL CENTER')\n",
        "    '4500 NORTH SHALLOWFORD ROAD'\n",
        "\n",
        "    >>> get_address('WESLEY WOODS GERIATRIC HOSPITAL')\n",
        "    '1821 CLIFTON ROAD, NE'\n",
        "\n",
        "    >>> get_address('SOUTHWEST HOSPITAL AND MEDICAL CENTER')\n",
        "    '501 FAIRBURN ROAD SW'\n",
        "\n",
        "    >>> get_address('HUGHES SPALDING CHILDRENS HOSPITAL')\n",
        "    '1711 TULLIE CIRCLE NE'\n",
        "    \"\"\"\n",
        "    json_url = 'https://drive.google.com/uc?export=download&id=1fIFD-NkcdiMu941N4GjyMDWxiKsFJBw-'\n",
        "\n",
        "    retrieve_data = requests.get(json_url)\n",
        "    hospital_data = json.loads(retrieve_data.text)\n",
        "\n",
        "    if hospital in hospital_data.keys():\n",
        "            return hospital_data[hospital][\"ADDRESS\"]\n",
        "    else:\n",
        "            return None\n"
      ]
    },
    {
      "cell_type": "code",
      "source": [
        "import doctest\n",
        "doctest.run_docstring_examples(get_address, globals(),verbose=True)"
      ],
      "metadata": {
        "colab": {
          "base_uri": "https://localhost:8080/"
        },
        "id": "FzYthfxh3ikx",
        "outputId": "f2482ef3-e8c1-4063-b434-5f1ed81fd529"
      },
      "execution_count": 6,
      "outputs": [
        {
          "output_type": "stream",
          "name": "stdout",
          "text": [
            "Finding tests in NoName\n",
            "Trying:\n",
            "    get_address('EMORY DUNWOODY MEDICAL CENTER')\n",
            "Expecting:\n",
            "    '4500 NORTH SHALLOWFORD ROAD'\n",
            "ok\n",
            "Trying:\n",
            "    get_address('WESLEY WOODS GERIATRIC HOSPITAL')\n",
            "Expecting:\n",
            "    '1821 CLIFTON ROAD, NE'\n",
            "ok\n",
            "Trying:\n",
            "    get_address('SOUTHWEST HOSPITAL AND MEDICAL CENTER') \n",
            "Expecting:\n",
            "    '501 FAIRBURN ROAD SW'\n",
            "ok\n",
            "Trying:\n",
            "    get_address('HUGHES SPALDING CHILDRENS HOSPITAL')\n",
            "Expecting:\n",
            "    '1711 TULLIE CIRCLE NE'\n",
            "ok\n"
          ]
        }
      ]
    },
    {
      "cell_type": "markdown",
      "metadata": {
        "id": "5cSHVsgk_bWy"
      },
      "source": [
        "## Part 4: Run the risk calculator on a population\n",
        "\n",
        "At the link below, there is a file called `people.psv`.  It is a pipe-delimited (`|`) file with columns that match the inputs for the PRIEST calculation above.  Your code should use the `requests` module to retrieve the file from this URL.\n",
        "\n",
        "`https://drive.google.com/uc?export=download&id=1fLxJN9YGUqmqExrilxSS8furwUER5HHh`\n",
        "\n",
        "\n",
        "In addition, the file has a patient identifier in the first column.\n",
        "\n",
        "1. Write a function called **process_people()** that takes the file location above as its only parameter. Your Python program should use your code above to process all of these rows, determine the hospital and address, and return a list whose items are a dictionary like this: `{ patient_number: [sex, age, breath, o2sat, heart, systolic, temp, alertness, inspired, status, hospital, address]}`.  Look at the file in Part 5 for what the output looks like.\n",
        "2. Be sure to use good docstrings, but you don't need any tests in your doc strings.  I've provided those for you withe file in Part 5.\n",
        "\n",
        "\n",
        "**NOTE** that when running your code for all the 100 records in the `people.psv` file, it may take a few minutes to complete.  You're making multiple calls to the internet for each record, so that can take a little while.\n"
      ]
    },
    {
      "cell_type": "code",
      "execution_count": 7,
      "metadata": {
        "id": "ZrU3h0VR_bWy"
      },
      "outputs": [],
      "source": [
        "def people_process(url):\n",
        "  people_info = requests.get(url)\n",
        "  people_split = people_info.text.split('\\n')\n",
        "  people = []\n",
        "  for people_row in people_split[1:]:\n",
        "    patient = people_row.split('|')\n",
        "\n",
        "    patient_num = patient[0]\n",
        "    sex = patient[1]\n",
        "    age = int(patient[2])\n",
        "    resp_rate = float(patient[3])\n",
        "    o2_sat = float(patient[4])\n",
        "    hr = float(patient[5])\n",
        "    sys_bp = float(patient[6])\n",
        "    temp = float(patient[7])\n",
        "    alert = patient[8]\n",
        "    insp_o2 = patient[9]\n",
        "    status = patient[10]\n",
        "\n",
        "    risk = priest(sex, age, resp_rate, o2_sat, hr, sys_bp, temp, alert, insp_o2, status)\n",
        "    risk = float(risk)\n",
        "    hospital = find_hospital(age, sex, risk)\n",
        "    address = get_address(hospital)\n",
        "    patient_data = {patient_num: [sex, age, resp_rate, o2_sat, hr, sys_bp, temp, alert, insp_o2, status, risk, hospital, address]}\n",
        "    people.append(patient_data)\n",
        "  return people\n",
        "people_url = 'https://drive.google.com/uc?export=download&id=1fLxJN9YGUqmqExrilxSS8furwUER5HHh'"
      ]
    },
    {
      "cell_type": "markdown",
      "metadata": {
        "id": "IHYqJOiC_bWy"
      },
      "source": [
        "## Part 5: Checking your final results\n",
        "\n",
        "The final step is to check your results.  You should be able to compare your results to the output in `people_results.json` at the link below.  Write some code to check your results.  This does not need to be a function.\n",
        "\n",
        "`https://drive.google.com/uc?export=download&id=1gx1SSC20mO5XL6uYD0mdcM_cL91fcIW5`\n"
      ]
    },
    {
      "cell_type": "code",
      "execution_count": 8,
      "metadata": {
        "colab": {
          "base_uri": "https://localhost:8080/",
          "height": 375
        },
        "id": "FHywwsEg_bWy",
        "outputId": "e05ea8fd-cf38-4e7b-97f3-91a92bc2c71f"
      },
      "outputs": [
        {
          "output_type": "error",
          "ename": "IndexError",
          "evalue": "ignored",
          "traceback": [
            "\u001b[0;31m---------------------------------------------------------------------------\u001b[0m",
            "\u001b[0;31mIndexError\u001b[0m                                Traceback (most recent call last)",
            "\u001b[0;32m<ipython-input-8-0b9e36280f55>\u001b[0m in \u001b[0;36m<cell line: 8>\u001b[0;34m()\u001b[0m\n\u001b[1;32m      6\u001b[0m \u001b[0;34m\u001b[0m\u001b[0m\n\u001b[1;32m      7\u001b[0m \u001b[0;34m\u001b[0m\u001b[0m\n\u001b[0;32m----> 8\u001b[0;31m \u001b[0mmy_results\u001b[0m \u001b[0;34m=\u001b[0m \u001b[0mpeople_process\u001b[0m\u001b[0;34m(\u001b[0m\u001b[0mmy_url\u001b[0m\u001b[0;34m)\u001b[0m\u001b[0;34m\u001b[0m\u001b[0;34m\u001b[0m\u001b[0m\n\u001b[0m\u001b[1;32m      9\u001b[0m \u001b[0mpeople_results\u001b[0m \u001b[0;34m=\u001b[0m \u001b[0mrequests\u001b[0m\u001b[0;34m.\u001b[0m\u001b[0mget\u001b[0m\u001b[0;34m(\u001b[0m\u001b[0mpeople_results_url\u001b[0m\u001b[0;34m)\u001b[0m\u001b[0;34m\u001b[0m\u001b[0;34m\u001b[0m\u001b[0m\n\u001b[1;32m     10\u001b[0m \u001b[0;34m\u001b[0m\u001b[0m\n",
            "\u001b[0;32m<ipython-input-7-dd31ccb94b04>\u001b[0m in \u001b[0;36mpeople_process\u001b[0;34m(url)\u001b[0m\n\u001b[1;32m      7\u001b[0m \u001b[0;34m\u001b[0m\u001b[0m\n\u001b[1;32m      8\u001b[0m     \u001b[0mpatient_num\u001b[0m \u001b[0;34m=\u001b[0m \u001b[0mpatient\u001b[0m\u001b[0;34m[\u001b[0m\u001b[0;36m0\u001b[0m\u001b[0;34m]\u001b[0m\u001b[0;34m\u001b[0m\u001b[0;34m\u001b[0m\u001b[0m\n\u001b[0;32m----> 9\u001b[0;31m     \u001b[0msex\u001b[0m \u001b[0;34m=\u001b[0m \u001b[0mpatient\u001b[0m\u001b[0;34m[\u001b[0m\u001b[0;36m1\u001b[0m\u001b[0;34m]\u001b[0m\u001b[0;34m\u001b[0m\u001b[0;34m\u001b[0m\u001b[0m\n\u001b[0m\u001b[1;32m     10\u001b[0m     \u001b[0mage\u001b[0m \u001b[0;34m=\u001b[0m \u001b[0mint\u001b[0m\u001b[0;34m(\u001b[0m\u001b[0mpatient\u001b[0m\u001b[0;34m[\u001b[0m\u001b[0;36m2\u001b[0m\u001b[0;34m]\u001b[0m\u001b[0;34m)\u001b[0m\u001b[0;34m\u001b[0m\u001b[0;34m\u001b[0m\u001b[0m\n\u001b[1;32m     11\u001b[0m     \u001b[0mresp_rate\u001b[0m \u001b[0;34m=\u001b[0m \u001b[0mfloat\u001b[0m\u001b[0;34m(\u001b[0m\u001b[0mpatient\u001b[0m\u001b[0;34m[\u001b[0m\u001b[0;36m3\u001b[0m\u001b[0;34m]\u001b[0m\u001b[0;34m)\u001b[0m\u001b[0;34m\u001b[0m\u001b[0;34m\u001b[0m\u001b[0m\n",
            "\u001b[0;31mIndexError\u001b[0m: list index out of range"
          ]
        }
      ],
      "source": [
        "import requests\n",
        "import json\n",
        "\n",
        "people_url = 'https://drive.google.com/uc?export=download&id=1fLxJN9YGUqmqExrilxSS8furwUER5HHh'\n",
        "people_results_url = 'https://drive.google.com/uc?export=download&id=1gx1SSC20mO5XL6uYD0mdcM_cL91fcIW5'\n",
        "\n",
        "\n",
        "my_results = people_process(people_url)\n",
        "people_results = requests.get(people_results_url)\n",
        "\n",
        "\n",
        "if my_results.status_code == 200:\n",
        "  if people_results.status_code == 200:\n",
        "              comparing_people_results = json.loads(people_results.text)\n",
        "\n",
        "\n",
        "  if my_results == comparing_people_results:\n",
        "        print(\"Matching Results.\")\n",
        "  else:\n",
        "        print(\"Not Matching Results.\")\n",
        "\n"
      ]
    },
    {
      "cell_type": "markdown",
      "metadata": {
        "id": "jvUlcURO_bWy"
      },
      "source": [
        "---\n",
        "\n",
        "## Check your work above\n",
        "\n",
        "If you didn't get them all correct, take a few minutes to think through those that aren't correct.\n",
        "\n",
        "\n",
        "## Submitting Your Work\n",
        "\n",
        "Submit your work as usual into a folder named `midterm`"
      ]
    },
    {
      "cell_type": "markdown",
      "metadata": {
        "id": "2usYYzBK_bWy"
      },
      "source": [
        "---"
      ]
    }
  ],
  "metadata": {
    "kernelspec": {
      "display_name": "Python 3",
      "language": "python",
      "name": "python3"
    },
    "language_info": {
      "codemirror_mode": {
        "name": "ipython",
        "version": 3
      },
      "file_extension": ".py",
      "mimetype": "text/x-python",
      "name": "python",
      "nbconvert_exporter": "python",
      "pygments_lexer": "ipython3",
      "version": "3.9.16"
    },
    "colab": {
      "provenance": []
    }
  },
  "nbformat": 4,
  "nbformat_minor": 0
}