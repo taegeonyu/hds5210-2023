{
  "cells": [
    {
      "cell_type": "markdown",
      "metadata": {
        "id": "szvMS02EXclH"
      },
      "source": [
        "## Using the Requests module to get a file\n",
        "\n",
        "Documentation for Requests is available at https://requests.readthedocs.io/en/latest/\n",
        "\n",
        "This demonstration simply requests a file from the HHS Open Data portal: https://healthdata.gov/dataset/electronic-health-record-ehr-incentive-program-payments-eligible-hospitals\n",
        "\n",
        "In this example, we get the file from HHS inspect some interesting information about it, then write the data to a local file."
      ]
    },
    {
      "cell_type": "code",
      "execution_count": null,
      "metadata": {
        "id": "mBIfGo4VXclJ"
      },
      "outputs": [],
      "source": [
        "import requests"
      ]
    },
    {
      "cell_type": "code",
      "execution_count": null,
      "metadata": {
        "id": "PmggDZ_DXclK",
        "outputId": "45422592-86eb-45ee-f091-3588aac72f97"
      },
      "outputs": [
        {
          "name": "stdout",
          "output_type": "stream",
          "text": [
            "CPU times: user 292 ms, sys: 39.9 ms, total: 332 ms\n",
            "Wall time: 13.4 s\n"
          ]
        }
      ],
      "source": [
        "%%time\n",
        "r = requests.get('https://healthdata.gov/api/views/g62h-syeh/rows.csv?accessType=DOWNLOAD')"
      ]
    },
    {
      "cell_type": "code",
      "execution_count": null,
      "metadata": {
        "id": "bx87cUpmXclK",
        "outputId": "8407923b-f307-40db-f1eb-6d4d064c4d23"
      },
      "outputs": [
        {
          "data": {
            "text/plain": [
              "requests.models.Response"
            ]
          },
          "execution_count": 3,
          "metadata": {},
          "output_type": "execute_result"
        }
      ],
      "source": [
        "type(r)"
      ]
    },
    {
      "cell_type": "code",
      "execution_count": null,
      "metadata": {
        "id": "h6Ba9ZGeXclK",
        "outputId": "54f7638a-294c-4b9d-a8af-b94268a56f9d"
      },
      "outputs": [
        {
          "data": {
            "text/plain": [
              "200"
            ]
          },
          "execution_count": 4,
          "metadata": {},
          "output_type": "execute_result"
        }
      ],
      "source": [
        "r.status_code"
      ]
    },
    {
      "cell_type": "code",
      "execution_count": null,
      "metadata": {
        "id": "wGs1MLhqXclL",
        "outputId": "f0a916e7-358d-492d-cd46-a22ebb7a3bcf"
      },
      "outputs": [
        {
          "data": {
            "text/plain": [
              "23944257"
            ]
          },
          "execution_count": 5,
          "metadata": {},
          "output_type": "execute_result"
        }
      ],
      "source": [
        "len(r.text)"
      ]
    },
    {
      "cell_type": "code",
      "execution_count": null,
      "metadata": {
        "id": "P3axst01XclL",
        "outputId": "09594385-7222-4212-f1b2-fd751acd9a1f"
      },
      "outputs": [
        {
          "name": "stdout",
          "output_type": "stream",
          "text": [
            "state,date,critical_staffing_shortage_today_yes,critical_staffing_shortage_today_no,critical_staffing_shortage_today_not_reported,critical_staffing_shortage_anticipated_within_week_yes,critical_staffing_shortage_anticipated_within_week_no,critical_staffing_shortage_anticipated_within_week_not_reported,hospital_onset_covid,hospital_onset_covid_coverage,inpatient_beds,inpatient_beds_coverage,inpatient_beds_used,inpatient_beds_used_coverage,inpatient_beds_used_covid,inpatient_beds_used_covid_coverage,previous_day_admission_adult_covid_confirmed,previous_day_admission_adult_covid_confirmed_coverage,previous_day_admission_adult_covid_suspected,previous_day_admission_adult_covid_suspected_coverage,previous_day_admission_pediatric_covid_confirmed,previous_day_admission_pediatric_covid_confirmed_coverage,previous_day_admission_pediatric_covid_suspected,previous_day_admission_pediatric_covid_suspected_coverage,staffed_adult_icu_bed_occupancy,staffed_adult_icu_bed_occupancy_coverage,staffed_icu_\n"
          ]
        }
      ],
      "source": [
        "print(r.text[0:1000])"
      ]
    },
    {
      "cell_type": "code",
      "execution_count": null,
      "metadata": {
        "id": "ozosacm9XclL"
      },
      "outputs": [],
      "source": [
        "with open('nadac.csv','w') as f:\n",
        "    f.write(r.text)"
      ]
    },
    {
      "cell_type": "code",
      "execution_count": null,
      "metadata": {
        "id": "GDmxHVhbXclL"
      },
      "outputs": [],
      "source": [
        "lines = 0\n",
        "for row in r.text.split('\\n'):\n",
        "    lines += 1"
      ]
    },
    {
      "cell_type": "code",
      "execution_count": null,
      "metadata": {
        "id": "n939BzbjXclM",
        "outputId": "5d45277f-5976-4e48-a288-f0c8b621b256"
      },
      "outputs": [
        {
          "data": {
            "text/plain": [
              "51258"
            ]
          },
          "execution_count": 9,
          "metadata": {},
          "output_type": "execute_result"
        }
      ],
      "source": [
        "lines"
      ]
    },
    {
      "cell_type": "code",
      "execution_count": null,
      "metadata": {
        "id": "eBd1MYKlXclM",
        "outputId": "1ce72b18-5333-4f13-d5eb-c2e431c8dff0"
      },
      "outputs": [
        {
          "data": {
            "text/plain": [
              "{'Server': 'nginx', 'Date': 'Wed, 12 Oct 2022 01:09:49 GMT', 'Content-Type': 'text/csv; charset=utf-8', 'Transfer-Encoding': 'chunked', 'Connection': 'keep-alive', 'Access-Control-Allow-Origin': '*', 'Content-disposition': 'attachment; filename=COVID-19_Reported_Patient_Impact_and_Hospital_Capacity_by_State_Timeseries.csv', 'Cache-Control': 'public, must-revalidate, max-age=21600', 'ETag': '\"Y2hhcmxpZS4xMzEzMTVfOV8yMzUzb3JtbWIzZHhVb2hqUnBGRjVqYWhPbnFwYXFB---gzip8EhIa9u82HZdXde7sgGpWYKUHjc--gzip--gzip\"', 'X-SODA2-Data-Out-Of-Date': 'false', 'X-SODA2-Truth-Last-Modified': 'Tue, 11 Oct 2022 15:58:10 GMT', 'X-SODA2-Secondary-Last-Modified': 'Tue, 11 Oct 2022 15:58:10 GMT', 'Last-Modified': 'Tue, 11 Oct 2022 15:58:10 GMT', 'Vary': 'Accept-Encoding', 'Content-Encoding': 'gzip', 'Age': '0', 'X-Socrata-Region': 'aws-us-east-1-fedramp-prod', 'Strict-Transport-Security': 'max-age=31536000; includeSubDomains', 'X-Socrata-RequestId': 'b3e0186ed9f4b9c47ff5629d1a77f4b1'}"
            ]
          },
          "execution_count": 11,
          "metadata": {},
          "output_type": "execute_result"
        }
      ],
      "source": [
        "r.headers"
      ]
    },
    {
      "cell_type": "code",
      "execution_count": null,
      "metadata": {
        "id": "-yUDPsdyXclM"
      },
      "outputs": [],
      "source": [
        "import json\n",
        "print(json.dumps(dict(r.headers), indent=4))"
      ]
    },
    {
      "cell_type": "markdown",
      "metadata": {
        "id": "NBdgGXRUXclM"
      },
      "source": [
        "### Total payments in this file?"
      ]
    },
    {
      "cell_type": "code",
      "execution_count": null,
      "metadata": {
        "id": "zY4knRs3XclM"
      },
      "outputs": [],
      "source": [
        "import csv"
      ]
    },
    {
      "cell_type": "code",
      "execution_count": null,
      "metadata": {
        "id": "LcohmkuAXclM"
      },
      "outputs": [],
      "source": [
        "total = 0\n",
        "\n",
        "with open('nadac.csv') as f:\n",
        "    reader = csv.reader(f)\n",
        "\n",
        "    header = next(reader)\n",
        "    print(header)\n",
        "    payments_idx = header.index('Total_payments')\n",
        "\n",
        "    for record in reader:\n",
        "        total += int(record[payments_idx])\n",
        "\n"
      ]
    },
    {
      "cell_type": "code",
      "execution_count": null,
      "metadata": {
        "id": "dm6gN2WcXclM"
      },
      "outputs": [],
      "source": [
        "print(\"CA hospitals have received ${:,.2f} in payments.\".format(total))"
      ]
    },
    {
      "cell_type": "code",
      "execution_count": null,
      "metadata": {
        "id": "7voBhMmyXclM"
      },
      "outputs": [],
      "source": []
    },
    {
      "cell_type": "markdown",
      "metadata": {
        "id": "donGHgdoXclM"
      },
      "source": [
        "## Reading internet files with Pandas\n",
        "\n",
        "Pandas is smart enough to know that when you provide an HTTP url it is supposed to go access that data from the internet.\n",
        "\n",
        "https://pandas.pydata.org/pandas-docs/version/0.23.4/io.html\n"
      ]
    },
    {
      "cell_type": "code",
      "execution_count": null,
      "metadata": {
        "id": "fRbK237PXclM"
      },
      "outputs": [],
      "source": [
        "import pandas as pd"
      ]
    },
    {
      "cell_type": "code",
      "execution_count": null,
      "metadata": {
        "id": "lB4zDmrrXclM"
      },
      "outputs": [],
      "source": [
        "df = pd.read_csv('http://dhcs-chhsagency.opendata.arcgis.com/datasets/8e4f3a0c75b9424d888d11c1f949cc32_0.csv')"
      ]
    },
    {
      "cell_type": "code",
      "execution_count": null,
      "metadata": {
        "id": "---wXfDHXclM"
      },
      "outputs": [],
      "source": [
        "df.head()"
      ]
    },
    {
      "cell_type": "code",
      "execution_count": null,
      "metadata": {
        "id": "U6FhRWarXclM"
      },
      "outputs": [],
      "source": [
        "df.shape"
      ]
    },
    {
      "cell_type": "code",
      "execution_count": null,
      "metadata": {
        "id": "A_xtXPnOXclM"
      },
      "outputs": [],
      "source": [
        "print(\"CA hospitals have received ${:,.2f} in payments.\".format(df['Total_payments'].sum()))"
      ]
    },
    {
      "cell_type": "code",
      "execution_count": null,
      "metadata": {
        "id": "QPcZ8orRXclM"
      },
      "outputs": [],
      "source": []
    }
  ],
  "metadata": {
    "kernelspec": {
      "display_name": "Python 3",
      "language": "python",
      "name": "python3"
    },
    "language_info": {
      "codemirror_mode": {
        "name": "ipython",
        "version": 3
      },
      "file_extension": ".py",
      "mimetype": "text/x-python",
      "name": "python",
      "nbconvert_exporter": "python",
      "pygments_lexer": "ipython3",
      "version": "3.6.7"
    },
    "colab": {
      "provenance": []
    }
  },
  "nbformat": 4,
  "nbformat_minor": 0
}