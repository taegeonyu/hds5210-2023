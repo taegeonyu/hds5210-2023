{
  "cells": [
    {
      "cell_type": "markdown",
      "metadata": {
        "id": "Slr2CGO4X4LY"
      },
      "source": [
        "# Week 7 Assignment\n",
        "\n",
        "We've been working with different types of data structures in Python (dictionary, list, etc), how those are represented in JSON documents, and how to write code to access specific data elements. In this week's assignment, you will need to create your own JSON document to store information about yourself and the grades you've received from week 1 to week 4 and the week 6 quiz.  That is, everything you should have received a grade for.  Then you'll need to show me you know how to navigate the JSON in that file.\n",
        "\n",
        "Different from what we've done in the past, you do not have to write any functions or include any docstrings.  Just create some JSON and write some code.\n",
        "\n",
        "---"
      ]
    },
    {
      "cell_type": "markdown",
      "metadata": {
        "id": "9squU6MFX4LZ"
      },
      "source": [
        "## 7.1 Create a JSON file\n",
        "\n",
        "Create a JSON file that contains your name, email, year you were born, all of the grades you've received back so far, and a comment about what you thought was most challenging on each of those assignments.  This can be any structure you choose, but make sure it uses a dictionary and a list, and has at least two levels of hierarchy.  That is, it can't just be one big long list."
      ]
    },
    {
      "cell_type": "markdown",
      "metadata": {
        "id": "F6ekz_dvX4La"
      },
      "source": [
        "First, explain how your data structure is going to look..."
      ]
    },
    {
      "cell_type": "markdown",
      "metadata": {
        "id": "zQ14CjOjX4La"
      },
      "source": [
        "* Put your explanation here in text..."
      ]
    },
    {
      "cell_type": "markdown",
      "metadata": {
        "id": "F5TkIOVgX4La"
      },
      "source": [
        "Then put the actual JSON you've created inside the multiline string below..."
      ]
    },
    {
      "cell_type": "code",
      "execution_count": null,
      "metadata": {
        "id": "Ch50mWlcX4La"
      },
      "outputs": [],
      "source": [
        "# There's no ONE RIGHT WAY to do this, but here's an example.\n",
        "\n",
        "hds5210 = \"\"\"\n",
        "{\n",
        "    \"student\": {\n",
        "        \"name\": \"Paul Boal\",\n",
        "        \"email\": \"boalpe@slu.edu\"\n",
        "    },\n",
        "    \"grades\": [\n",
        "        { \"assignment\": 1, \"score\": 9, \"comment\": \"That one was easy\" },\n",
        "        { \"assignment\": 2, \"score\": 8, \"comment\": \"This one challenged me a bit\" },\n",
        "        { \"assignment\": 3, \"score\": 10, \"comment\": \"I liked learning about this topic\" },\n",
        "        { \"assignment\": 4, \"score\": 6, \"comment\": \"I'm still struggling with this one\" },\n",
        "        { \"assignment\": 5, \"score\": 8, \"comment\": \"I'm caught up now and feel good about this\" }\n",
        "    ]\n",
        "}\n",
        "\"\"\""
      ]
    },
    {
      "cell_type": "markdown",
      "metadata": {
        "id": "Hwd-F-MbX4Lb"
      },
      "source": [
        "## 7.2 Do something with your JSON\n",
        "\n",
        "Now use Python code to do something with the Json above.  Turn it into English text, but make sure that you use at least one loop to access some dict or list content of your JSON.  Below, I've provided some basic code to read in the string above as JSON and return a Python object.  Your job is to work with that data structure and print out the important information like your name, email, and how you did on each assignment."
      ]
    },
    {
      "cell_type": "code",
      "execution_count": null,
      "metadata": {
        "id": "f51VavYXX4Lb",
        "outputId": "da3c04ad-7a35-4bcb-9e36-47d6ee3df8c1"
      },
      "outputs": [
        {
          "name": "stdout",
          "output_type": "stream",
          "text": [
            "Hi! My name is Paul Boal.  You can reach me at boalpe@slu.edu.\n",
            "Here are my grades:\n",
            "On #1, I received a 9 (90.0%).  I thought: That one was easy\n",
            "On #2, I received a 8 (80.0%).  I thought: This one challenged me a bit\n",
            "On #3, I received a 10 (100.0%).  I thought: I liked learning about this topic\n",
            "On #4, I received a 6 (60.0%).  I thought: I'm still struggling with this one\n",
            "On #5, I received a 8 (80.0%).  I thought: I'm caught up now and feel good about this\n"
          ]
        }
      ],
      "source": [
        "import json\n",
        "\n",
        "info = json.loads(hds5210)\n",
        "\n",
        "print(f'Hi! My name is {info[\"student\"][\"name\"]}.  You can reach me at {info[\"student\"][\"email\"]}.')\n",
        "print('Here are my grades:')\n",
        "\n",
        "for grade in info[\"grades\"]:\n",
        "    print(f'On #{grade[\"assignment\"]}, I received a {grade[\"score\"]} ({grade[\"score\"]/10*100}%).  I thought: {grade[\"comment\"]}')"
      ]
    },
    {
      "cell_type": "markdown",
      "metadata": {
        "id": "3PDuG5C8X4Lc"
      },
      "source": [
        "## 7.3 Reflect\n",
        "\n",
        "Write a paragraph on any reflections you have. Was this hard? Easy?  What parts were most challenging or easiest? What did you like or dislike about the assignment?  Share whatever important thoughts you have abou this assignment."
      ]
    },
    {
      "cell_type": "markdown",
      "metadata": {
        "id": "GpYffa8ZX4Lc"
      },
      "source": [
        "**How I'm feeling:**\n",
        "\n",
        "So far, the semester has been OK.  I wish the professor and TA's would get feedback to us quicker, but I understand that it might be hard to do with such a big class.  Regardless, Thank You to everyone who helping make this a great semester."
      ]
    },
    {
      "cell_type": "markdown",
      "metadata": {
        "id": "KCIvcxvaX4Lc"
      },
      "source": [
        "---\n",
        "\n",
        "# Example\n",
        "\n",
        "Below is an example of something similar, but this uses information my and my friend's kids instead of grades."
      ]
    },
    {
      "cell_type": "code",
      "execution_count": null,
      "metadata": {
        "id": "hhXNOqMQX4Lc",
        "outputId": "eaac7689-cf32-4d72-ecc6-d5ec22617991"
      },
      "outputs": [
        {
          "name": "stdout",
          "output_type": "stream",
          "text": [
            "Hi, my name is Paul. I've got 3 kids. Their names are Ellie, Ada, Teddy.\n",
            "My friend, Anny has 1 kids. That's fewer than me. Their names are 1\n"
          ]
        }
      ],
      "source": [
        "hds5210 = \"\"\"\n",
        "{\n",
        "    \"me\": {\n",
        "        \"name\": \"Paul\",\n",
        "        \"kids\": [\"Ellie\", \"Ada\", \"Teddy\"]\n",
        "    },\n",
        "    \"friend\": {\n",
        "        \"name\": \"Anny\",\n",
        "        \"kids\": [\"Abby\"]\n",
        "    }\n",
        "}\n",
        "\"\"\"\n",
        "\n",
        "import json\n",
        "\n",
        "info = json.loads(hds5210)\n",
        "\n",
        "me = info[\"me\"][\"name\"]\n",
        "my_kids_count = len(info[\"me\"][\"kids\"])\n",
        "kids_list = \", \".join(info[\"me\"][\"kids\"])\n",
        "friend = info[\"friend\"][\"name\"]\n",
        "friends_kid_count = len(info[\"friend\"][\"kids\"])\n",
        "friend_kids = \", \".join(info[\"friend\"][\"kids\"])\n",
        "compare = \"more\" if friends_kid_count > my_kids_count else \"fewer\"\n",
        "\n",
        "print(f\"Hi, my name is {me}. I've got {my_kids_count} kids. Their names are {kids_list}.\")\n",
        "print(f\"My friend, {friend} has {friends_kid_count} kids. That's {compare} than me. Their names are {friends_kid_count}\")"
      ]
    }
  ],
  "metadata": {
    "kernelspec": {
      "display_name": "Python 3",
      "language": "python",
      "name": "python3"
    },
    "language_info": {
      "codemirror_mode": {
        "name": "ipython",
        "version": 3
      },
      "file_extension": ".py",
      "mimetype": "text/x-python",
      "name": "python",
      "nbconvert_exporter": "python",
      "pygments_lexer": "ipython3",
      "version": "3.9.18"
    },
    "colab": {
      "provenance": []
    }
  },
  "nbformat": 4,
  "nbformat_minor": 0
}