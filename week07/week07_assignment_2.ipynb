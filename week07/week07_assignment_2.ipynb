{
  "cells": [
    {
      "cell_type": "markdown",
      "metadata": {
        "id": "gbU3w2B7uhpX"
      },
      "source": [
        "# Week 7 Assignment\n",
        "\n",
        "We've been working with different types of data structures in Python (dictionary, list, etc), how those are represented in JSON documents, and how to write code to access specific data elements. In this week's assignment, you will need to create your own JSON document to store information about yourself and the grades you've received from week 1 to week 4 and the week 6 quiz.  That is, everything you should have received a grade for.  Then you'll need to show me you know how to navigate the JSON in that file.\n",
        "\n",
        "Different from what we've done in the past, you do not have to write any functions or include any docstrings.  Just create some JSON and write some code.\n",
        "\n",
        "---"
      ]
    },
    {
      "cell_type": "markdown",
      "metadata": {
        "id": "9myPNv_guhpZ"
      },
      "source": [
        "## 7.1 Create a JSON string\n",
        "\n",
        "Create a JSON string that contains your name, email, year you were born, all of the grades you've received back so far, and a comment about what you thought was most challenging on each of those assignments.  This can be any structure you choose, but make sure it uses a dictionary and a list, and has at least two levels of hierarchy.  That is, it can't just be one big long list."
      ]
    },
    {
      "cell_type": "markdown",
      "metadata": {
        "id": "Qrcfu3n4uhpZ"
      },
      "source": [
        "First, explain how your data structure is going to look..."
      ]
    },
    {
      "cell_type": "markdown",
      "metadata": {
        "id": "qvxHlDNsuhpZ"
      },
      "source": [
        "* name: Taegeon Yu / email: taegeon.yu@slu.edu / year: 1995 / grades: week 01-10, week 02 - 10, week 03 - 10, week 04 - 10, quiz - 10"
      ]
    },
    {
      "cell_type": "markdown",
      "metadata": {
        "id": "7N8CyqHbuhpZ"
      },
      "source": [
        "Then put the actual JSON you've created inside the multiline string below..."
      ]
    },
    {
      "cell_type": "code",
      "execution_count": 32,
      "metadata": {
        "id": "HMzZqPbvuhpZ"
      },
      "outputs": [],
      "source": [
        "hds5210 = \"\"\"{\n",
        "  \"my_name\": \"Taegeon Yu\",\n",
        "  \"my_email\": \"taegeon.yu@slu.edu\",\n",
        "  \"my_year_of_birth\": 1995,\n",
        "  \"my_grades\": {\n",
        "    \"week01_assignment\": {\n",
        "      \"score\": 10,\n",
        "      \"challenge\": \"There was nothing difficult for this.\"\n",
        "    },\n",
        "    \"week02_assignment\": {\n",
        "      \"score\": 10,\n",
        "      \"challenge\": \"height_cm = (height_ft * 12 + height_in) * 2.54. I did not know I should have added inches.\"\n",
        "    },\n",
        "    \"week03_assignment\": {\n",
        "      \"score\": 10,\n",
        "      \"challenge\": \"It took me almost six hours to do this assignment. All of them were generally difficult.\"\n",
        "    },\n",
        "    \"week04_assignment\": {\n",
        "      \"score\": 10,\n",
        "      \"challenge\": \"20.1 was particularly difficult as I did not think to sort the names by their last name.\"\n",
        "    },\n",
        "    \"quiz\": {\n",
        "      \"score\": 10,\n",
        "      \"challenge\": \"I thought I had the right code but I was surprised that it did not work.\"\n",
        "    }\n",
        "  }\n",
        "}\n",
        "\"\"\""
      ]
    },
    {
      "cell_type": "markdown",
      "metadata": {
        "id": "s9aVp9hXuhpa"
      },
      "source": [
        "## 7.2 Do something with your JSON\n",
        "\n",
        "Now use Python code to do something with the Json above.  Turn it into English text, but make sure that you use at least one loop to access some dict or list content of your JSON.  Below, I've provided some basic code to read in the string above as JSON and return a Python object.  Your job is to work with that data structure and print out the important information like your name, email, and how you did on each assignment."
      ]
    },
    {
      "cell_type": "code",
      "execution_count": 33,
      "metadata": {
        "id": "h_JJJbGVuhpa",
        "outputId": "b64a7bd8-b374-4c0e-cce3-c5d0af3bf8dd",
        "colab": {
          "base_uri": "https://localhost:8080/"
        }
      },
      "outputs": [
        {
          "output_type": "stream",
          "name": "stdout",
          "text": [
            "Hi, my name is Taegeon Yu and my birthday is 1995.\n",
            "My grades for week 01 is 10, week 02 is 10, week 03 is 10, and my quiz score is 10.\n"
          ]
        }
      ],
      "source": [
        "import json\n",
        "\n",
        "def jsonn(j):\n",
        "    \"\"\"\n",
        "    >>> assert(my_email) == 'taegeon.yu@slu.edu'\n",
        "    >>> assert(my_challenges) == ['There was nothing difficult for this.',\n",
        "    ... 'height_cm = (height_ft * 12 + height_in) * 2.54. I did not know I should have added inches.',\n",
        "    ... 'It took me almost six hours to do this assignment. All of them were generally difficult.',\n",
        "    ... '20.1 was particularly difficult as I did not think to sort the names by their last name.',\n",
        "    ... 'I thought I had the right code but I was surprised that it did not work.']\n",
        "    \"\"\"\n",
        "info = json.loads(hds5210)\n",
        "my_name = info[\"my_name\"]\n",
        "my_email = info[\"my_email\"]\n",
        "my_birthday = info[\"my_year_of_birth\"]\n",
        "my_grades = [info[\"my_grades\"][i][\"score\"] for i in info[\"my_grades\"]]\n",
        "my_challenges = [info[\"my_grades\"][i][\"challenge\"] for i in info[\"my_grades\"]]\n",
        "print(f\"Hi, my name is {my_name} and my birthday is {my_birthday}.\")\n",
        "print(f\"My grades for week 01 is {my_grades[0]}, week 02 is {my_grades[1]}, week 03 is {my_grades[2]}, and my quiz score is {my_grades[3]}.\")\n",
        "\n"
      ]
    },
    {
      "cell_type": "code",
      "source": [
        "import doctest\n",
        "doctest.run_docstring_examples(jsonn, globals(), verbose=True)"
      ],
      "metadata": {
        "id": "fjAqk36oJf_L",
        "outputId": "22710655-2ec7-4ac5-860e-2b33dc1c44f8",
        "colab": {
          "base_uri": "https://localhost:8080/"
        }
      },
      "execution_count": 34,
      "outputs": [
        {
          "output_type": "stream",
          "name": "stdout",
          "text": [
            "Finding tests in NoName\n",
            "Trying:\n",
            "    assert(my_email) == 'taegeon.yu@slu.edu' \n",
            "Expecting nothing\n",
            "ok\n",
            "Trying:\n",
            "    assert(my_challenges) == ['There was nothing difficult for this.',\n",
            "    'height_cm = (height_ft * 12 + height_in) * 2.54. I did not know I should have added inches.',\n",
            "    'It took me almost six hours to do this assignment. All of them were generally difficult.',\n",
            "    '20.1 was particularly difficult as I did not think to sort the names by their last name.',\n",
            "    'I thought I had the right code but I was surprised that it did not work.']\n",
            "Expecting nothing\n",
            "ok\n"
          ]
        }
      ]
    },
    {
      "cell_type": "markdown",
      "source": [],
      "metadata": {
        "id": "nESPs9FRIGMU"
      }
    },
    {
      "cell_type": "markdown",
      "source": [],
      "metadata": {
        "id": "fb_3bLqeIGAa"
      }
    },
    {
      "cell_type": "markdown",
      "metadata": {
        "id": "3g10rDxYuhpa"
      },
      "source": [
        "## 7.3 Reflect\n",
        "\n",
        "Write a paragraph on any reflections you have. Was this hard? Easy?  What parts were most challenging or easiest? What did you like or dislike about the assignment?  Share whatever important thoughts you have abou this assignment."
      ]
    },
    {
      "cell_type": "markdown",
      "metadata": {
        "id": "yCoKJNmUuhpb"
      },
      "source": [
        "* I think it was not that difficult. Working with json file wsa interesting for me both last and this week. The two assignments help me to understand the structure of lists and dictionaries. Moreover, it aided me to have better understanding of the python codes used to access the data in the files. I did not have any dislike from the assignment and there was no particular thing I thought it was challenging or easy."
      ]
    },
    {
      "cell_type": "markdown",
      "metadata": {
        "id": "Jp64Jjnsuhpb"
      },
      "source": [
        "---\n",
        "\n",
        "# Example\n",
        "\n",
        "Below is an example of something similar, but this uses information my and my friend's kids instead of grades."
      ]
    },
    {
      "cell_type": "code",
      "execution_count": 4,
      "metadata": {
        "id": "FkZCA9OIuhpb",
        "outputId": "fefa399c-dbfd-4a11-983a-17b651b812d8",
        "colab": {
          "base_uri": "https://localhost:8080/"
        }
      },
      "outputs": [
        {
          "output_type": "stream",
          "name": "stdout",
          "text": [
            "Hi, my name is Paul. I've got 3 kids. Their names are Ellie, Ada, Teddy.\n",
            "My friend, Anny has 1 kids. That's fewer than me. Their names are 1\n"
          ]
        }
      ],
      "source": [
        "hds5210 = \"\"\"\n",
        "{\n",
        "    \"me\": {\n",
        "        \"name\": \"Paul\",\n",
        "        \"kids\": [\"Ellie\", \"Ada\", \"Teddy\"]\n",
        "    },\n",
        "    \"friend\": {\n",
        "        \"name\": \"Anny\",\n",
        "        \"kids\": [\"Abby\"]\n",
        "    }\n",
        "}\n",
        "\"\"\"\n",
        "\n",
        "import json\n",
        "\n",
        "info = json.loads(hds5210)\n",
        "\n",
        "me = info[\"me\"][\"name\"]\n",
        "my_kids_count = len(info[\"me\"][\"kids\"])\n",
        "kids_list = \", \".join(info[\"me\"][\"kids\"])\n",
        "friend = info[\"friend\"][\"name\"]\n",
        "friends_kid_count = len(info[\"friend\"][\"kids\"])\n",
        "friend_kids = \", \".join(info[\"friend\"][\"kids\"])\n",
        "compare = \"more\" if friends_kid_count > my_kids_count else \"fewer\"\n",
        "\n",
        "print(f\"Hi, my name is {me}. I've got {my_kids_count} kids. Their names are {kids_list}.\")\n",
        "print(f\"My friend, {friend} has {friends_kid_count} kids. That's {compare} than me. Their names are {friends_kid_count}\")"
      ]
    }
  ],
  "metadata": {
    "kernelspec": {
      "display_name": "Python 3",
      "language": "python",
      "name": "python3"
    },
    "language_info": {
      "codemirror_mode": {
        "name": "ipython",
        "version": 3
      },
      "file_extension": ".py",
      "mimetype": "text/x-python",
      "name": "python",
      "nbconvert_exporter": "python",
      "pygments_lexer": "ipython3",
      "version": "3.9.16"
    },
    "colab": {
      "provenance": []
    }
  },
  "nbformat": 4,
  "nbformat_minor": 0
}