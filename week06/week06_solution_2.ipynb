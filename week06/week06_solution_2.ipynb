{
  "cells": [
    {
      "cell_type": "markdown",
      "metadata": {
        "nbgrader": {
          "grade": false,
          "grade_id": "intro",
          "locked": true,
          "schema_version": 1,
          "solution": false
        },
        "id": "Fcp6TnSeXDQz"
      },
      "source": [
        "# Week 6 Exercises\n",
        "\n",
        "_McKinney 6.1_\n",
        "\n",
        "There are multiple ways to solve the problems below.  You can use any one of several approaches.  For example, you can read CSV files using Pandas or the csv module.  Your score won't depend on which modules you choose to use unless explicitly noted below, but your programming style will still matter."
      ]
    },
    {
      "cell_type": "markdown",
      "metadata": {
        "nbgrader": {
          "grade": false,
          "grade_id": "q1-description",
          "locked": true,
          "schema_version": 1,
          "solution": false
        },
        "id": "K_K5o75uXDQ1"
      },
      "source": [
        "### 30.1 List of Allergies\n",
        "\n",
        "In the /data directory on the Jupyter server, there is a file called `allergies.json` that contains a list of patient allergies.  It is taken from sample data provided by the EHR vendor, Epic, here: https://open.epic.com/Clinical/Allergy\n",
        "\n",
        "Take some time to look at the structure of the file.  You can open it directly in Jupyter by clicking the _Home_ icon, then the _from_instructor_ folder, and then the _data_ folder.\n",
        "\n",
        "Within the file, you'll see that it is a dictionary with many items in it.  One of those items is called `entry` and that item is a list of things.  You can tell that because the item name is immediately followed by an opening square bracket, signifying the start of a list.  It's line 11 of the file: `  \"entry\": [`\n",
        "\n",
        "Write a function named `allergy_count(json_file)` that takes as one parameter the name of the JSON file and returns an integer number of entries in that file.  Your function should open the file, read the json into a Python object, and return how many items there are in the list of `entry`s."
      ]
    },
    {
      "cell_type": "code",
      "execution_count": null,
      "metadata": {
        "id": "PDgQPolrXDQ1"
      },
      "outputs": [],
      "source": [
        "import json\n",
        "ALLERGIES_FILE=\"allergies.json\""
      ]
    },
    {
      "cell_type": "code",
      "execution_count": null,
      "metadata": {
        "id": "4lNS-YjoXDQ2"
      },
      "outputs": [],
      "source": [
        "def allergy_per_patient(json_file):\n",
        "  \"\"\"(dict) -> int\n",
        "  This function does identifies the number of allergies per patient\n",
        "  from a dictionary.\n",
        "\n",
        "  >>> allergy_per_patient(ALLERGIES_FILE)\n",
        "  {'Paul Boal': 1, 'Jason Argonaut': 3}\n",
        "  \"\"\"\n",
        "\n",
        "  # First, we load up the data from the JSON formatted file into a Python object\n",
        "  allergies = json.load(open(json_file))\n",
        "\n",
        "  # We want the final output to be a dictionary of patient names,\n",
        "  # so we start by initializing an empty dictionary.\n",
        "  patient_allergies = {}\n",
        "\n",
        "  # Now, we loop through all the entries in the input\n",
        "  for allergy in allergies.get('entry'):\n",
        "\n",
        "    # Each entry has a \"patient\" \"resource\" with a \"display\" name we can use for unique patient\n",
        "    patient = allergy.get('resource').get('patient').get('display')\n",
        "\n",
        "    if patient:\n",
        "      # If there is a patient and it's one we've already seen, we'll keep counting\n",
        "      if patient in patient_allergies:\n",
        "        patient_allergies[patient] += 1\n",
        "      # If it's a new patient we haven't seen before, we'll add it to the dictionary with a count of 1\n",
        "      else:\n",
        "        patient_allergies[patient] = 1\n",
        "\n",
        "  # And return the final dictionary\n",
        "  return patient_allergies"
      ]
    },
    {
      "cell_type": "code",
      "execution_count": null,
      "metadata": {
        "id": "-P3mRxScXDQ2",
        "outputId": "4573965f-9c90-46ac-ad5d-814c9205ad25"
      },
      "outputs": [
        {
          "data": {
            "text/plain": [
              "{'Jason Argonaut': 3, 'Paul Boal': 1}"
            ]
          },
          "execution_count": 5,
          "metadata": {},
          "output_type": "execute_result"
        }
      ],
      "source": [
        "# Process the file and show the output\n",
        "allergy_per_patient('allergies.json')"
      ]
    },
    {
      "cell_type": "code",
      "execution_count": null,
      "metadata": {
        "nbgrader": {
          "grade": false,
          "grade_id": "q1-answer",
          "locked": false,
          "schema_version": 1,
          "solution": true
        },
        "id": "Tg0C_c2vXDQ3"
      },
      "outputs": [],
      "source": [
        "# Our allergy count can be very simple.\n",
        "# Just load the file and count the entries.\n",
        "def allergy_count(file):\n",
        "\n",
        "    data = json.load(open(file))\n",
        "\n",
        "    count = len(data[\"entry\"])\n",
        "    return count\n"
      ]
    },
    {
      "cell_type": "code",
      "execution_count": null,
      "metadata": {
        "id": "xQpsB4OuXDQ3",
        "outputId": "7455bd7f-3acc-4e9e-81ca-41a9e7850555"
      },
      "outputs": [
        {
          "data": {
            "text/plain": [
              "4"
            ]
          },
          "execution_count": 8,
          "metadata": {},
          "output_type": "execute_result"
        }
      ],
      "source": [
        "allergy_count(ALLERGIES_FILE)"
      ]
    },
    {
      "cell_type": "code",
      "execution_count": null,
      "metadata": {
        "nbgrader": {
          "grade": true,
          "grade_id": "q1-tests",
          "locked": true,
          "points": 5,
          "schema_version": 1,
          "solution": false
        },
        "id": "i-IwAlZeXDQ3"
      },
      "outputs": [],
      "source": [
        "assert type(allergy_count(ALLERGIES_FILE)) == int\n",
        "assert allergy_count(ALLERGIES_FILE) == 4"
      ]
    },
    {
      "cell_type": "markdown",
      "metadata": {
        "id": "a1p66v7VXDQ4"
      },
      "source": [
        "### 30.2 Number of Patients\n",
        "\n",
        "If you dig a little bit deaper into this list of allergies, you'll see that each result has a patient associated with it.  Create a funcation called `patient_count(json_file)` that will count how many unique patients we have in this JSON structure.  "
      ]
    },
    {
      "cell_type": "code",
      "execution_count": null,
      "metadata": {
        "id": "DGWrqbbRXDQ4"
      },
      "outputs": [],
      "source": [
        "def patient_count(file):\n",
        "    \"\"\"(str) -> int\n",
        "    Load the JSON data from the file and count how many unique patients there are,\n",
        "    based on the patient's \"display\" name.\n",
        "    \"\"\"\n",
        "\n",
        "    # Read the file and load the JSON formatted data into a Python object\n",
        "    data = json.load(open(file))\n",
        "\n",
        "    # Our output is a count of something unique, so we'll use a set here.\n",
        "    # Remember a set is automatically a unique list of things.  So, it'll be easy to use.\n",
        "    patients = set()\n",
        "\n",
        "    # Loop through evetry entry and add the patient's display name to our set.\n",
        "    # The way a set works, if the entry is already there, it won't error out.\n",
        "    # It'll just silently move on.\n",
        "    for entry in data[\"entry\"]:\n",
        "        patients.add(entry[\"resource\"][\"patient\"][\"display\"])\n",
        "\n",
        "    # In the end, we have a set of unique patient names and can just ask for the length of that set.\n",
        "    return len(patients)"
      ]
    },
    {
      "cell_type": "code",
      "execution_count": null,
      "metadata": {
        "id": "WwCbHpSqXDQ4",
        "outputId": "d67fbad1-a9bb-4743-c506-aee15cbeb2ca"
      },
      "outputs": [
        {
          "data": {
            "text/plain": [
              "2"
            ]
          },
          "execution_count": 11,
          "metadata": {},
          "output_type": "execute_result"
        }
      ],
      "source": [
        "patient_count(ALLERGIES_FILE)"
      ]
    },
    {
      "cell_type": "code",
      "execution_count": null,
      "metadata": {
        "id": "YB_UjGZ2XDQ4"
      },
      "outputs": [],
      "source": [
        "assert type(patient_count(ALLERGIES_FILE)) == int\n",
        "assert patient_count(ALLERGIES_FILE) == 2"
      ]
    },
    {
      "cell_type": "markdown",
      "metadata": {
        "id": "Fb-OW468XDQ4"
      },
      "source": [
        "### 30.3 How Many Allergies per Patient\n",
        "\n",
        "Although each entry is a separate allergy, several of them are for the same patient.  Write a function called `allergy_per_patient(json_file)` that counts up how many allergies each patient has.\n"
      ]
    },
    {
      "cell_type": "code",
      "execution_count": null,
      "metadata": {
        "id": "mXtuabjIXDQ4"
      },
      "outputs": [],
      "source": [
        "def allergy_per_patient(file):\n",
        "\n",
        "    data = json.load(open(file))\n",
        "\n",
        "    patients = {}\n",
        "    for entry in data[\"entry\"]:\n",
        "        name = entry[\"resource\"][\"patient\"][\"display\"]\n",
        "        allergy = entry[\"resource\"][\"substance\"][\"text\"]\n",
        "        # patients.setdefault(name, [])\n",
        "        # patients[name].append(allergy)\n",
        "        patients.setdefault(name, 0)\n",
        "        patients[name] += 1\n",
        "\n",
        "    return patients"
      ]
    },
    {
      "cell_type": "code",
      "execution_count": null,
      "metadata": {
        "id": "osKsBoV0XDQ4",
        "outputId": "f1c4b9fa-3ec9-4904-e1b1-afdf9fae06cb"
      },
      "outputs": [
        {
          "data": {
            "text/plain": [
              "{'Jason Argonaut': 3, 'Paul Boal': 1}"
            ]
          },
          "execution_count": 18,
          "metadata": {},
          "output_type": "execute_result"
        }
      ],
      "source": [
        "allergy_per_patient(ALLERGIES_FILE)"
      ]
    },
    {
      "cell_type": "code",
      "execution_count": null,
      "metadata": {
        "id": "btpzrmqdXDQ4"
      },
      "outputs": [],
      "source": [
        "assert type(allergy_per_patient(ALLERGIES_FILE)) == dict\n",
        "assert allergy_per_patient(ALLERGIES_FILE) == {'Paul Boal': 1, 'Jason Argonaut': 3}"
      ]
    },
    {
      "cell_type": "markdown",
      "metadata": {
        "nbgrader": {
          "grade": false,
          "grade_id": "q2-question",
          "locked": true,
          "schema_version": 1,
          "solution": false
        },
        "id": "oQofQyVbXDQ4"
      },
      "source": [
        "### 30.4 Patient Allergies and Reaction\n",
        "\n",
        "You'll see in the file that each of the items in the `entry` list have several other attributes including a patient name, substance text representation, and a reaction manifestation.  Create a function named `allergy_list(json_file)` that will create an output list that has patient name, allergy, and reaction for each `entry`.  The actual result you should get will be:\n",
        "\n",
        "```python\n",
        "[['Jason Argonaut', 'PENICILLIN G', 'Hives'],\n",
        " ['Paul Boal', 'PENICILLIN G', 'Bruising'],\n",
        " ['Jason Argonaut', 'SHELLFISH-DERIVED PRODUCTS', 'Itching'],\n",
        " ['Jason Argonaut', 'STRAWBERRY', 'Anaphylaxis']]\n",
        "```\n",
        "\n",
        "You'll notice that the reaction and the manifestation of that action are lists.  You only need to capture the first reaction and the first manifestation of the action.  That is, if there is a list of things, just output the first one."
      ]
    },
    {
      "cell_type": "code",
      "execution_count": null,
      "metadata": {
        "nbgrader": {
          "grade": false,
          "grade_id": "q2-answer",
          "locked": false,
          "schema_version": 1,
          "solution": true
        },
        "id": "4D05lV6kXDQ4"
      },
      "outputs": [],
      "source": [
        "def allergy_list(file):\n",
        "\n",
        "    data = json.load(open(file))\n",
        "\n",
        "    results = []\n",
        "    for entry in data[\"entry\"]:\n",
        "        name = entry[\"resource\"][\"patient\"][\"display\"]\n",
        "        allergy = entry[\"resource\"][\"substance\"][\"text\"]\n",
        "        reaction = entry[\"resource\"][\"reaction\"][0][\"manifestation\"][0][\"text\"]\n",
        "        results.append([name, allergy, reaction])\n",
        "\n",
        "    return results"
      ]
    },
    {
      "cell_type": "code",
      "execution_count": null,
      "metadata": {
        "id": "OqCALsNBXDQ4",
        "outputId": "94f82476-496d-4531-de32-c6fec8051492"
      },
      "outputs": [
        {
          "data": {
            "text/plain": [
              "[['Jason Argonaut', 'PENICILLIN G', 'Hives'],\n",
              " ['Jason Argonaut', 'SHELLFISH-DERIVED PRODUCTS', 'Itching'],\n",
              " ['Jason Argonaut', 'STRAWBERRY', 'Anaphylaxis'],\n",
              " ['Paul Boal', 'PENICILLIN G', 'Bruising']]"
            ]
          },
          "execution_count": 25,
          "metadata": {},
          "output_type": "execute_result"
        }
      ],
      "source": [
        "allergy_list(ALLERGIES_FILE)"
      ]
    },
    {
      "cell_type": "code",
      "execution_count": null,
      "metadata": {
        "nbgrader": {
          "grade": true,
          "grade_id": "q2-tests",
          "locked": true,
          "points": 10,
          "schema_version": 1,
          "solution": false
        },
        "id": "6vpM0qvSXDQ4"
      },
      "outputs": [],
      "source": [
        "assert allergy_list(ALLERGIES_FILE) == [['Jason Argonaut', 'PENICILLIN G', 'Hives'],\n",
        " ['Jason Argonaut', 'SHELLFISH-DERIVED PRODUCTS', 'Itching'],\n",
        " ['Jason Argonaut', 'STRAWBERRY', 'Anaphylaxis'],\n",
        " ['Paul Boal', 'PENICILLIN G', 'Bruising']]\n"
      ]
    },
    {
      "cell_type": "markdown",
      "metadata": {
        "nbgrader": {
          "grade": false,
          "grade_id": "q3-question",
          "locked": true,
          "schema_version": 1,
          "solution": false
        },
        "id": "ZMoLQB_sXDQ4"
      },
      "source": [
        "### 30.5 Allergy Reaction\n",
        "\n",
        "Write a function called `allergy_reaction(json_file,patient,substance)` that takes three parameter and returns the reaction that will happen if the patient takes the specified substance.  You can solve this, in part, by calling your `allergy_list` function inside your new `allergy_reaction` function.\n",
        "\n",
        "If the substance is not found in the allergy list, the function should return None."
      ]
    },
    {
      "cell_type": "code",
      "execution_count": null,
      "metadata": {
        "nbgrader": {
          "grade": false,
          "grade_id": "q3-answer",
          "locked": false,
          "schema_version": 1,
          "solution": true
        },
        "id": "Mq2ff3bWXDQ5"
      },
      "outputs": [],
      "source": [
        "def allergy_reaction(file, patient, substance):\n",
        "\n",
        "    data = json.load(open(file))\n",
        "\n",
        "    results = []\n",
        "    for entry in data[\"entry\"]:\n",
        "        name = entry[\"resource\"][\"patient\"][\"display\"]\n",
        "        allergy = entry[\"resource\"][\"substance\"][\"text\"]\n",
        "        reaction = entry[\"resource\"][\"reaction\"][0][\"manifestation\"][0][\"text\"]\n",
        "        if name == patient and allergy == substance:\n",
        "            return reaction\n",
        "\n",
        "    return None"
      ]
    },
    {
      "cell_type": "code",
      "execution_count": null,
      "metadata": {
        "id": "zBZyOY6GXDQ5",
        "outputId": "149a9019-ea54-47f8-e905-71b2a3dd829f"
      },
      "outputs": [
        {
          "data": {
            "text/plain": [
              "'Hives'"
            ]
          },
          "execution_count": 31,
          "metadata": {},
          "output_type": "execute_result"
        }
      ],
      "source": [
        "allergy_reaction(ALLERGIES_FILE, 'Jason Argonaut', 'PENICILLIN G')"
      ]
    },
    {
      "cell_type": "code",
      "execution_count": null,
      "metadata": {
        "nbgrader": {
          "grade": true,
          "grade_id": "q3-tests",
          "locked": true,
          "points": 5,
          "schema_version": 1,
          "solution": false
        },
        "id": "C-W1QvwzXDQ5"
      },
      "outputs": [],
      "source": [
        "assert allergy_reaction(ALLERGIES_FILE, 'Jason Argonaut', 'PENICILLIN G') == 'Hives'\n",
        "assert allergy_reaction(ALLERGIES_FILE, 'Jason Argonaut', 'SHELLFISH-DERIVED PRODUCTS') == 'Itching'\n",
        "assert allergy_reaction(ALLERGIES_FILE, 'Jason Argonaut', 'STRAWBERRY') == 'Anaphylaxis'\n",
        "assert allergy_reaction(ALLERGIES_FILE, 'Jason Argonaut', 'PENICILLIN') == None\n",
        "assert allergy_reaction(ALLERGIES_FILE, 'Paul Boal', 'PENICILLIN G') == 'Bruising'"
      ]
    },
    {
      "cell_type": "markdown",
      "metadata": {
        "id": "MQfNsptjXDQ5"
      },
      "source": [
        "---\n",
        "\n",
        "## Check your work above\n",
        "\n",
        "If you didn't get them all correct, take a few minutes to think through those that aren't correct.\n",
        "\n",
        "\n",
        "## Submitting Your Work\n",
        "\n",
        "In order to submit your work, you'll need to save this notebook file back to GitHub.  To do that in Google Colab:\n",
        "1. File -> Save a Copy in GitHub\n",
        "2. Make sure your HDS5210 repository is selected\n",
        "3. Make sure the file name includes the week number like this: `week06/week06_assignment_2.ipynb`\n",
        "4. Add a commit message that means something\n",
        "\n",
        "**Be sure week names are lowercase and use a two digit week number!!**\n",
        "\n",
        "**Be sure you use the same file name provided by the instructor!!**\n",
        "\n"
      ]
    }
  ],
  "metadata": {
    "celltoolbar": "Create Assignment",
    "kernelspec": {
      "display_name": "Python 3",
      "language": "python",
      "name": "python3"
    },
    "language_info": {
      "codemirror_mode": {
        "name": "ipython",
        "version": 3
      },
      "file_extension": ".py",
      "mimetype": "text/x-python",
      "name": "python",
      "nbconvert_exporter": "python",
      "pygments_lexer": "ipython3",
      "version": "3.9.18"
    },
    "colab": {
      "provenance": []
    }
  },
  "nbformat": 4,
  "nbformat_minor": 0
}