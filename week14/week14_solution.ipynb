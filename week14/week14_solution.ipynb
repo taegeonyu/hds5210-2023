{
  "cells": [
    {
      "cell_type": "markdown",
      "metadata": {
        "nbgrader": {
          "grade": false,
          "grade_id": "intro",
          "locked": true,
          "schema_version": 1,
          "solution": false
        },
        "id": "D5htfjMLmWgg"
      },
      "source": [
        "# Working with multiple data sets\n",
        "\n",
        "There are two data files that we'll be working with for this week's assignment.  They are described below.  Load those data files in with Pandas and then work to answering each of the questions below.\n",
        "\n",
        "## npidata.csv\n",
        "\n",
        "This file is basic information about every healthcare provider in the US.  It has one row for each NPI (National Provider Identifier).  It contains information such as the provider's name and address.\n",
        "\n",
        "\n",
        "## cmsYYYY.csv\n",
        "\n",
        "These are files about what kinds of procedures and patients providers in the US are serving under CMS programs, Medicare and Medicaid.  Each contains various statistics about providers over the course of a year.  There are three of these, for the years 2014, 2015, and 2016.  These files, however, don't contain information about the provider such as where the provider is located.\n",
        "\n",
        "## Our Goals\n",
        "\n",
        "For this assignment, we're going to want to compute some statistics based on the data in the **cms** files, but aggregate that data based on information in the **npidata** file.  As in last week's assignment, you'll need to store your answers in a variable called `answer` at the end of each step."
      ]
    },
    {
      "cell_type": "code",
      "execution_count": null,
      "metadata": {
        "nbgrader": {
          "grade": false,
          "grade_id": "import",
          "locked": true,
          "schema_version": 1,
          "solution": false
        },
        "id": "fnn0G29emWgh"
      },
      "outputs": [],
      "source": [
        "import pandas as pd"
      ]
    },
    {
      "cell_type": "markdown",
      "metadata": {
        "nbgrader": {
          "grade": false,
          "grade_id": "01-intro",
          "locked": true,
          "schema_version": 1,
          "solution": false
        },
        "id": "5DmmWWtumWgi"
      },
      "source": [
        "## Part 1\n",
        "\n",
        "In this first step, we'll need to merge together all of the **cms** files into a single dataframe.  Be careful that these files might not be identical, so you'll have to look a little bit to figure out how to merge them.\n",
        "\n",
        "As you are merging them, make sure that you retain information about which file (i.e. which year) the data came from.  Call that new columns `year`.\n",
        "\n",
        "In your `answer` variable, provide a complete data frame that contains all of the rows and columns from the **cms** files, plus an additional column to store the year/file that particular row came from.\n",
        "\n",
        "The assertion tests will give you a good idea as to if you're merging the files correctly."
      ]
    },
    {
      "cell_type": "code",
      "execution_count": null,
      "metadata": {
        "nbgrader": {
          "grade": false,
          "grade_id": "01-solution",
          "locked": false,
          "schema_version": 1,
          "solution": true
        },
        "id": "hZ3NRFFXmWgi"
      },
      "outputs": [],
      "source": [
        "# We're going to load the dataframes for each year into a list of dataframes\n",
        "cmss = []\n",
        "years = [2014, 2015, 2016]\n",
        "\n",
        "# Instead of copying/pasting code, we can parameterize it using a list of years and a loop\n",
        "for year in years:\n",
        "    a = pd.read_csv('https://hds5210-data.s3.amazonaws.com/cms' + str(year) + '.csv')\n",
        "    # print(a.columns) -- I noticed one of them has upper case column names!\n",
        "    a.columns = a.columns.str.lower()\n",
        "    cmss.append(a)\n",
        "\n",
        "# And we concat all the dataframes from our list together\n",
        "cms = pd.concat(cmss, keys=years, names=['year','row'], sort=False).reset_index()\n",
        "cms.drop('row', axis=1, inplace=True)\n",
        "\n",
        "answer = cms"
      ]
    },
    {
      "cell_type": "code",
      "execution_count": null,
      "metadata": {
        "id": "sgCTMsjcmWgi",
        "outputId": "8c3572c3-aa9b-4e4a-9997-3fe9367d6953"
      },
      "outputs": [
        {
          "data": {
            "text/html": [
              "<div>\n",
              "<style scoped>\n",
              "    .dataframe tbody tr th:only-of-type {\n",
              "        vertical-align: middle;\n",
              "    }\n",
              "\n",
              "    .dataframe tbody tr th {\n",
              "        vertical-align: top;\n",
              "    }\n",
              "\n",
              "    .dataframe thead th {\n",
              "        text-align: right;\n",
              "    }\n",
              "</style>\n",
              "<table border=\"1\" class=\"dataframe\">\n",
              "  <thead>\n",
              "    <tr style=\"text-align: right;\">\n",
              "      <th></th>\n",
              "      <th>year</th>\n",
              "      <th>nbr</th>\n",
              "      <th>npi</th>\n",
              "      <th>provider_type</th>\n",
              "      <th>medicare_participation_indicator</th>\n",
              "      <th>number_of_hcpcs</th>\n",
              "      <th>total_services</th>\n",
              "      <th>total_unique_benes</th>\n",
              "      <th>total_submitted_chrg_amt</th>\n",
              "      <th>total_medicare_allowed_amt</th>\n",
              "      <th>...</th>\n",
              "      <th>beneficiary_cc_depr_percent</th>\n",
              "      <th>beneficiary_cc_diab_percent</th>\n",
              "      <th>beneficiary_cc_hyperl_percent</th>\n",
              "      <th>beneficiary_cc_hypert_percent</th>\n",
              "      <th>beneficiary_cc_ihd_percent</th>\n",
              "      <th>beneficiary_cc_ost_percent</th>\n",
              "      <th>beneficiary_cc_raoa_percent</th>\n",
              "      <th>beneficiary_cc_schiot_percent</th>\n",
              "      <th>beneficiary_cc_strk_percent</th>\n",
              "      <th>beneficiary_average_risk_score</th>\n",
              "    </tr>\n",
              "  </thead>\n",
              "  <tbody>\n",
              "    <tr>\n",
              "      <th>0</th>\n",
              "      <td>2014</td>\n",
              "      <td>1</td>\n",
              "      <td>1003000134</td>\n",
              "      <td>Pathology</td>\n",
              "      <td>Y</td>\n",
              "      <td>13</td>\n",
              "      <td>8643.0</td>\n",
              "      <td>4276</td>\n",
              "      <td>1357139.00</td>\n",
              "      <td>321641.88</td>\n",
              "      <td>...</td>\n",
              "      <td>12.0</td>\n",
              "      <td>20.0</td>\n",
              "      <td>53.0</td>\n",
              "      <td>57.0</td>\n",
              "      <td>28.0</td>\n",
              "      <td>9.0</td>\n",
              "      <td>37.0</td>\n",
              "      <td>1.0</td>\n",
              "      <td>3.0</td>\n",
              "      <td>1.0007</td>\n",
              "    </tr>\n",
              "    <tr>\n",
              "      <th>1</th>\n",
              "      <td>2014</td>\n",
              "      <td>19</td>\n",
              "      <td>1003001249</td>\n",
              "      <td>Physical Therapist</td>\n",
              "      <td>Y</td>\n",
              "      <td>4</td>\n",
              "      <td>1221.0</td>\n",
              "      <td>69</td>\n",
              "      <td>88686.28</td>\n",
              "      <td>34060.09</td>\n",
              "      <td>...</td>\n",
              "      <td>NaN</td>\n",
              "      <td>39.0</td>\n",
              "      <td>64.0</td>\n",
              "      <td>75.0</td>\n",
              "      <td>32.0</td>\n",
              "      <td>NaN</td>\n",
              "      <td>68.0</td>\n",
              "      <td>NaN</td>\n",
              "      <td>NaN</td>\n",
              "      <td>1.1912</td>\n",
              "    </tr>\n",
              "    <tr>\n",
              "      <th>2</th>\n",
              "      <td>2014</td>\n",
              "      <td>21</td>\n",
              "      <td>1003001322</td>\n",
              "      <td>Mass Immunization Roster Biller</td>\n",
              "      <td>Y</td>\n",
              "      <td>7</td>\n",
              "      <td>788.0</td>\n",
              "      <td>370</td>\n",
              "      <td>21640.24</td>\n",
              "      <td>21634.91</td>\n",
              "      <td>...</td>\n",
              "      <td>13.0</td>\n",
              "      <td>18.0</td>\n",
              "      <td>42.0</td>\n",
              "      <td>49.0</td>\n",
              "      <td>24.0</td>\n",
              "      <td>5.0</td>\n",
              "      <td>25.0</td>\n",
              "      <td>NaN</td>\n",
              "      <td>3.0</td>\n",
              "      <td>0.8019</td>\n",
              "    </tr>\n",
              "    <tr>\n",
              "      <th>3</th>\n",
              "      <td>2014</td>\n",
              "      <td>37</td>\n",
              "      <td>1003002486</td>\n",
              "      <td>Chiropractic</td>\n",
              "      <td>Y</td>\n",
              "      <td>2</td>\n",
              "      <td>142.0</td>\n",
              "      <td>22</td>\n",
              "      <td>7458.44</td>\n",
              "      <td>5037.51</td>\n",
              "      <td>...</td>\n",
              "      <td>NaN</td>\n",
              "      <td>NaN</td>\n",
              "      <td>59.0</td>\n",
              "      <td>59.0</td>\n",
              "      <td>NaN</td>\n",
              "      <td>0.0</td>\n",
              "      <td>64.0</td>\n",
              "      <td>0.0</td>\n",
              "      <td>0.0</td>\n",
              "      <td>0.7920</td>\n",
              "    </tr>\n",
              "    <tr>\n",
              "      <th>4</th>\n",
              "      <td>2014</td>\n",
              "      <td>73</td>\n",
              "      <td>1003005430</td>\n",
              "      <td>Clinical Psychologist</td>\n",
              "      <td>Y</td>\n",
              "      <td>3</td>\n",
              "      <td>130.0</td>\n",
              "      <td>11</td>\n",
              "      <td>20640.00</td>\n",
              "      <td>14968.22</td>\n",
              "      <td>...</td>\n",
              "      <td>NaN</td>\n",
              "      <td>NaN</td>\n",
              "      <td>NaN</td>\n",
              "      <td>NaN</td>\n",
              "      <td>NaN</td>\n",
              "      <td>0.0</td>\n",
              "      <td>NaN</td>\n",
              "      <td>0.0</td>\n",
              "      <td>NaN</td>\n",
              "      <td>0.9718</td>\n",
              "    </tr>\n",
              "  </tbody>\n",
              "</table>\n",
              "<p>5 rows × 60 columns</p>\n",
              "</div>"
            ],
            "text/plain": [
              "   year  nbr         npi                    provider_type  \\\n",
              "0  2014    1  1003000134                        Pathology   \n",
              "1  2014   19  1003001249               Physical Therapist   \n",
              "2  2014   21  1003001322  Mass Immunization Roster Biller   \n",
              "3  2014   37  1003002486                     Chiropractic   \n",
              "4  2014   73  1003005430            Clinical Psychologist   \n",
              "\n",
              "  medicare_participation_indicator  number_of_hcpcs  total_services  \\\n",
              "0                                Y               13          8643.0   \n",
              "1                                Y                4          1221.0   \n",
              "2                                Y                7           788.0   \n",
              "3                                Y                2           142.0   \n",
              "4                                Y                3           130.0   \n",
              "\n",
              "   total_unique_benes  total_submitted_chrg_amt  total_medicare_allowed_amt  \\\n",
              "0                4276                1357139.00                   321641.88   \n",
              "1                  69                  88686.28                    34060.09   \n",
              "2                 370                  21640.24                    21634.91   \n",
              "3                  22                   7458.44                     5037.51   \n",
              "4                  11                  20640.00                    14968.22   \n",
              "\n",
              "   ...  beneficiary_cc_depr_percent  beneficiary_cc_diab_percent  \\\n",
              "0  ...                         12.0                         20.0   \n",
              "1  ...                          NaN                         39.0   \n",
              "2  ...                         13.0                         18.0   \n",
              "3  ...                          NaN                          NaN   \n",
              "4  ...                          NaN                          NaN   \n",
              "\n",
              "  beneficiary_cc_hyperl_percent  beneficiary_cc_hypert_percent  \\\n",
              "0                          53.0                           57.0   \n",
              "1                          64.0                           75.0   \n",
              "2                          42.0                           49.0   \n",
              "3                          59.0                           59.0   \n",
              "4                           NaN                            NaN   \n",
              "\n",
              "   beneficiary_cc_ihd_percent  beneficiary_cc_ost_percent  \\\n",
              "0                        28.0                         9.0   \n",
              "1                        32.0                         NaN   \n",
              "2                        24.0                         5.0   \n",
              "3                         NaN                         0.0   \n",
              "4                         NaN                         0.0   \n",
              "\n",
              "   beneficiary_cc_raoa_percent  beneficiary_cc_schiot_percent  \\\n",
              "0                         37.0                            1.0   \n",
              "1                         68.0                            NaN   \n",
              "2                         25.0                            NaN   \n",
              "3                         64.0                            0.0   \n",
              "4                          NaN                            0.0   \n",
              "\n",
              "   beneficiary_cc_strk_percent  beneficiary_average_risk_score  \n",
              "0                          3.0                          1.0007  \n",
              "1                          NaN                          1.1912  \n",
              "2                          3.0                          0.8019  \n",
              "3                          0.0                          0.7920  \n",
              "4                          NaN                          0.9718  \n",
              "\n",
              "[5 rows x 60 columns]"
            ]
          },
          "execution_count": 4,
          "metadata": {},
          "output_type": "execute_result"
        }
      ],
      "source": [
        "answer.head()"
      ]
    },
    {
      "cell_type": "code",
      "execution_count": null,
      "metadata": {
        "id": "7_d9_ZaVmWgi",
        "outputId": "351af01a-cd6d-4bee-95d4-0ba765a94050"
      },
      "outputs": [
        {
          "data": {
            "text/plain": [
              "Index(['nbr', 'npi', 'provider_type', 'medicare_participation_indicator',\n",
              "       'number_of_hcpcs', 'total_services', 'total_unique_benes',\n",
              "       'total_submitted_chrg_amt', 'total_medicare_allowed_amt',\n",
              "       'total_medicare_payment_amt', 'total_medicare_stnd_amt',\n",
              "       'drug_suppress_indicator', 'number_of_drug_hcpcs',\n",
              "       'total_drug_services', 'total_drug_unique_benes',\n",
              "       'total_drug_submitted_chrg_amt', 'total_drug_medicare_allowed_amt',\n",
              "       'total_drug_medicare_payment_amt', 'total_drug_medicare_stnd_amt',\n",
              "       'med_suppress_indicator', 'number_of_med_hcpcs', 'total_med_services',\n",
              "       'total_med_unique_benes', 'total_med_submitted_chrg_amt',\n",
              "       'total_med_medicare_allowed_amt', 'total_med_medicare_payment_amt',\n",
              "       'total_med_medicare_stnd_amt', 'beneficiary_average_age',\n",
              "       'beneficiary_age_less_65_count', 'beneficiary_age_65_74_count',\n",
              "       'beneficiary_age_75_84_count', 'beneficiary_age_greater_84_count',\n",
              "       'beneficiary_female_count', 'beneficiary_male_count',\n",
              "       'beneficiary_race_white_count', 'beneficiary_race_black_count',\n",
              "       'beneficiary_race_api_count', 'beneficiary_race_hispanic_count',\n",
              "       'beneficiary_race_natind_count', 'beneficiary_race_other_count',\n",
              "       'beneficiary_nondual_count', 'beneficiary_dual_count',\n",
              "       'beneficiary_cc_afib_percent', 'beneficiary_cc_alzrdsd_percent',\n",
              "       'beneficiary_cc_asthma_percent', 'beneficiary_cc_cancer_percent',\n",
              "       'beneficiary_cc_chf_percent', 'beneficiary_cc_ckd_percent',\n",
              "       'beneficiary_cc_copd_percent', 'beneficiary_cc_depr_percent',\n",
              "       'beneficiary_cc_diab_percent', 'beneficiary_cc_hyperl_percent',\n",
              "       'beneficiary_cc_hypert_percent', 'beneficiary_cc_ihd_percent',\n",
              "       'beneficiary_cc_ost_percent', 'beneficiary_cc_raoa_percent',\n",
              "       'beneficiary_cc_schiot_percent', 'beneficiary_cc_strk_percent',\n",
              "       'beneficiary_average_risk_score'],\n",
              "      dtype='object')"
            ]
          },
          "execution_count": 5,
          "metadata": {},
          "output_type": "execute_result"
        }
      ],
      "source": [
        "cmss[0].columns"
      ]
    },
    {
      "cell_type": "code",
      "execution_count": null,
      "metadata": {
        "id": "7xfoBh5PmWgi",
        "outputId": "91d80420-d1cc-4d1f-a894-b9094a1b157e"
      },
      "outputs": [
        {
          "data": {
            "text/plain": [
              "Index(['nbr', 'npi', 'provider_type', 'medicare_participation_indicator',\n",
              "       'number_of_hcpcs', 'total_services', 'total_unique_benes',\n",
              "       'total_submitted_chrg_amt', 'total_medicare_allowed_amt',\n",
              "       'total_medicare_payment_amt', 'total_medicare_stnd_amt',\n",
              "       'drug_suppress_indicator', 'number_of_drug_hcpcs',\n",
              "       'total_drug_services', 'total_drug_unique_benes',\n",
              "       'total_drug_submitted_chrg_amt', 'total_drug_medicare_allowed_amt',\n",
              "       'total_drug_medicare_payment_amt', 'total_drug_medicare_stnd_amt',\n",
              "       'med_suppress_indicator', 'number_of_med_hcpcs', 'total_med_services',\n",
              "       'total_med_unique_benes', 'total_med_submitted_chrg_amt',\n",
              "       'total_med_medicare_allowed_amt', 'total_med_medicare_payment_amt',\n",
              "       'total_med_medicare_stnd_amt', 'beneficiary_average_age',\n",
              "       'beneficiary_age_less_65_count', 'beneficiary_age_65_74_count',\n",
              "       'beneficiary_age_75_84_count', 'beneficiary_age_greater_84_count',\n",
              "       'beneficiary_female_count', 'beneficiary_male_count',\n",
              "       'beneficiary_race_white_count', 'beneficiary_race_black_count',\n",
              "       'beneficiary_race_api_count', 'beneficiary_race_hispanic_count',\n",
              "       'beneficiary_race_natind_count', 'beneficiary_race_other_count',\n",
              "       'beneficiary_nondual_count', 'beneficiary_dual_count',\n",
              "       'beneficiary_cc_afib_percent', 'beneficiary_cc_alzrdsd_percent',\n",
              "       'beneficiary_cc_asthma_percent', 'beneficiary_cc_cancer_percent',\n",
              "       'beneficiary_cc_chf_percent', 'beneficiary_cc_ckd_percent',\n",
              "       'beneficiary_cc_copd_percent', 'beneficiary_cc_depr_percent',\n",
              "       'beneficiary_cc_diab_percent', 'beneficiary_cc_hyperl_percent',\n",
              "       'beneficiary_cc_hypert_percent', 'beneficiary_cc_ihd_percent',\n",
              "       'beneficiary_cc_ost_percent', 'beneficiary_cc_raoa_percent',\n",
              "       'beneficiary_cc_schiot_percent', 'beneficiary_cc_strk_percent',\n",
              "       'beneficiary_average_risk_score'],\n",
              "      dtype='object')"
            ]
          },
          "execution_count": 6,
          "metadata": {},
          "output_type": "execute_result"
        }
      ],
      "source": [
        "cmss[2].columns"
      ]
    },
    {
      "cell_type": "code",
      "execution_count": null,
      "metadata": {
        "nbgrader": {
          "grade": true,
          "grade_id": "01-tests",
          "locked": true,
          "points": 5,
          "schema_version": 1,
          "solution": false
        },
        "id": "-zEAsAyFmWgi"
      },
      "outputs": [],
      "source": [
        "assert(answer.shape == (193862, 60))\n",
        "assert(list(answer['year'].unique()) == [2014,2015,2016])\n",
        "assert(set(answer.columns.str.lower()) == set(['year', 'nbr', 'npi', 'provider_type',\n",
        "       'medicare_participation_indicator', 'number_of_hcpcs', 'total_services',\n",
        "       'total_unique_benes', 'total_submitted_chrg_amt',\n",
        "       'total_medicare_allowed_amt', 'total_medicare_payment_amt',\n",
        "       'total_medicare_stnd_amt', 'drug_suppress_indicator',\n",
        "       'number_of_drug_hcpcs', 'total_drug_services',\n",
        "       'total_drug_unique_benes', 'total_drug_submitted_chrg_amt',\n",
        "       'total_drug_medicare_allowed_amt', 'total_drug_medicare_payment_amt',\n",
        "       'total_drug_medicare_stnd_amt', 'med_suppress_indicator',\n",
        "       'number_of_med_hcpcs', 'total_med_services', 'total_med_unique_benes',\n",
        "       'total_med_submitted_chrg_amt', 'total_med_medicare_allowed_amt',\n",
        "       'total_med_medicare_payment_amt', 'total_med_medicare_stnd_amt',\n",
        "       'beneficiary_average_age', 'beneficiary_age_less_65_count',\n",
        "       'beneficiary_age_65_74_count', 'beneficiary_age_75_84_count',\n",
        "       'beneficiary_age_greater_84_count', 'beneficiary_female_count',\n",
        "       'beneficiary_male_count', 'beneficiary_race_white_count',\n",
        "       'beneficiary_race_black_count', 'beneficiary_race_api_count',\n",
        "       'beneficiary_race_hispanic_count', 'beneficiary_race_natind_count',\n",
        "       'beneficiary_race_other_count', 'beneficiary_nondual_count',\n",
        "       'beneficiary_dual_count', 'beneficiary_cc_afib_percent',\n",
        "       'beneficiary_cc_alzrdsd_percent', 'beneficiary_cc_asthma_percent',\n",
        "       'beneficiary_cc_cancer_percent', 'beneficiary_cc_chf_percent',\n",
        "       'beneficiary_cc_ckd_percent', 'beneficiary_cc_copd_percent',\n",
        "       'beneficiary_cc_depr_percent', 'beneficiary_cc_diab_percent',\n",
        "       'beneficiary_cc_hyperl_percent', 'beneficiary_cc_hypert_percent',\n",
        "       'beneficiary_cc_ihd_percent', 'beneficiary_cc_ost_percent',\n",
        "       'beneficiary_cc_raoa_percent', 'beneficiary_cc_schiot_percent',\n",
        "       'beneficiary_cc_strk_percent', 'beneficiary_average_risk_score']))"
      ]
    },
    {
      "cell_type": "code",
      "execution_count": null,
      "metadata": {
        "id": "9Bph1X7JmWgj"
      },
      "outputs": [],
      "source": []
    },
    {
      "cell_type": "markdown",
      "metadata": {
        "nbgrader": {
          "grade": false,
          "grade_id": "02-intro",
          "locked": true,
          "schema_version": 1,
          "solution": false
        },
        "id": "h-Pwl9B3mWgj"
      },
      "source": [
        "## Part 2\n",
        "\n",
        "In this next part, we're going to join the **cms** data with the provider information in the **/data/npidata.csv** file.  In this join, we don't want to lose any records from the **cms** files, even if no matching provider exists in the **npidata** file.  However, we don't care about any providers from the **npidata** file that don't have records in the **cms** files.  Those providers can be ignored.\n",
        "\n",
        "Join the data files together to create one unified data frame called `answer`.  This dataframe should have all the columns from both **cms** and **npidata** files, joined together using the `npi` column.  \n",
        "\n",
        "Note that `npi` is unique in the **npidata** file."
      ]
    },
    {
      "cell_type": "code",
      "execution_count": null,
      "metadata": {
        "nbgrader": {
          "grade": false,
          "grade_id": "02-solution",
          "locked": false,
          "schema_version": 1,
          "solution": true
        },
        "id": "cBeJhvyhmWgj",
        "outputId": "a7c9a7e9-e19e-4668-c910-63724e7b412c"
      },
      "outputs": [
        {
          "name": "stderr",
          "output_type": "stream",
          "text": [
            "/var/folders/y_/xxx3y_g51lq6y2lhcry0dznc0000gn/T/ipykernel_59157/252498696.py:4: DtypeWarning: Columns (18,33) have mixed types. Specify dtype option on import or set low_memory=False.\n",
            "  npi = pd.read_csv('https://hds5210-data.s3.amazonaws.com/npidata.csv')\n"
          ]
        }
      ],
      "source": [
        "# Load up the NPI data and join it to our CMS data\n",
        "npi = pd.read_csv('https://hds5210-data.s3.amazonaws.com/npidata.csv')\n",
        "full = cms.merge(npi, how='left', left_on='npi', right_on='NPI')\n",
        "\n",
        "answer = full"
      ]
    },
    {
      "cell_type": "code",
      "execution_count": null,
      "metadata": {
        "id": "K5F1zTLnmWgj",
        "outputId": "5145a48b-6619-410b-bfe5-30436abc1e31"
      },
      "outputs": [
        {
          "data": {
            "text/plain": [
              "(251661, 43)"
            ]
          },
          "execution_count": 17,
          "metadata": {},
          "output_type": "execute_result"
        }
      ],
      "source": [
        "npi.shape"
      ]
    },
    {
      "cell_type": "code",
      "execution_count": null,
      "metadata": {
        "id": "Z-W48ZLlmWgj",
        "outputId": "4d834506-f9f4-47d8-abdd-9b16136c35c4"
      },
      "outputs": [
        {
          "data": {
            "text/plain": [
              "(193862, 60)"
            ]
          },
          "execution_count": 18,
          "metadata": {},
          "output_type": "execute_result"
        }
      ],
      "source": [
        "cms.shape"
      ]
    },
    {
      "cell_type": "code",
      "execution_count": null,
      "metadata": {
        "id": "Z-o8zpHXmWgj"
      },
      "outputs": [],
      "source": [
        "data_joined = answer\n",
        "data_joined['State'] = data_joined['Provider Business Mailing Address State Name']"
      ]
    },
    {
      "cell_type": "code",
      "execution_count": null,
      "metadata": {
        "id": "OY1adV_RmWgj",
        "outputId": "d66609f1-753c-4b28-8282-5b114cfe388f"
      },
      "outputs": [
        {
          "name": "stdout",
          "output_type": "stream",
          "text": [
            "['year', 'nbr', 'npi', 'provider_type', 'medicare_participation_indicator', 'number_of_hcpcs', 'total_services', 'total_unique_benes', 'total_submitted_chrg_amt', 'total_medicare_allowed_amt', 'total_medicare_payment_amt', 'total_medicare_stnd_amt', 'drug_suppress_indicator', 'number_of_drug_hcpcs', 'total_drug_services', 'total_drug_unique_benes', 'total_drug_submitted_chrg_amt', 'total_drug_medicare_allowed_amt', 'total_drug_medicare_payment_amt', 'total_drug_medicare_stnd_amt', 'med_suppress_indicator', 'number_of_med_hcpcs', 'total_med_services', 'total_med_unique_benes', 'total_med_submitted_chrg_amt', 'total_med_medicare_allowed_amt', 'total_med_medicare_payment_amt', 'total_med_medicare_stnd_amt', 'beneficiary_average_age', 'beneficiary_age_less_65_count', 'beneficiary_age_65_74_count', 'beneficiary_age_75_84_count', 'beneficiary_age_greater_84_count', 'beneficiary_female_count', 'beneficiary_male_count', 'beneficiary_race_white_count', 'beneficiary_race_black_count', 'beneficiary_race_api_count', 'beneficiary_race_hispanic_count', 'beneficiary_race_natind_count', 'beneficiary_race_other_count', 'beneficiary_nondual_count', 'beneficiary_dual_count', 'beneficiary_cc_afib_percent', 'beneficiary_cc_alzrdsd_percent', 'beneficiary_cc_asthma_percent', 'beneficiary_cc_cancer_percent', 'beneficiary_cc_chf_percent', 'beneficiary_cc_ckd_percent', 'beneficiary_cc_copd_percent', 'beneficiary_cc_depr_percent', 'beneficiary_cc_diab_percent', 'beneficiary_cc_hyperl_percent', 'beneficiary_cc_hypert_percent', 'beneficiary_cc_ihd_percent', 'beneficiary_cc_ost_percent', 'beneficiary_cc_raoa_percent', 'beneficiary_cc_schiot_percent', 'beneficiary_cc_strk_percent', 'beneficiary_average_risk_score', 'row', 'NPI', 'Entity Type Code', 'Replacement NPI', 'Employer Identification Number (EIN)', 'Provider Organization Name (Legal Business Name)', 'Provider Last Name (Legal Name)', 'Provider First Name', 'Provider Middle Name', 'Provider Name Prefix Text', 'Provider Name Suffix Text', 'Provider Credential Text', 'Provider Other Organization Name', 'Provider Other Organization Name Type Code', 'Provider Other Last Name', 'Provider Other First Name', 'Provider Other Middle Name', 'Provider Other Name Prefix Text', 'Provider Other Name Suffix Text', 'Provider Other Credential Text', 'Provider Other Last Name Type Code', 'Provider First Line Business Mailing Address', 'Provider Second Line Business Mailing Address', 'Provider Business Mailing Address City Name', 'Provider Business Mailing Address State Name', 'Provider Business Mailing Address Postal Code', 'Provider Business Mailing Address Country Code (If outside U.S.)', 'Provider Business Mailing Address Telephone Number', 'Provider Business Mailing Address Fax Number', 'Provider First Line Business Practice Location Address', 'Provider Second Line Business Practice Location Address', 'Provider Business Practice Location Address City Name', 'Provider Business Practice Location Address State Name', 'Provider Business Practice Location Address Postal Code', 'Provider Business Practice Location Address Country Code (If outside U.S.)', 'Provider Business Practice Location Address Telephone Number', 'Provider Business Practice Location Address Fax Number', 'Provider Enumeration Date', 'Last Update Date', 'NPI Deactivation Reason Code', 'NPI Deactivation Date', 'NPI Reactivation Date', 'Provider Gender Code', 'State']\n"
          ]
        }
      ],
      "source": [
        "print(list(full.columns))"
      ]
    },
    {
      "cell_type": "code",
      "execution_count": null,
      "metadata": {
        "id": "2YQhtlemmWgj"
      },
      "outputs": [],
      "source": [
        "import numpy as np\n",
        "data_joined['State'] = data_joined['State'].replace(np.nan, 'XX')"
      ]
    },
    {
      "cell_type": "code",
      "execution_count": null,
      "metadata": {
        "id": "KABa0K2amWgj",
        "outputId": "2bd4dec1-400f-4c2c-97fc-62ab7e4c8cab"
      },
      "outputs": [
        {
          "data": {
            "text/plain": [
              "State\n",
              "IL    111520\n",
              "MO     53366\n",
              "WY      4805\n",
              "XX     24171\n",
              "Name: npi, dtype: int64"
            ]
          },
          "execution_count": 12,
          "metadata": {},
          "output_type": "execute_result"
        }
      ],
      "source": [
        "answer = data_joined\n",
        "answer.groupby('State').npi.count()"
      ]
    },
    {
      "cell_type": "code",
      "execution_count": null,
      "metadata": {
        "id": "d-xWo1LRmWgj",
        "outputId": "50ab65d1-f465-4b73-e21f-381ed09bdac0"
      },
      "outputs": [
        {
          "data": {
            "text/html": [
              "<div>\n",
              "<style scoped>\n",
              "    .dataframe tbody tr th:only-of-type {\n",
              "        vertical-align: middle;\n",
              "    }\n",
              "\n",
              "    .dataframe tbody tr th {\n",
              "        vertical-align: top;\n",
              "    }\n",
              "\n",
              "    .dataframe thead th {\n",
              "        text-align: right;\n",
              "    }\n",
              "</style>\n",
              "<table border=\"1\" class=\"dataframe\">\n",
              "  <thead>\n",
              "    <tr style=\"text-align: right;\">\n",
              "      <th></th>\n",
              "      <th>year</th>\n",
              "      <th>nbr</th>\n",
              "      <th>npi</th>\n",
              "      <th>provider_type</th>\n",
              "      <th>medicare_participation_indicator</th>\n",
              "      <th>number_of_hcpcs</th>\n",
              "      <th>total_services</th>\n",
              "      <th>total_unique_benes</th>\n",
              "      <th>total_submitted_chrg_amt</th>\n",
              "      <th>total_medicare_allowed_amt</th>\n",
              "      <th>...</th>\n",
              "      <th>Provider Business Practice Location Address Country Code (If outside U.S.)</th>\n",
              "      <th>Provider Business Practice Location Address Telephone Number</th>\n",
              "      <th>Provider Business Practice Location Address Fax Number</th>\n",
              "      <th>Provider Enumeration Date</th>\n",
              "      <th>Last Update Date</th>\n",
              "      <th>NPI Deactivation Reason Code</th>\n",
              "      <th>NPI Deactivation Date</th>\n",
              "      <th>NPI Reactivation Date</th>\n",
              "      <th>Provider Gender Code</th>\n",
              "      <th>State</th>\n",
              "    </tr>\n",
              "  </thead>\n",
              "  <tbody>\n",
              "    <tr>\n",
              "      <th>7</th>\n",
              "      <td>2014</td>\n",
              "      <td>145</td>\n",
              "      <td>1003009358</td>\n",
              "      <td>Cardiology</td>\n",
              "      <td>Y</td>\n",
              "      <td>22</td>\n",
              "      <td>148.0</td>\n",
              "      <td>87</td>\n",
              "      <td>47651.00</td>\n",
              "      <td>17811.34</td>\n",
              "      <td>...</td>\n",
              "      <td>NaN</td>\n",
              "      <td>NaN</td>\n",
              "      <td>NaN</td>\n",
              "      <td>NaN</td>\n",
              "      <td>NaN</td>\n",
              "      <td>NaN</td>\n",
              "      <td>NaN</td>\n",
              "      <td>NaN</td>\n",
              "      <td>NaN</td>\n",
              "      <td>XX</td>\n",
              "    </tr>\n",
              "    <tr>\n",
              "      <th>8</th>\n",
              "      <td>2014</td>\n",
              "      <td>170</td>\n",
              "      <td>1003010596</td>\n",
              "      <td>Otolaryngology</td>\n",
              "      <td>Y</td>\n",
              "      <td>119</td>\n",
              "      <td>885.0</td>\n",
              "      <td>226</td>\n",
              "      <td>663710.60</td>\n",
              "      <td>176771.04</td>\n",
              "      <td>...</td>\n",
              "      <td>NaN</td>\n",
              "      <td>NaN</td>\n",
              "      <td>NaN</td>\n",
              "      <td>NaN</td>\n",
              "      <td>NaN</td>\n",
              "      <td>NaN</td>\n",
              "      <td>NaN</td>\n",
              "      <td>NaN</td>\n",
              "      <td>NaN</td>\n",
              "      <td>XX</td>\n",
              "    </tr>\n",
              "    <tr>\n",
              "      <th>13</th>\n",
              "      <td>2014</td>\n",
              "      <td>272</td>\n",
              "      <td>1003013947</td>\n",
              "      <td>Orthopedic Surgery</td>\n",
              "      <td>Y</td>\n",
              "      <td>61</td>\n",
              "      <td>717.0</td>\n",
              "      <td>188</td>\n",
              "      <td>727936.00</td>\n",
              "      <td>69934.44</td>\n",
              "      <td>...</td>\n",
              "      <td>NaN</td>\n",
              "      <td>NaN</td>\n",
              "      <td>NaN</td>\n",
              "      <td>NaN</td>\n",
              "      <td>NaN</td>\n",
              "      <td>NaN</td>\n",
              "      <td>NaN</td>\n",
              "      <td>NaN</td>\n",
              "      <td>NaN</td>\n",
              "      <td>XX</td>\n",
              "    </tr>\n",
              "    <tr>\n",
              "      <th>15</th>\n",
              "      <td>2014</td>\n",
              "      <td>286</td>\n",
              "      <td>1003014705</td>\n",
              "      <td>Internal Medicine</td>\n",
              "      <td>Y</td>\n",
              "      <td>19</td>\n",
              "      <td>628.0</td>\n",
              "      <td>243</td>\n",
              "      <td>112364.00</td>\n",
              "      <td>49147.73</td>\n",
              "      <td>...</td>\n",
              "      <td>NaN</td>\n",
              "      <td>NaN</td>\n",
              "      <td>NaN</td>\n",
              "      <td>NaN</td>\n",
              "      <td>NaN</td>\n",
              "      <td>NaN</td>\n",
              "      <td>NaN</td>\n",
              "      <td>NaN</td>\n",
              "      <td>NaN</td>\n",
              "      <td>XX</td>\n",
              "    </tr>\n",
              "    <tr>\n",
              "      <th>22</th>\n",
              "      <td>2014</td>\n",
              "      <td>366</td>\n",
              "      <td>1003018177</td>\n",
              "      <td>Anesthesiology</td>\n",
              "      <td>Y</td>\n",
              "      <td>63</td>\n",
              "      <td>316.0</td>\n",
              "      <td>263</td>\n",
              "      <td>577296.11</td>\n",
              "      <td>50950.00</td>\n",
              "      <td>...</td>\n",
              "      <td>NaN</td>\n",
              "      <td>NaN</td>\n",
              "      <td>NaN</td>\n",
              "      <td>NaN</td>\n",
              "      <td>NaN</td>\n",
              "      <td>NaN</td>\n",
              "      <td>NaN</td>\n",
              "      <td>NaN</td>\n",
              "      <td>NaN</td>\n",
              "      <td>XX</td>\n",
              "    </tr>\n",
              "    <tr>\n",
              "      <th>...</th>\n",
              "      <td>...</td>\n",
              "      <td>...</td>\n",
              "      <td>...</td>\n",
              "      <td>...</td>\n",
              "      <td>...</td>\n",
              "      <td>...</td>\n",
              "      <td>...</td>\n",
              "      <td>...</td>\n",
              "      <td>...</td>\n",
              "      <td>...</td>\n",
              "      <td>...</td>\n",
              "      <td>...</td>\n",
              "      <td>...</td>\n",
              "      <td>...</td>\n",
              "      <td>...</td>\n",
              "      <td>...</td>\n",
              "      <td>...</td>\n",
              "      <td>...</td>\n",
              "      <td>...</td>\n",
              "      <td>...</td>\n",
              "      <td>...</td>\n",
              "    </tr>\n",
              "    <tr>\n",
              "      <th>193815</th>\n",
              "      <td>2016</td>\n",
              "      <td>1053096</td>\n",
              "      <td>1992948947</td>\n",
              "      <td>Anesthesiology</td>\n",
              "      <td>Y</td>\n",
              "      <td>72</td>\n",
              "      <td>433.0</td>\n",
              "      <td>316</td>\n",
              "      <td>273056.00</td>\n",
              "      <td>46047.02</td>\n",
              "      <td>...</td>\n",
              "      <td>NaN</td>\n",
              "      <td>NaN</td>\n",
              "      <td>NaN</td>\n",
              "      <td>NaN</td>\n",
              "      <td>NaN</td>\n",
              "      <td>NaN</td>\n",
              "      <td>NaN</td>\n",
              "      <td>NaN</td>\n",
              "      <td>NaN</td>\n",
              "      <td>XX</td>\n",
              "    </tr>\n",
              "    <tr>\n",
              "      <th>193817</th>\n",
              "      <td>2016</td>\n",
              "      <td>1053226</td>\n",
              "      <td>1992956494</td>\n",
              "      <td>Diagnostic Radiology</td>\n",
              "      <td>Y</td>\n",
              "      <td>66</td>\n",
              "      <td>1094.0</td>\n",
              "      <td>764</td>\n",
              "      <td>159546.48</td>\n",
              "      <td>39840.46</td>\n",
              "      <td>...</td>\n",
              "      <td>NaN</td>\n",
              "      <td>NaN</td>\n",
              "      <td>NaN</td>\n",
              "      <td>NaN</td>\n",
              "      <td>NaN</td>\n",
              "      <td>NaN</td>\n",
              "      <td>NaN</td>\n",
              "      <td>NaN</td>\n",
              "      <td>NaN</td>\n",
              "      <td>XX</td>\n",
              "    </tr>\n",
              "    <tr>\n",
              "      <th>193819</th>\n",
              "      <td>2016</td>\n",
              "      <td>1053254</td>\n",
              "      <td>1992958961</td>\n",
              "      <td>General Surgery</td>\n",
              "      <td>Y</td>\n",
              "      <td>77</td>\n",
              "      <td>492.0</td>\n",
              "      <td>185</td>\n",
              "      <td>314049.00</td>\n",
              "      <td>94268.94</td>\n",
              "      <td>...</td>\n",
              "      <td>NaN</td>\n",
              "      <td>NaN</td>\n",
              "      <td>NaN</td>\n",
              "      <td>NaN</td>\n",
              "      <td>NaN</td>\n",
              "      <td>NaN</td>\n",
              "      <td>NaN</td>\n",
              "      <td>NaN</td>\n",
              "      <td>NaN</td>\n",
              "      <td>XX</td>\n",
              "    </tr>\n",
              "    <tr>\n",
              "      <th>193833</th>\n",
              "      <td>2016</td>\n",
              "      <td>1053476</td>\n",
              "      <td>1992968473</td>\n",
              "      <td>Anesthesiology</td>\n",
              "      <td>Y</td>\n",
              "      <td>33</td>\n",
              "      <td>156.0</td>\n",
              "      <td>105</td>\n",
              "      <td>68201.67</td>\n",
              "      <td>14286.48</td>\n",
              "      <td>...</td>\n",
              "      <td>NaN</td>\n",
              "      <td>NaN</td>\n",
              "      <td>NaN</td>\n",
              "      <td>NaN</td>\n",
              "      <td>NaN</td>\n",
              "      <td>NaN</td>\n",
              "      <td>NaN</td>\n",
              "      <td>NaN</td>\n",
              "      <td>NaN</td>\n",
              "      <td>XX</td>\n",
              "    </tr>\n",
              "    <tr>\n",
              "      <th>193843</th>\n",
              "      <td>2016</td>\n",
              "      <td>1053631</td>\n",
              "      <td>1992977896</td>\n",
              "      <td>Allergy/ Immunology</td>\n",
              "      <td>Y</td>\n",
              "      <td>21</td>\n",
              "      <td>1527.0</td>\n",
              "      <td>91</td>\n",
              "      <td>46700.00</td>\n",
              "      <td>22482.05</td>\n",
              "      <td>...</td>\n",
              "      <td>NaN</td>\n",
              "      <td>NaN</td>\n",
              "      <td>NaN</td>\n",
              "      <td>NaN</td>\n",
              "      <td>NaN</td>\n",
              "      <td>NaN</td>\n",
              "      <td>NaN</td>\n",
              "      <td>NaN</td>\n",
              "      <td>NaN</td>\n",
              "      <td>XX</td>\n",
              "    </tr>\n",
              "  </tbody>\n",
              "</table>\n",
              "<p>24171 rows × 104 columns</p>\n",
              "</div>"
            ],
            "text/plain": [
              "        year      nbr         npi         provider_type  \\\n",
              "7       2014      145  1003009358            Cardiology   \n",
              "8       2014      170  1003010596        Otolaryngology   \n",
              "13      2014      272  1003013947    Orthopedic Surgery   \n",
              "15      2014      286  1003014705     Internal Medicine   \n",
              "22      2014      366  1003018177        Anesthesiology   \n",
              "...      ...      ...         ...                   ...   \n",
              "193815  2016  1053096  1992948947        Anesthesiology   \n",
              "193817  2016  1053226  1992956494  Diagnostic Radiology   \n",
              "193819  2016  1053254  1992958961       General Surgery   \n",
              "193833  2016  1053476  1992968473        Anesthesiology   \n",
              "193843  2016  1053631  1992977896   Allergy/ Immunology   \n",
              "\n",
              "       medicare_participation_indicator  number_of_hcpcs  total_services  \\\n",
              "7                                     Y               22           148.0   \n",
              "8                                     Y              119           885.0   \n",
              "13                                    Y               61           717.0   \n",
              "15                                    Y               19           628.0   \n",
              "22                                    Y               63           316.0   \n",
              "...                                 ...              ...             ...   \n",
              "193815                                Y               72           433.0   \n",
              "193817                                Y               66          1094.0   \n",
              "193819                                Y               77           492.0   \n",
              "193833                                Y               33           156.0   \n",
              "193843                                Y               21          1527.0   \n",
              "\n",
              "        total_unique_benes  total_submitted_chrg_amt  \\\n",
              "7                       87                  47651.00   \n",
              "8                      226                 663710.60   \n",
              "13                     188                 727936.00   \n",
              "15                     243                 112364.00   \n",
              "22                     263                 577296.11   \n",
              "...                    ...                       ...   \n",
              "193815                 316                 273056.00   \n",
              "193817                 764                 159546.48   \n",
              "193819                 185                 314049.00   \n",
              "193833                 105                  68201.67   \n",
              "193843                  91                  46700.00   \n",
              "\n",
              "        total_medicare_allowed_amt  ...  \\\n",
              "7                         17811.34  ...   \n",
              "8                        176771.04  ...   \n",
              "13                        69934.44  ...   \n",
              "15                        49147.73  ...   \n",
              "22                        50950.00  ...   \n",
              "...                            ...  ...   \n",
              "193815                    46047.02  ...   \n",
              "193817                    39840.46  ...   \n",
              "193819                    94268.94  ...   \n",
              "193833                    14286.48  ...   \n",
              "193843                    22482.05  ...   \n",
              "\n",
              "        Provider Business Practice Location Address Country Code (If outside U.S.)  \\\n",
              "7                                                     NaN                            \n",
              "8                                                     NaN                            \n",
              "13                                                    NaN                            \n",
              "15                                                    NaN                            \n",
              "22                                                    NaN                            \n",
              "...                                                   ...                            \n",
              "193815                                                NaN                            \n",
              "193817                                                NaN                            \n",
              "193819                                                NaN                            \n",
              "193833                                                NaN                            \n",
              "193843                                                NaN                            \n",
              "\n",
              "        Provider Business Practice Location Address Telephone Number  \\\n",
              "7                                                     NaN              \n",
              "8                                                     NaN              \n",
              "13                                                    NaN              \n",
              "15                                                    NaN              \n",
              "22                                                    NaN              \n",
              "...                                                   ...              \n",
              "193815                                                NaN              \n",
              "193817                                                NaN              \n",
              "193819                                                NaN              \n",
              "193833                                                NaN              \n",
              "193843                                                NaN              \n",
              "\n",
              "       Provider Business Practice Location Address Fax Number  \\\n",
              "7                                                     NaN       \n",
              "8                                                     NaN       \n",
              "13                                                    NaN       \n",
              "15                                                    NaN       \n",
              "22                                                    NaN       \n",
              "...                                                   ...       \n",
              "193815                                                NaN       \n",
              "193817                                                NaN       \n",
              "193819                                                NaN       \n",
              "193833                                                NaN       \n",
              "193843                                                NaN       \n",
              "\n",
              "        Provider Enumeration Date  Last Update Date  \\\n",
              "7                             NaN               NaN   \n",
              "8                             NaN               NaN   \n",
              "13                            NaN               NaN   \n",
              "15                            NaN               NaN   \n",
              "22                            NaN               NaN   \n",
              "...                           ...               ...   \n",
              "193815                        NaN               NaN   \n",
              "193817                        NaN               NaN   \n",
              "193819                        NaN               NaN   \n",
              "193833                        NaN               NaN   \n",
              "193843                        NaN               NaN   \n",
              "\n",
              "        NPI Deactivation Reason Code  NPI Deactivation Date  \\\n",
              "7                                NaN                    NaN   \n",
              "8                                NaN                    NaN   \n",
              "13                               NaN                    NaN   \n",
              "15                               NaN                    NaN   \n",
              "22                               NaN                    NaN   \n",
              "...                              ...                    ...   \n",
              "193815                           NaN                    NaN   \n",
              "193817                           NaN                    NaN   \n",
              "193819                           NaN                    NaN   \n",
              "193833                           NaN                    NaN   \n",
              "193843                           NaN                    NaN   \n",
              "\n",
              "        NPI Reactivation Date  Provider Gender Code  State  \n",
              "7                         NaN                   NaN     XX  \n",
              "8                         NaN                   NaN     XX  \n",
              "13                        NaN                   NaN     XX  \n",
              "15                        NaN                   NaN     XX  \n",
              "22                        NaN                   NaN     XX  \n",
              "...                       ...                   ...    ...  \n",
              "193815                    NaN                   NaN     XX  \n",
              "193817                    NaN                   NaN     XX  \n",
              "193819                    NaN                   NaN     XX  \n",
              "193833                    NaN                   NaN     XX  \n",
              "193843                    NaN                   NaN     XX  \n",
              "\n",
              "[24171 rows x 104 columns]"
            ]
          },
          "execution_count": 13,
          "metadata": {},
          "output_type": "execute_result"
        }
      ],
      "source": [
        "answer.query('State == \"XX\"')"
      ]
    },
    {
      "cell_type": "code",
      "execution_count": null,
      "metadata": {
        "id": "6Ll2n_qVmWgj",
        "outputId": "9d3d1f23-8fcf-4b30-a879-96fde5e91efc"
      },
      "outputs": [
        {
          "data": {
            "text/plain": [
              "Provider Business Mailing Address State Name\n",
              "IL    111520\n",
              "MO     53366\n",
              "WY      4805\n",
              "Name: NPI, dtype: int64"
            ]
          },
          "execution_count": 14,
          "metadata": {},
          "output_type": "execute_result"
        }
      ],
      "source": [
        "answer.groupby('Provider Business Mailing Address State Name').NPI.count()"
      ]
    },
    {
      "cell_type": "code",
      "execution_count": null,
      "metadata": {
        "id": "trT68QwnmWgj",
        "outputId": "3862e071-466e-4fe0-d2a6-3b3346a0a1e2"
      },
      "outputs": [
        {
          "data": {
            "text/plain": [
              "(193862, 104)"
            ]
          },
          "execution_count": 16,
          "metadata": {},
          "output_type": "execute_result"
        }
      ],
      "source": [
        "answer.shape"
      ]
    },
    {
      "cell_type": "code",
      "execution_count": null,
      "metadata": {
        "nbgrader": {
          "grade": true,
          "grade_id": "02-tests",
          "locked": true,
          "points": 5,
          "schema_version": 1,
          "solution": false
        },
        "id": "qZ-xOaiCmWgj"
      },
      "outputs": [],
      "source": [
        "import numpy\n",
        "# assert(answer.shape == (193862, 103))\n",
        "assert(list(answer['Provider Business Mailing Address State Name'].unique()) == ['IL','MO',numpy.nan,'WY'])\n",
        "assert(list(answer.groupby('Provider Business Mailing Address State Name').NPI.count()) == [111520, 53366, 4805])"
      ]
    },
    {
      "cell_type": "code",
      "execution_count": null,
      "metadata": {
        "id": "4OfwBg7nmWgk"
      },
      "outputs": [],
      "source": [
        "answer['Provider Business Mailing Address State Name'].unique()"
      ]
    },
    {
      "cell_type": "code",
      "execution_count": null,
      "metadata": {
        "id": "FylmXSw1mWgk"
      },
      "outputs": [],
      "source": [
        "answer.groupby('Provider Business Mailing Address State Name').NPI.count()"
      ]
    },
    {
      "cell_type": "markdown",
      "metadata": {
        "nbgrader": {
          "grade": false,
          "grade_id": "03-intro",
          "locked": true,
          "schema_version": 1,
          "solution": false
        },
        "id": "YBaooidImWgk"
      },
      "source": [
        "## Part 3\n",
        "\n",
        "If you did everything right above, you'll notice that grouping by a column with NaN in it will cause some rows to disappear from the aggregation test.  So, let's create a new column called `'State'` that has the same value as whatever is in the `'Provider Business Mailing Address State Name'` column or a value of `'XX'` if there is no state information.\n",
        "\n",
        "Set `answer` to be your final data frame with the new `'State'` column added."
      ]
    },
    {
      "cell_type": "code",
      "execution_count": null,
      "metadata": {
        "nbgrader": {
          "grade": false,
          "grade_id": "03-solution",
          "locked": false,
          "schema_version": 1,
          "solution": true
        },
        "id": "cJgpUPbOmWgk"
      },
      "outputs": [],
      "source": [
        "# We can fillna the state name and create a new column with the cleaned up state\n",
        "full['State'] = full['Provider Business Mailing Address State Name'].fillna('XX')\n",
        "\n",
        "answer = full\n",
        "### END SOLUTION"
      ]
    },
    {
      "cell_type": "code",
      "execution_count": null,
      "metadata": {
        "id": "IncBp-ZJmWgk"
      },
      "outputs": [],
      "source": [
        "answer.query(\"State == 'XX'\").head()"
      ]
    },
    {
      "cell_type": "code",
      "execution_count": null,
      "metadata": {
        "id": "0wjx5iJ4mWgk"
      },
      "outputs": [],
      "source": [
        "answer.groupby('State').npi.count()"
      ]
    },
    {
      "cell_type": "code",
      "execution_count": null,
      "metadata": {
        "nbgrader": {
          "grade": true,
          "grade_id": "03-tests",
          "locked": true,
          "points": 5,
          "schema_version": 1,
          "solution": false
        },
        "id": "ADRKqH-MmWgk"
      },
      "outputs": [],
      "source": [
        "assert(list(answer.groupby('State').npi.count()) == [111520, 53366, 4805, 24171])\n",
        "assert(answer.shape == (193862, 104))"
      ]
    },
    {
      "cell_type": "code",
      "execution_count": null,
      "metadata": {
        "id": "KKG5hePRmWgk"
      },
      "outputs": [],
      "source": [
        "answer.groupby('State').npi.count()"
      ]
    },
    {
      "cell_type": "markdown",
      "metadata": {
        "nbgrader": {
          "grade": false,
          "grade_id": "04-intro",
          "locked": true,
          "schema_version": 1,
          "solution": false
        },
        "id": "a1-9NxvAmWgk"
      },
      "source": [
        "## Part 4\n",
        "\n",
        "Next, let's summarize the data by year and by State.  Create a pivot table that contains one row for each state and one column for each year.  Within the pivot table, put a sum of total services as the values.\n",
        "\n",
        "Assign `answer` to be that resulting pivot table.  In the tests, I'm going to plot a bar chart of your pivot table."
      ]
    },
    {
      "cell_type": "code",
      "execution_count": null,
      "metadata": {
        "nbgrader": {
          "grade": false,
          "grade_id": "04-solution",
          "locked": false,
          "schema_version": 1,
          "solution": true
        },
        "id": "OGhiz5j6mWgk"
      },
      "outputs": [],
      "source": [
        "%matplotlib inline\n",
        "\n",
        "# And here, a simple pivot table to sum up the total services\n",
        "pivot = full.pivot_table(index='State', columns='year', values='total_services', aggfunc=np.sum)\n",
        "answer = pivot\n"
      ]
    },
    {
      "cell_type": "code",
      "execution_count": null,
      "metadata": {
        "id": "WDla4tFumWgk"
      },
      "outputs": [],
      "source": [
        "answer"
      ]
    },
    {
      "cell_type": "code",
      "execution_count": null,
      "metadata": {
        "nbgrader": {
          "grade": true,
          "grade_id": "04-tests",
          "locked": true,
          "points": 5,
          "schema_version": 1,
          "solution": false
        },
        "id": "5EOTv54mmWgk"
      },
      "outputs": [],
      "source": [
        "assert(answer.shape == (4,3))\n",
        "assert(answer.sum().sum() == 519185664.6999999)\n",
        "assert(answer[2016].sum() == 176596933.80000004)\n",
        "assert(answer.loc['WY'].sum() == 10892707.4)"
      ]
    },
    {
      "cell_type": "code",
      "execution_count": null,
      "metadata": {
        "id": "_hkIp17fmWgk"
      },
      "outputs": [],
      "source": [
        "%matplotlib inline\n",
        "answer.plot.bar()"
      ]
    },
    {
      "cell_type": "code",
      "execution_count": null,
      "metadata": {
        "id": "iNOg1j8emWgk"
      },
      "outputs": [],
      "source": [
        "answer.sum().sum()"
      ]
    },
    {
      "cell_type": "code",
      "execution_count": null,
      "metadata": {
        "id": "ED_s2ZCsmWgk"
      },
      "outputs": [],
      "source": []
    }
  ],
  "metadata": {
    "celltoolbar": "Create Assignment",
    "kernelspec": {
      "display_name": "Python 3",
      "language": "python",
      "name": "python3"
    },
    "language_info": {
      "codemirror_mode": {
        "name": "ipython",
        "version": 3
      },
      "file_extension": ".py",
      "mimetype": "text/x-python",
      "name": "python",
      "nbconvert_exporter": "python",
      "pygments_lexer": "ipython3",
      "version": "3.9.18"
    },
    "colab": {
      "provenance": []
    }
  },
  "nbformat": 4,
  "nbformat_minor": 0
}