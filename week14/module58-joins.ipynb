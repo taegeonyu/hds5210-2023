{
  "cells": [
    {
      "cell_type": "markdown",
      "metadata": {
        "id": "NG7PQqV9mAvC"
      },
      "source": [
        "# Relational Algebra (joins)\n",
        "\n",
        "There are a few different kinds of joins in relational algebra:\n",
        "* Inner\n",
        "* (Left / Right / Full) Outer\n",
        "* Cross Join"
      ]
    },
    {
      "cell_type": "code",
      "execution_count": null,
      "metadata": {
        "id": "hGx492sDmAvD"
      },
      "outputs": [],
      "source": [
        "import pandas as pd"
      ]
    },
    {
      "cell_type": "code",
      "execution_count": null,
      "metadata": {
        "id": "mZYWFzIImAvE"
      },
      "outputs": [],
      "source": [
        "employees = pd.read_csv('https://hds5210-data.s3.amazonaws.com/employees.csv')"
      ]
    },
    {
      "cell_type": "code",
      "execution_count": null,
      "metadata": {
        "id": "1OHN7-rbmAvE"
      },
      "outputs": [],
      "source": [
        "employees"
      ]
    },
    {
      "cell_type": "code",
      "execution_count": null,
      "metadata": {
        "id": "dCYr0flVmAvE"
      },
      "outputs": [],
      "source": [
        "departments = pd.read_csv('https://hds5210-data.s3.amazonaws.com/departments.csv')"
      ]
    },
    {
      "cell_type": "code",
      "execution_count": null,
      "metadata": {
        "id": "YLm0CtH1mAvE"
      },
      "outputs": [],
      "source": [
        "departments"
      ]
    },
    {
      "cell_type": "markdown",
      "metadata": {
        "id": "GsbVP8IkmAvE"
      },
      "source": [
        "## Join Departments and Employees\n",
        "\n",
        "Keeping all the Department names that show up in either set of data"
      ]
    },
    {
      "cell_type": "code",
      "execution_count": null,
      "metadata": {
        "id": "ammJZvDdmAvE"
      },
      "outputs": [],
      "source": [
        "total = departments.merge(employees, how='outer', left_on='Department', right_on='Department')"
      ]
    },
    {
      "cell_type": "code",
      "execution_count": null,
      "metadata": {
        "id": "b7EIJNMYmAvE"
      },
      "outputs": [],
      "source": [
        "total"
      ]
    },
    {
      "cell_type": "code",
      "execution_count": null,
      "metadata": {
        "id": "fcPzs0gJmAvE"
      },
      "outputs": [],
      "source": [
        "by_dept = total.groupby('Department')['Budget','ID'].agg({'ID':'count','Budget':'last'})"
      ]
    },
    {
      "cell_type": "code",
      "execution_count": null,
      "metadata": {
        "id": "N8vyoDbGmAvE"
      },
      "outputs": [],
      "source": [
        "by_dept"
      ]
    },
    {
      "cell_type": "code",
      "execution_count": null,
      "metadata": {
        "id": "Crr__sAsmAvE"
      },
      "outputs": [],
      "source": [
        "by_dept['PerPerson'] = by_dept['Budget'] / by_dept['ID']"
      ]
    },
    {
      "cell_type": "code",
      "execution_count": null,
      "metadata": {
        "id": "YZv8dzksmAvE"
      },
      "outputs": [],
      "source": [
        "by_dept"
      ]
    },
    {
      "cell_type": "markdown",
      "metadata": {
        "id": "FGEFuIOLmAvE"
      },
      "source": [
        "## Different than Left Outer Join\n",
        "\n",
        "With `left` and `right` joins, the meaning of those words is based on which side of the `merge()` function they are on.  In the examples below, `departments` is on the left and `employees` is on the right.\n",
        "\n",
        "Note that there is no `None` department in the departments file!  So, it doesn't show up in this version of the join."
      ]
    },
    {
      "cell_type": "code",
      "execution_count": null,
      "metadata": {
        "id": "nEA4OMkrmAvE"
      },
      "outputs": [],
      "source": [
        "departments.merge(employees, how='left')"
      ]
    },
    {
      "cell_type": "markdown",
      "metadata": {
        "id": "Ail9wxRJmAvE"
      },
      "source": [
        "Note that there is noone in the `Facilities` department, so it won't show up in a right join."
      ]
    },
    {
      "cell_type": "code",
      "execution_count": null,
      "metadata": {
        "id": "r4Kj4EYBmAvF"
      },
      "outputs": [],
      "source": [
        "departments.merge(employees, how='right')"
      ]
    },
    {
      "cell_type": "code",
      "execution_count": null,
      "metadata": {
        "id": "Z2cSY_A1mAvF"
      },
      "outputs": [],
      "source": [
        "departments.merge(employees, how='inner')"
      ]
    },
    {
      "cell_type": "markdown",
      "metadata": {
        "id": "GRDv30cJmAvF"
      },
      "source": [
        "# Recursion demonstrated"
      ]
    },
    {
      "cell_type": "code",
      "execution_count": null,
      "metadata": {
        "id": "2pb7L5s1mAvF"
      },
      "outputs": [],
      "source": [
        "def reverse(s):\n",
        "    print(\"I was called with '{}'\".format(s))\n",
        "    if len(s) <= 1:\n",
        "        print(\" Returning just {}\".format(s))\n",
        "        return s\n",
        "    else:\n",
        "        print(\" Concatenate '{}' with reverse('{}')\".format(s[-1],s[0:-1]))\n",
        "        return s[-1] + reverse(s[0:-1])"
      ]
    },
    {
      "cell_type": "code",
      "execution_count": null,
      "metadata": {
        "id": "e3BUlW0ImAvF"
      },
      "outputs": [],
      "source": [
        "reverse('hello')"
      ]
    },
    {
      "cell_type": "code",
      "execution_count": null,
      "metadata": {
        "id": "31zCDpZxmAvF"
      },
      "outputs": [],
      "source": [
        "reverse('h')"
      ]
    },
    {
      "cell_type": "markdown",
      "metadata": {
        "id": "xXflMPLkmAvF"
      },
      "source": [
        "# Getting the Supervisor\n",
        "\n",
        "We can actually join a data frame back to itself"
      ]
    },
    {
      "cell_type": "code",
      "execution_count": null,
      "metadata": {
        "id": "DwyUnXb3mAvF"
      },
      "outputs": [],
      "source": [
        "employees[['ID','Name','Title']].rename(index=str,\n",
        "      columns={'ID': 'SupervisorID', 'Name': 'SupervisorName', 'Title':'SupervisorTitle'})"
      ]
    },
    {
      "cell_type": "code",
      "execution_count": null,
      "metadata": {
        "id": "o_WE9bhRmAvF"
      },
      "outputs": [],
      "source": [
        "supervisors=employees[['ID','Name','Title']].rename(\n",
        "    index=str,\n",
        "    columns={'ID': 'SupervisorID', 'Name': 'SupervisorName', 'Title':'SupervisorTitle'})\n",
        "\n",
        "reports = employees.merge(\n",
        "    supervisors,\n",
        "    how='left',\n",
        "    left_on='SupervisorID',\n",
        "    right_on='SupervisorID')\n",
        "\n",
        "reports"
      ]
    },
    {
      "cell_type": "code",
      "execution_count": null,
      "metadata": {
        "id": "gkmBFySsmAvF"
      },
      "outputs": [],
      "source": [
        "reports.groupby('SupervisorName')['ID'].count()"
      ]
    },
    {
      "cell_type": "markdown",
      "metadata": {
        "id": "zAcLhfqKmAvF"
      },
      "source": [
        "## Recursion\n",
        "\n",
        "We can actually do this recursively if we want to!"
      ]
    },
    {
      "cell_type": "code",
      "execution_count": null,
      "metadata": {
        "id": "jPuOLsUvmAvF"
      },
      "outputs": [],
      "source": [
        "def get_all_reports(df, supervisor_id, level=1):\n",
        "    direct = df[df['SupervisorID'] == supervisor_id]\n",
        "    direct = direct.assign(Level=level)\n",
        "\n",
        "    if len(direct) == 0:\n",
        "        return direct\n",
        "    else:\n",
        "        subs = direct['ID']\n",
        "        for s in subs:\n",
        "            direct=pd.concat([direct,get_all_reports(df, s, level+1)])\n",
        "        return direct\n",
        ""
      ]
    },
    {
      "cell_type": "code",
      "execution_count": null,
      "metadata": {
        "id": "LgV2R6e5mAvF"
      },
      "outputs": [],
      "source": [
        "get_all_reports(employees, 18374)"
      ]
    },
    {
      "cell_type": "code",
      "execution_count": null,
      "metadata": {
        "id": "kd1j_dWCmAvF"
      },
      "outputs": [],
      "source": [
        "get_all_reports(employees, 8232)"
      ]
    },
    {
      "cell_type": "markdown",
      "metadata": {
        "id": "bN0qs9X3mAvF"
      },
      "source": [
        "# Cross Join or Cartesian Product\n",
        "\n",
        "The idea here it to create all possible combinations of rows from the two data frames.  There is no **key** to join on per se."
      ]
    },
    {
      "cell_type": "code",
      "execution_count": null,
      "metadata": {
        "id": "J3jKnOLumAvF"
      },
      "outputs": [],
      "source": [
        "genders = ['M','F','O','U']\n",
        "age_ranges = ['0-18', '19-64', '65-84', '85+']\n",
        "\n",
        "index = pd.MultiIndex.from_product([genders, age_ranges], names = [\"gender\", \"age_range\"])\n",
        "\n",
        "combinations = pd.DataFrame(index = index).reset_index()"
      ]
    },
    {
      "cell_type": "code",
      "execution_count": null,
      "metadata": {
        "id": "zYs1rHOVmAvF"
      },
      "outputs": [],
      "source": [
        "combinations"
      ]
    },
    {
      "cell_type": "code",
      "execution_count": null,
      "metadata": {
        "id": "0tPKGz8TmAvF"
      },
      "outputs": [],
      "source": []
    },
    {
      "cell_type": "code",
      "execution_count": null,
      "metadata": {
        "id": "7hFveny1mAvF"
      },
      "outputs": [],
      "source": []
    }
  ],
  "metadata": {
    "kernelspec": {
      "display_name": "Python 3",
      "language": "python",
      "name": "python3"
    },
    "language_info": {
      "codemirror_mode": {
        "name": "ipython",
        "version": 3
      },
      "file_extension": ".py",
      "mimetype": "text/x-python",
      "name": "python",
      "nbconvert_exporter": "python",
      "pygments_lexer": "ipython3",
      "version": "3.9.18"
    },
    "colab": {
      "provenance": []
    }
  },
  "nbformat": 4,
  "nbformat_minor": 0
}