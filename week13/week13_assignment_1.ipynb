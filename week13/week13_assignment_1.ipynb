{
  "cells": [
    {
      "cell_type": "markdown",
      "metadata": {
        "nbgrader": {
          "grade": false,
          "grade_id": "cell-fc1c39d0d6f8b82a",
          "locked": true,
          "schema_version": 1,
          "solution": false
        },
        "id": "_OXvHGEFc_mC"
      },
      "source": [
        "# Week 13 Review Assignmnet\n",
        "\n",
        "For the questions below, we're going to refer exclusively to an HHCAPS survey data set that is available in `/data/hhcaps.csv`.  Use whatever commands you want to calculate the information required to get to the answer.  Then, enter your answer in the answers cell as usual.\n",
        "\n",
        "**NOTE: Enter your answers as string values (inside quotation marks \"\") even if the answer is actually numeric.**\n",
        "\n",
        "---\n",
        "---\n"
      ]
    },
    {
      "cell_type": "code",
      "execution_count": 1,
      "metadata": {
        "nbgrader": {
          "grade": false,
          "grade_id": "intro",
          "locked": true,
          "schema_version": 1,
          "solution": false
        },
        "id": "ekeHCRm4c_mE"
      },
      "outputs": [],
      "source": [
        "%matplotlib inline\n",
        "import pandas as pd\n",
        "\n",
        "hhcaps = pd.read_csv('https://hds5210-data.s3.amazonaws.com/hhcaps.csv')"
      ]
    },
    {
      "cell_type": "markdown",
      "metadata": {
        "nbgrader": {
          "grade": false,
          "grade_id": "q01-intro",
          "locked": true,
          "schema_version": 1,
          "solution": false
        },
        "id": "DfojG2BMc_mF"
      },
      "source": [
        "## #01 -\n",
        "\n",
        "How many columns does this file contain?"
      ]
    },
    {
      "cell_type": "code",
      "execution_count": 2,
      "metadata": {
        "id": "j8zyJaDEc_mF"
      },
      "outputs": [],
      "source": [
        "# Write some code to figure it out\n",
        "column_count = len(hhcaps.columns)"
      ]
    },
    {
      "cell_type": "code",
      "execution_count": 3,
      "metadata": {
        "id": "BSPhp96jc_mF",
        "outputId": "37439518-6208-4d86-febd-51d7d16d5c1a",
        "colab": {
          "base_uri": "https://localhost:8080/"
        }
      },
      "outputs": [
        {
          "output_type": "execute_result",
          "data": {
            "text/plain": [
              "int"
            ]
          },
          "metadata": {},
          "execution_count": 3
        }
      ],
      "source": [
        "type(column_count)"
      ]
    },
    {
      "cell_type": "code",
      "execution_count": 4,
      "metadata": {
        "nbgrader": {
          "grade": false,
          "grade_id": "q01-solution",
          "locked": false,
          "schema_version": 1,
          "solution": true
        },
        "id": "cxoR7dqdc_mF"
      },
      "outputs": [],
      "source": [
        "answers={}\n",
        "answers['39'] = column_count"
      ]
    },
    {
      "cell_type": "markdown",
      "metadata": {
        "nbgrader": {
          "grade": false,
          "grade_id": "q02-intro",
          "locked": true,
          "schema_version": 1,
          "solution": false
        },
        "id": "K-cikhdec_mG"
      },
      "source": [
        "## #02 -\n",
        "\n",
        "How many different values for State are there in this file?"
      ]
    },
    {
      "cell_type": "code",
      "source": [
        "hhcaps.info()"
      ],
      "metadata": {
        "id": "VB5TyXnIeyOi",
        "outputId": "b5e2910b-5d60-424d-ecbb-65e270c6ca6f",
        "colab": {
          "base_uri": "https://localhost:8080/"
        }
      },
      "execution_count": 5,
      "outputs": [
        {
          "output_type": "stream",
          "name": "stdout",
          "text": [
            "<class 'pandas.core.frame.DataFrame'>\n",
            "RangeIndex: 12000 entries, 0 to 11999\n",
            "Data columns (total 39 columns):\n",
            " #   Column                                                                                                                             Non-Null Count  Dtype  \n",
            "---  ------                                                                                                                             --------------  -----  \n",
            " 0   State                                                                                                                              12000 non-null  object \n",
            " 1   CMS Certification Number (CCN)*                                                                                                    12000 non-null  int64  \n",
            " 2   Provider Name                                                                                                                      12000 non-null  object \n",
            " 3   Address                                                                                                                            12000 non-null  object \n",
            " 4   City                                                                                                                               12000 non-null  object \n",
            " 5   Zip                                                                                                                                12000 non-null  int64  \n",
            " 6   Phone                                                                                                                              12000 non-null  int64  \n",
            " 7   Type of Ownership                                                                                                                  12000 non-null  object \n",
            " 8   Offers Nursing Care Services                                                                                                       12000 non-null  bool   \n",
            " 9   Offers Physical Therapy Services                                                                                                   12000 non-null  bool   \n",
            " 10  Offers Occupational Therapy Services                                                                                               12000 non-null  bool   \n",
            " 11  Offers Speech Pathology Services                                                                                                   12000 non-null  bool   \n",
            " 12  Offers Medical Social Services                                                                                                     12000 non-null  bool   \n",
            " 13  Offers Home Health Aide Services                                                                                                   12000 non-null  bool   \n",
            " 14  Date Certified                                                                                                                     12000 non-null  object \n",
            " 15  HHCAHPS Survey Summary Star Rating                                                                                                 5753 non-null   float64\n",
            " 16  Footnote HHCAHPS Survey Summary Star Rating                                                                                        8429 non-null   object \n",
            " 17  Star Rating for health team gave care in a professional way                                                                        5753 non-null   float64\n",
            " 18  Footnote for Star Rating for gave care in a professional way                                                                       8429 non-null   object \n",
            " 19  Percent of patients who reported that their home health team gave care in a professional way                                       12000 non-null  object \n",
            " 20  Footnote for percent of patients who reported that their home health team gave care in a professional way                          8429 non-null   object \n",
            " 21  Star Rating for health team communicated well with them                                                                            5753 non-null   float64\n",
            " 22  Footnote for Star Rating for communicated well with them                                                                           8429 non-null   object \n",
            " 23  Percent of patients who reported that their home health team communicated well with them                                           12000 non-null  object \n",
            " 24  Footnote for percent of patients who reported that their home health team communicated well with them                              8429 non-null   object \n",
            " 25  Star Rating team discussed medicines, pain, and home safety                                                                        5753 non-null   float64\n",
            " 26  Footnote Star Rating discussed medicines, pain, home safety                                                                        8429 non-null   object \n",
            " 27  Percent of patients who reported that their home health team discussed medicines, pain, and home safety with them                  12000 non-null  object \n",
            " 28  Footnote for percent of patients who reported that their home health team discussed medicines, pain, and home safety with them     8429 non-null   object \n",
            " 29  Star Rating for how patients rated overall care from agency                                                                        5753 non-null   float64\n",
            " 30  Footnote for Star Rating for overall care from agency                                                                              8429 non-null   object \n",
            " 31  Percent of patients who gave their home health agency a rating of 9 or 10 on a scale from 0 (lowest) to 10 (highest)               12000 non-null  object \n",
            " 32  Footnote for percent of patients who gave their home health agency a rating of 9 or 10 on a scale from 0 (lowest) to 10 (highest)  8429 non-null   object \n",
            " 33  Percent of patients who reported YES, they would definitely recommend the home health agency to friends and family                 12000 non-null  object \n",
            " 34  Footnote for percent of patients who reported YES, they would definitely recommend the home health agency to friends and family    8429 non-null   object \n",
            " 35  Number of completed Surveys                                                                                                        12000 non-null  object \n",
            " 36  Footnote for number of completed surveys                                                                                           8429 non-null   object \n",
            " 37  Response rate                                                                                                                      12000 non-null  object \n",
            " 38  Footnote for response rate                                                                                                         8429 non-null   object \n",
            "dtypes: bool(6), float64(5), int64(3), object(25)\n",
            "memory usage: 3.1+ MB\n"
          ]
        }
      ]
    },
    {
      "cell_type": "code",
      "execution_count": 6,
      "metadata": {
        "id": "IYaIN_eKc_mG",
        "outputId": "0dc556a1-012a-4b46-92d0-7c4aad61585d",
        "colab": {
          "base_uri": "https://localhost:8080/"
        }
      },
      "outputs": [
        {
          "output_type": "execute_result",
          "data": {
            "text/plain": [
              "int"
            ]
          },
          "metadata": {},
          "execution_count": 6
        }
      ],
      "source": [
        "unique_state = len(hhcaps['State'].unique())\n",
        "type(unique_state)"
      ]
    },
    {
      "cell_type": "code",
      "execution_count": 7,
      "metadata": {
        "nbgrader": {
          "grade": false,
          "grade_id": "q02-solution",
          "locked": false,
          "schema_version": 1,
          "solution": true
        },
        "id": "J1dhAHfTc_mG"
      },
      "outputs": [],
      "source": [
        "answers['40.2'] = \"55\""
      ]
    },
    {
      "cell_type": "markdown",
      "metadata": {
        "nbgrader": {
          "grade": false,
          "grade_id": "q03-intro",
          "locked": true,
          "schema_version": 1,
          "solution": false
        },
        "id": "RyMZb-VGc_mG"
      },
      "source": [
        "## #03 -\n",
        "\n",
        "Which of those State values has the highest frequency of occurence?"
      ]
    },
    {
      "cell_type": "code",
      "execution_count": 8,
      "metadata": {
        "id": "v4jgHXfgc_mG",
        "outputId": "bef953a7-1923-4f32-9f6f-7b13f11bcb61",
        "colab": {
          "base_uri": "https://localhost:8080/"
        }
      },
      "outputs": [
        {
          "output_type": "execute_result",
          "data": {
            "text/plain": [
              "str"
            ]
          },
          "metadata": {},
          "execution_count": 8
        }
      ],
      "source": [
        "highest_frequency = hhcaps['State'].value_counts()\n",
        "highest_frequency = highest_frequency.idxmax()\n",
        "\n",
        "type(highest_frequency)"
      ]
    },
    {
      "cell_type": "code",
      "execution_count": 9,
      "metadata": {
        "nbgrader": {
          "grade": true,
          "grade_id": "q03-test",
          "locked": true,
          "points": 2,
          "schema_version": 1,
          "solution": false
        },
        "id": "H0rPKA69c_mG"
      },
      "outputs": [],
      "source": [
        "answers['40.3'] = \"TX\""
      ]
    },
    {
      "cell_type": "markdown",
      "metadata": {
        "nbgrader": {
          "grade": false,
          "grade_id": "q04-intro",
          "locked": true,
          "schema_version": 1,
          "solution": false
        },
        "id": "AAnElqBVc_mG"
      },
      "source": [
        "## #04 -\n",
        "\n",
        "Which of those State values has the best average performance on the `Star Rating for health team communicated well with them` score?"
      ]
    },
    {
      "cell_type": "code",
      "execution_count": 10,
      "metadata": {
        "nbgrader": {
          "grade": false,
          "grade_id": "q04-solution",
          "locked": false,
          "schema_version": 1,
          "solution": true
        },
        "id": "Unb2uw1Rc_mG",
        "outputId": "3da2d970-5af9-4d4d-a1c1-2d0e4f12a509",
        "colab": {
          "base_uri": "https://localhost:8080/"
        }
      },
      "outputs": [
        {
          "output_type": "execute_result",
          "data": {
            "text/plain": [
              "0        NaN\n",
              "1        4.0\n",
              "2        4.0\n",
              "3        5.0\n",
              "4        5.0\n",
              "        ... \n",
              "11995    NaN\n",
              "11996    NaN\n",
              "11997    NaN\n",
              "11998    NaN\n",
              "11999    NaN\n",
              "Name: Star Rating for health team communicated well with them, Length: 12000, dtype: float64"
            ]
          },
          "metadata": {},
          "execution_count": 10
        }
      ],
      "source": [
        "hhcaps['Star Rating for health team communicated well with them']"
      ]
    },
    {
      "cell_type": "code",
      "source": [
        "score_average = hhcaps.groupby('State')['Star Rating for health team communicated well with them'].mean()\n",
        "best_state = score_average.idxmax()\n",
        "type(best_state)"
      ],
      "metadata": {
        "id": "In0ev8aH0Tfy",
        "outputId": "b18f5dba-c0ed-4d0e-e533-2818a58c22f2",
        "colab": {
          "base_uri": "https://localhost:8080/"
        }
      },
      "execution_count": 11,
      "outputs": [
        {
          "output_type": "execute_result",
          "data": {
            "text/plain": [
              "str"
            ]
          },
          "metadata": {},
          "execution_count": 11
        }
      ]
    },
    {
      "cell_type": "code",
      "execution_count": 12,
      "metadata": {
        "nbgrader": {
          "grade": true,
          "grade_id": "q04-test",
          "locked": true,
          "points": 2,
          "schema_version": 1,
          "solution": false
        },
        "id": "txTmpX2vc_mH"
      },
      "outputs": [],
      "source": [
        "answers['40.4'] = \"ME\""
      ]
    },
    {
      "cell_type": "markdown",
      "metadata": {
        "nbgrader": {
          "grade": false,
          "grade_id": "q05-intro",
          "locked": true,
          "schema_version": 1,
          "solution": false
        },
        "id": "Ni5cIj4ic_mH"
      },
      "source": [
        "## #05 -\n",
        "\n",
        "What was the average score on `Star Rating for how patients rated overall care from agency` for providers listed as having a `Type of Ownership` of `Hospital Based Program`\n",
        "\n",
        "**NOTE: Enter your answer with two decimal precision: 0.00**"
      ]
    },
    {
      "cell_type": "code",
      "execution_count": 13,
      "metadata": {
        "nbgrader": {
          "grade": false,
          "grade_id": "q05-solution",
          "locked": false,
          "schema_version": 1,
          "solution": true
        },
        "id": "cUArgZRkc_mH",
        "outputId": "811cc269-26b4-4c1c-9c75-d997437b7ea4",
        "colab": {
          "base_uri": "https://localhost:8080/"
        }
      },
      "outputs": [
        {
          "output_type": "execute_result",
          "data": {
            "text/plain": [
              "numpy.float64"
            ]
          },
          "metadata": {},
          "execution_count": 13
        }
      ],
      "source": [
        "providers_listed = hhcaps[hhcaps['Type of Ownership'] == 'Hospital Based Program']\n",
        "average_score = providers_listed['Star Rating for how patients rated overall care from agency'].mean()\n",
        "type(round(average_score, 2))"
      ]
    },
    {
      "cell_type": "code",
      "execution_count": 14,
      "metadata": {
        "nbgrader": {
          "grade": true,
          "grade_id": "q05-test",
          "locked": true,
          "points": 2,
          "schema_version": 1,
          "solution": false
        },
        "id": "AzSJ0ezqc_mH"
      },
      "outputs": [],
      "source": [
        "answers['40.5'] = \"3.69\""
      ]
    },
    {
      "cell_type": "markdown",
      "metadata": {
        "id": "8XNwS8P3c_mH"
      },
      "source": [
        "---\n",
        "\n",
        "Checking Your Work\n",
        "---\n",
        "\n",
        "After completing your work above and running each cell, you can check your answers by running the code below.\n",
        "\n",
        "The easiest way to do this is to use the `Kernel` -> `Restart Kernel and Run All Cells` menu option. This option restarts Python and runs every cell from top to bottom until it encounters an exception of some kind.  It will stop after running the cell below and outputing a summary of how many answers you have correct or incorrect.\n"
      ]
    },
    {
      "cell_type": "code",
      "execution_count": 15,
      "metadata": {
        "id": "Uo0LSn0Ec_mH",
        "outputId": "a3663efd-97d2-441b-8182-ec3a650508b7",
        "colab": {
          "base_uri": "https://localhost:8080/",
          "height": 607
        }
      },
      "outputs": [
        {
          "output_type": "stream",
          "name": "stdout",
          "text": [
            "Collecting boto3\n",
            "  Downloading boto3-1.33.0-py3-none-any.whl (139 kB)\n",
            "\u001b[2K     \u001b[90m━━━━━━━━━━━━━━━━━━━━━━━━━━━━━━━━━━━━━━━━\u001b[0m \u001b[32m139.2/139.2 kB\u001b[0m \u001b[31m2.5 MB/s\u001b[0m eta \u001b[36m0:00:00\u001b[0m\n",
            "\u001b[?25hCollecting botocore<1.34.0,>=1.33.0 (from boto3)\n",
            "  Downloading botocore-1.33.0-py3-none-any.whl (11.6 MB)\n",
            "\u001b[2K     \u001b[90m━━━━━━━━━━━━━━━━━━━━━━━━━━━━━━━━━━━━━━━━\u001b[0m \u001b[32m11.6/11.6 MB\u001b[0m \u001b[31m39.3 MB/s\u001b[0m eta \u001b[36m0:00:00\u001b[0m\n",
            "\u001b[?25hCollecting jmespath<2.0.0,>=0.7.1 (from boto3)\n",
            "  Downloading jmespath-1.0.1-py3-none-any.whl (20 kB)\n",
            "Collecting s3transfer<0.9.0,>=0.8.0 (from boto3)\n",
            "  Downloading s3transfer-0.8.0-py3-none-any.whl (81 kB)\n",
            "\u001b[2K     \u001b[90m━━━━━━━━━━━━━━━━━━━━━━━━━━━━━━━━━━━━━━━━\u001b[0m \u001b[32m81.8/81.8 kB\u001b[0m \u001b[31m12.8 MB/s\u001b[0m eta \u001b[36m0:00:00\u001b[0m\n",
            "\u001b[?25hRequirement already satisfied: python-dateutil<3.0.0,>=2.1 in /usr/local/lib/python3.10/dist-packages (from botocore<1.34.0,>=1.33.0->boto3) (2.8.2)\n",
            "Requirement already satisfied: urllib3<2.1,>=1.25.4 in /usr/local/lib/python3.10/dist-packages (from botocore<1.34.0,>=1.33.0->boto3) (2.0.7)\n",
            "Requirement already satisfied: six>=1.5 in /usr/local/lib/python3.10/dist-packages (from python-dateutil<3.0.0,>=2.1->botocore<1.34.0,>=1.33.0->boto3) (1.16.0)\n",
            "Installing collected packages: jmespath, botocore, s3transfer, boto3\n",
            "Successfully installed boto3-1.33.0 botocore-1.33.0 jmespath-1.0.1 s3transfer-0.8.0\n",
            "=============================================\n",
            "== RESULTS for tyu0053@slu.edu\n",
            "=============================================\n",
            "   Q#               Yours  Correct?\n"
          ]
        },
        {
          "output_type": "error",
          "ename": "TypeError",
          "evalue": "ignored",
          "traceback": [
            "\u001b[0;31m---------------------------------------------------------------------------\u001b[0m",
            "\u001b[0;31mTypeError\u001b[0m                                 Traceback (most recent call last)",
            "\u001b[0;32m<ipython-input-15-0509c4eb3c3b>\u001b[0m in \u001b[0;36m<cell line: 6>\u001b[0;34m()\u001b[0m\n\u001b[1;32m      4\u001b[0m     \u001b[0;32mimport\u001b[0m \u001b[0mchecker\u001b[0m\u001b[0;34m\u001b[0m\u001b[0;34m\u001b[0m\u001b[0m\n\u001b[1;32m      5\u001b[0m \u001b[0;34m\u001b[0m\u001b[0m\n\u001b[0;32m----> 6\u001b[0;31m \u001b[0mchecker\u001b[0m\u001b[0;34m.\u001b[0m\u001b[0mcheck_hds5210\u001b[0m\u001b[0;34m(\u001b[0m\u001b[0manswers\u001b[0m\u001b[0;34m,\u001b[0m \u001b[0;34m'week13'\u001b[0m\u001b[0;34m)\u001b[0m\u001b[0;34m\u001b[0m\u001b[0;34m\u001b[0m\u001b[0m\n\u001b[0m",
            "\u001b[0;32mhttps://gist.githubusercontent.com/paulboal/f14bead2d24fcb9499f4de4607908824/raw/4c3c0e75ea1510bb090bada047372954160e64d4/checker.py\u001b[0m in \u001b[0;36mcheck_hds5210\u001b[0;34m(answers, week)\u001b[0m\n",
            "\u001b[0;31mTypeError\u001b[0m: 'NoneType' object is not iterable"
          ]
        }
      ],
      "source": [
        "!pip install boto3\n",
        "import httpimport\n",
        "with httpimport.remote_repo('https://gist.githubusercontent.com/paulboal/f14bead2d24fcb9499f4de4607908824/raw/4c3c0e75ea1510bb090bada047372954160e64d4'):\n",
        "    import checker\n",
        "\n",
        "checker.check_hds5210(answers, 'week13')"
      ]
    },
    {
      "cell_type": "markdown",
      "metadata": {
        "id": "oDMRAwd0c_mH"
      },
      "source": [
        "---\n",
        "\n",
        "## Check your work above\n",
        "\n",
        "If you didn't get them all correct, take a few minutes to think through those that aren't correct.\n",
        "\n",
        "\n",
        "## Submitting Your Work\n",
        "\n",
        "In order to submit your work, you'll need to save this notebook file back to GitHub.  To do that in Google Colab:\n",
        "1. File -> Save a Copy in GitHub\n",
        "2. Make sure your HDS5210 repository is selected\n",
        "3. Make sure the file name includes the week number like this: `week02/week02_assignment_1.ipynb`\n",
        "4. Add a commit message that means something\n",
        "\n",
        "**Be sure week names are lowercase and use a two digit week number!!**\n",
        "\n",
        "**Be sure you use the same file name provided by the instructor!!**\n",
        "\n"
      ]
    }
  ],
  "metadata": {
    "celltoolbar": "Create Assignment",
    "kernelspec": {
      "display_name": "Python 3",
      "language": "python",
      "name": "python3"
    },
    "language_info": {
      "codemirror_mode": {
        "name": "ipython",
        "version": 3
      },
      "file_extension": ".py",
      "mimetype": "text/x-python",
      "name": "python",
      "nbconvert_exporter": "python",
      "pygments_lexer": "ipython3",
      "version": "3.6.7"
    },
    "colab": {
      "provenance": []
    }
  },
  "nbformat": 4,
  "nbformat_minor": 0
}