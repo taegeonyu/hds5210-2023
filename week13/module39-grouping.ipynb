{
  "cells": [
    {
      "cell_type": "code",
      "execution_count": null,
      "metadata": {
        "id": "dPIbdcUnkjRH"
      },
      "outputs": [],
      "source": [
        "import pandas as pd\n",
        "liver = pd.read_csv('https://hds5210-data.s3.amazonaws.com/indian_liver_patient.csv')"
      ]
    },
    {
      "cell_type": "markdown",
      "metadata": {
        "id": "l9uO6u2YkjRI"
      },
      "source": [
        "# Single Grouping Field"
      ]
    },
    {
      "cell_type": "code",
      "execution_count": null,
      "metadata": {
        "id": "qSSruwtmkjRI"
      },
      "outputs": [],
      "source": [
        "liver.groupby(\"Gender\").count()"
      ]
    },
    {
      "cell_type": "code",
      "execution_count": null,
      "metadata": {
        "id": "V7INpctpkjRI"
      },
      "outputs": [],
      "source": [
        "liver.groupby(\"Gender\").count().reset_index()"
      ]
    },
    {
      "cell_type": "code",
      "execution_count": null,
      "metadata": {
        "id": "x-bq4IF9kjRI"
      },
      "outputs": [],
      "source": [
        "liver.groupby(\"Gender\", as_index=False).count()"
      ]
    },
    {
      "cell_type": "markdown",
      "metadata": {
        "id": "7-aelABNkjRI"
      },
      "source": [
        "# Grouping by Multiple Fields at Once"
      ]
    },
    {
      "cell_type": "code",
      "execution_count": null,
      "metadata": {
        "scrolled": true,
        "id": "8zACNT9nkjRI"
      },
      "outputs": [],
      "source": [
        "liver.groupby([\"Gender\",\"Age\"], as_index=False).count()"
      ]
    },
    {
      "cell_type": "markdown",
      "metadata": {
        "id": "ixUSGWKUkjRI"
      },
      "source": [
        "# Common Custom Grouping Procedure\n",
        "\n",
        "1. Create the new field you want to group by\n",
        "2. Group by"
      ]
    },
    {
      "cell_type": "code",
      "execution_count": null,
      "metadata": {
        "id": "MKuGSH_lkjRJ"
      },
      "outputs": [],
      "source": [
        "liver[\"Decade\"] = liver[\"Age\"] // 10"
      ]
    },
    {
      "cell_type": "code",
      "execution_count": null,
      "metadata": {
        "id": "8OK4fBKikjRJ"
      },
      "outputs": [],
      "source": [
        "liver.groupby(\"Decade\").count()"
      ]
    },
    {
      "cell_type": "markdown",
      "metadata": {
        "id": "C9_BVXdekjRJ"
      },
      "source": [
        "# Custom Age Buckets\n",
        "\n",
        "0-18, 19-44, 45-64, 65-84, and 85\n",
        "\n",
        "1. Create a function that generates the grouping buckets you need\n",
        "2. Set your input field to be the data frame index\n",
        "3. Create a groupby using your custom function"
      ]
    },
    {
      "cell_type": "code",
      "execution_count": null,
      "metadata": {
        "id": "HyepAYkZkjRJ"
      },
      "outputs": [],
      "source": [
        "# 1. Create a function to generate teh grouping buckets\n",
        "#    Note that the labels here are prefixed with a letter to make them more easily sortable.\n",
        "#    There's also an \"unknown\" that sorts at the bottom as Z\n",
        "\n",
        "def cms_ages(age):\n",
        "    ranges = [\n",
        "        {'min': 0,  'max': 18,  'label': 'A.  0-18'},\n",
        "        {'min': 19, 'max': 44,  'label': 'B. 19-44'},\n",
        "        {'min': 45, 'max': 64,  'label': 'C. 45-64'},\n",
        "        {'min': 65, 'max': 84,  'label': 'D. 65-84'},\n",
        "        {'min': 85, 'max': 999, 'label': 'E. 85-up'}\n",
        "    ]\n",
        "\n",
        "    for r in ranges:\n",
        "        if age >= r.get('min') and age <= r.get('max'):\n",
        "            return r.get('label')\n",
        "\n",
        "    return 'Z. Unknown'"
      ]
    },
    {
      "cell_type": "code",
      "execution_count": null,
      "metadata": {
        "id": "izAGvA0IkjRJ"
      },
      "outputs": [],
      "source": [
        "liver.head()"
      ]
    },
    {
      "cell_type": "code",
      "execution_count": null,
      "metadata": {
        "id": "6M3vO2J1kjRJ"
      },
      "outputs": [],
      "source": [
        "liver.set_index('Age').head()"
      ]
    },
    {
      "cell_type": "code",
      "execution_count": null,
      "metadata": {
        "id": "EhVPLMadkjRJ"
      },
      "outputs": [],
      "source": [
        "by_cms_age = liver.set_index(\"Age\").groupby(cms_ages)"
      ]
    },
    {
      "cell_type": "code",
      "execution_count": null,
      "metadata": {
        "id": "qrBoID4dkjRJ"
      },
      "outputs": [],
      "source": [
        "by_cms_age.count().reset_index()"
      ]
    },
    {
      "cell_type": "code",
      "execution_count": null,
      "metadata": {
        "id": "hkP2DBDpkjRJ"
      },
      "outputs": [],
      "source": []
    },
    {
      "cell_type": "markdown",
      "metadata": {
        "id": "ckqkozotkjRJ"
      },
      "source": [
        "# Using a Categorical Series\n",
        "\n",
        "Categories are a special data type that has a defined domain...  \"Gender is always Male, Female, or Unknown\""
      ]
    },
    {
      "cell_type": "code",
      "execution_count": null,
      "metadata": {
        "id": "o9jSLD8dkjRJ"
      },
      "outputs": [],
      "source": [
        "gender_type = pd.CategoricalDtype(categories=[\"Famail\",\"Male\",\"Unknown\"], ordered=True)"
      ]
    },
    {
      "cell_type": "code",
      "execution_count": null,
      "metadata": {
        "id": "YGjDcz6pkjRJ"
      },
      "outputs": [],
      "source": [
        "liver = pd.read_csv('/data/indian_liver_patient.csv')"
      ]
    },
    {
      "cell_type": "code",
      "execution_count": null,
      "metadata": {
        "scrolled": true,
        "id": "lHf8VuVDkjRJ"
      },
      "outputs": [],
      "source": [
        "liver[\"Gender\"] = liver[\"Gender\"].astype(gender_type)"
      ]
    },
    {
      "cell_type": "code",
      "execution_count": null,
      "metadata": {
        "id": "Pow7SyyvkjRJ"
      },
      "outputs": [],
      "source": [
        "liver.head()"
      ]
    },
    {
      "cell_type": "code",
      "execution_count": null,
      "metadata": {
        "id": "ka4YNhJPkjRJ"
      },
      "outputs": [],
      "source": [
        "liver.count()"
      ]
    },
    {
      "cell_type": "code",
      "execution_count": null,
      "metadata": {
        "scrolled": true,
        "id": "5NYJhYZ7kjRJ"
      },
      "outputs": [],
      "source": [
        "liver.fillna('Unknown', inplace=True)"
      ]
    },
    {
      "cell_type": "code",
      "execution_count": null,
      "metadata": {
        "id": "ITcDAeArkjRJ"
      },
      "outputs": [],
      "source": [
        "liver.groupby(\"Gender\", observed=False).count()"
      ]
    },
    {
      "cell_type": "markdown",
      "metadata": {
        "id": "TW0ykgUqkjRK"
      },
      "source": [
        "# Grouping DateTime Fields\n"
      ]
    },
    {
      "cell_type": "code",
      "execution_count": null,
      "metadata": {
        "id": "bM8sWneAkjRK"
      },
      "outputs": [],
      "source": [
        "condemnations = pd.read_csv('/data/condemn.txt')"
      ]
    },
    {
      "cell_type": "code",
      "execution_count": null,
      "metadata": {
        "id": "Xi7F0mzHkjRK"
      },
      "outputs": [],
      "source": [
        "condemnations.columns"
      ]
    },
    {
      "cell_type": "code",
      "execution_count": null,
      "metadata": {
        "id": "JY37jWudkjRK"
      },
      "outputs": [],
      "source": [
        "condemnations[\"InspectDate\"].head()"
      ]
    },
    {
      "cell_type": "code",
      "execution_count": null,
      "metadata": {
        "id": "VXDbA6bCkjRK"
      },
      "outputs": [],
      "source": [
        "condemn = condemnations[[\"InspectDate\",\"Status\"]]"
      ]
    },
    {
      "cell_type": "code",
      "execution_count": null,
      "metadata": {
        "id": "IzwBDyvSkjRK"
      },
      "outputs": [],
      "source": [
        "condemn['InspectDate'] = pd.to_datetime(condemn['InspectDate'].astype(str), format='%Y-%m-%d')"
      ]
    },
    {
      "cell_type": "code",
      "execution_count": null,
      "metadata": {
        "id": "5dFGeG35kjRK"
      },
      "outputs": [],
      "source": [
        "condemn.head()"
      ]
    },
    {
      "cell_type": "code",
      "execution_count": null,
      "metadata": {
        "id": "E_TBswKdkjRK"
      },
      "outputs": [],
      "source": [
        "by_year = condemn.groupby(pd.Grouper(key=\"InspectDate\", freq='Y'))"
      ]
    },
    {
      "cell_type": "code",
      "execution_count": null,
      "metadata": {
        "id": "1TYqlHh2kjRK"
      },
      "outputs": [],
      "source": [
        "by_year.count().plot()"
      ]
    },
    {
      "cell_type": "code",
      "execution_count": null,
      "metadata": {
        "id": "hQSqRqBskjRK"
      },
      "outputs": [],
      "source": [
        "by_year.count().head()"
      ]
    },
    {
      "cell_type": "code",
      "execution_count": null,
      "metadata": {
        "id": "wvcvxbJmkjRK"
      },
      "outputs": [],
      "source": [
        "condemn.groupby(pd.Grouper(key=\"InspectDate\", freq='Q')).count().plot()"
      ]
    },
    {
      "cell_type": "code",
      "execution_count": null,
      "metadata": {
        "id": "PrT3yRt8kjRK"
      },
      "outputs": [],
      "source": [
        "condemn.groupby(\"InspectDate\").count().plot()"
      ]
    },
    {
      "cell_type": "code",
      "execution_count": null,
      "metadata": {
        "id": "Mfc1Lbt7kjRK"
      },
      "outputs": [],
      "source": []
    }
  ],
  "metadata": {
    "kernelspec": {
      "display_name": "Python 3",
      "language": "python",
      "name": "python3"
    },
    "language_info": {
      "codemirror_mode": {
        "name": "ipython",
        "version": 3
      },
      "file_extension": ".py",
      "mimetype": "text/x-python",
      "name": "python",
      "nbconvert_exporter": "python",
      "pygments_lexer": "ipython3",
      "version": "3.9.18"
    },
    "colab": {
      "provenance": []
    }
  },
  "nbformat": 4,
  "nbformat_minor": 0
}